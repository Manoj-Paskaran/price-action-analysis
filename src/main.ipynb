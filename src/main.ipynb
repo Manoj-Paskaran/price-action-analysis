{
 "cells": [
  {
   "cell_type": "code",
   "execution_count": 86,
   "id": "b014e27c",
   "metadata": {},
   "outputs": [],
   "source": [
    "import numpy as np\n",
    "import pandas as pd\n",
    "import plotly as pt\n",
    "import plotly.express as px\n",
    "import yfinance as yf"
   ]
  },
  {
   "cell_type": "code",
   "execution_count": 87,
   "id": "0f90ce8d",
   "metadata": {},
   "outputs": [
    {
     "name": "stdout",
     "output_type": "stream",
     "text": [
      "3.12.11 (main, Jul  8 2025, 20:59:33) [Clang 20.1.4 ]\n",
      "2.3.1\n",
      "0.2.65\n",
      "6.2.0\n"
     ]
    }
   ],
   "source": [
    "import sys\n",
    "\n",
    "print(sys.version)\n",
    "print(pd.__version__)\n",
    "print(yf.__version__)\n",
    "print(pt.__version__)"
   ]
  },
  {
   "cell_type": "code",
   "execution_count": 88,
   "id": "26745757",
   "metadata": {},
   "outputs": [],
   "source": [
    "MONTHS = [\n",
    "    \"Jan\",\n",
    "    \"Feb\",\n",
    "    \"Mar\",\n",
    "    \"Apr\",\n",
    "    \"May\",\n",
    "    \"Jun\",\n",
    "    \"Jul\",\n",
    "    \"Aug\",\n",
    "    \"Sep\",\n",
    "    \"Oct\",\n",
    "    \"Nov\",\n",
    "    \"Dec\",\n",
    "]\n",
    "\n",
    "STOCKS = [\n",
    "    \"^CNXREALTY\",  # NIFTY REALTY\n",
    "    \"ANANTRAJ.NS\",\n",
    "    \"BRIGADE.NS\",\n",
    "    \"DLF.NS\",\n",
    "    \"SOBHA.NS\",\n",
    "    \"RAYMOND.NS\",\n",
    "    \"PHOENIXLTD.NS\",\n",
    "    \"PRESTIGE.NS\",\n",
    "    \"LODHA.NS\",\n",
    "    \"GODREJPROP.NS\",\n",
    "    \"OBEROIRLTY.NS\",\n",
    "]\n"
   ]
  },
  {
   "cell_type": "code",
   "execution_count": null,
   "id": "2c2f7637",
   "metadata": {},
   "outputs": [],
   "source": [
    "def calc_annual_return(monthly_returns: pd.Series):\n",
    "    return monthly_returns.add(1, fill_value=0.0).prod() - 1.0  # type: ignore\n",
    "\n",
    "\n",
    "def add_monthly_contributions(df: pd.DataFrame):\n",
    "    def get_monthly_contrib(monthly_series: pd.Series):\n",
    "        return np.log1p(monthly_series[MONTHS]) / np.log1p(\n",
    "            monthly_series[\"annual_returns\"]\n",
    "        )\n",
    "\n",
    "    contrib = df.apply(get_monthly_contrib, axis=1).add_suffix(\"_contrib\")\n",
    "    return df.join(contrib)\n",
    "\n",
    "\n",
    "def add_avg_monthly_return(df: pd.DataFrame):\n",
    "    avg_monthly_returns = (\n",
    "        df[MONTHS].mean(axis=0).rename(\"monthly_avg\").to_frame().transpose()\n",
    "    )\n",
    "    return pd.concat([df, avg_monthly_returns])\n",
    "\n",
    "\n",
    "def get_monthly_analysis(stock_data: pd.Series) -> pd.DataFrame:\n",
    "    return (\n",
    "        stock_data.to_frame(\"close\")\n",
    "        .resample(\"ME\")\n",
    "        .last()\n",
    "        .assign(\n",
    "            month=lambda df_: df_.index.strftime(\"%b\"),  # type: ignore\n",
    "            year=lambda df_: df_.index.strftime(\"%Y\"),  # type: ignore\n",
    "            monthly_returns=lambda df_: df_[\"close\"].pct_change(),\n",
    "        )\n",
    "        .astype({\"month\": pd.CategoricalDtype(MONTHS, ordered=True)})\n",
    "        .pivot_table(\n",
    "            index=\"year\", columns=\"month\", values=\"monthly_returns\", observed=True\n",
    "        )\n",
    "        .assign(\n",
    "            annual_returns=lambda df_: df_.loc[:, \"Jan\":\"Dec\"].agg(\n",
    "                calc_annual_return, axis=1\n",
    "            ),\n",
    "            first_half_avg=lambda df_: df_.loc[:, \"Jan\":\"Jun\"].mean(axis=1),\n",
    "            second_half_avg=lambda df_: df_.loc[:, \"Jul\":\"Dec\"].mean(axis=1),\n",
    "        )\n",
    "        .pipe(add_monthly_contributions)\n",
    "        .pipe(add_avg_monthly_return)\n",
    "    )\n",
    "\n",
    "\n",
    "def format_analysis(analysis: pd.DataFrame) -> pd.DataFrame:\n",
    "    return (\n",
    "        analysis[\n",
    "            [\n",
    "                *MONTHS[:6],\n",
    "                \"first_half_avg\",\n",
    "                *MONTHS[6:],\n",
    "                \"second_half_avg\",\n",
    "                \"annual_returns\",\n",
    "                *[f\"{month}_contrib\" for month in MONTHS],\n",
    "            ]\n",
    "        ]\n",
    "        .rename(\n",
    "            columns={\n",
    "                \"annual_returns\": \"Total Annual Returns\",\n",
    "                \"first_half_avg\": \"Avg returns till June\",\n",
    "                \"second_half_avg\": \"Avg returns after June\",\n",
    "                **{f\"{month}_contrib\": f\"{month} Contribution\" for month in MONTHS},\n",
    "            },\n",
    "            index={\n",
    "                \"monthly_avg\": \"Avg Monthly Returns\",\n",
    "            },\n",
    "        )\n",
    "        .mul(100)\n",
    "        .round(2)\n",
    "    )\n",
    "\n",
    "\n",
    "def download_stock_data(stock: str) -> pd.Series:\n",
    "    stock_data = yf.download(\n",
    "        stock,\n",
    "        period=\"max\",\n",
    "        multi_level_index=False,\n",
    "        auto_adjust=True,\n",
    "    )[\"Close\"]  # type: ignore\n",
    "\n",
    "    return stock_data\n",
    "\n",
    "\n",
    "def convert_to_csv(stocks):\n",
    "    for stock in stocks:\n",
    "        stock_data = download_stock_data(stock)\n",
    "        analysis = get_monthly_analysis(stock_data)\n",
    "        formatted_analysis = format_analysis(analysis)\n",
    "        formatted_analysis.to_csv(\n",
    "            f\"../data/{stock}_analysis.csv\",\n",
    "            index=True,\n",
    "        )\n",
    "        print(f\"Analysis saved to {stock}_analysis.csv\")\n",
    "\n",
    "\n",
    "def convert_to_excel(stocks):\n",
    "    with pd.ExcelWriter(\n",
    "        \"../data/price_action_analysis.xlsx\", engine=\"xlsxwriter\"\n",
    "    ) as writer:\n",
    "        for stock in stocks:\n",
    "            stock_data = download_stock_data(stock)\n",
    "            analysis = get_monthly_analysis(stock_data)\n",
    "            formatted_analysis = format_analysis(analysis)\n",
    "            formatted_analysis.to_excel(writer, index=True, sheet_name=stock[:31])\n",
    "    print(\"Analysis saved to ../data/price_action_analysis.xlsx\")\n",
    "\n",
    "\n",
    "def generate_heatmap(stock: str, stock_data: pd.Series | None = None):\n",
    "    if stock_data is None:\n",
    "        stock_data = download_stock_data(stock)\n",
    "\n",
    "    res = (\n",
    "        stock_data.to_frame(\"close\")\n",
    "        .resample(\"ME\")\n",
    "        .last()\n",
    "        .assign(\n",
    "            month=lambda df_: df_.index.strftime(\"%b\"),  # type: ignore\n",
    "            year=lambda df_: df_.index.strftime(\"%Y\"),  # type: ignore\n",
    "            monthly_returns=lambda df_: df_[\"close\"].pct_change(),\n",
    "        )\n",
    "        .astype({\"month\": pd.CategoricalDtype(MONTHS, ordered=True)})\n",
    "        .pivot_table(\n",
    "            index=\"year\", columns=\"month\", values=\"monthly_returns\", observed=True\n",
    "        )\n",
    "        .mul(100)\n",
    "        .round(2)\n",
    "    )\n",
    "\n",
    "    fig = px.imshow(\n",
    "        res,\n",
    "        color_continuous_scale=\"RdYlGn\",\n",
    "        origin=\"upper\",\n",
    "        aspect=\"auto\",\n",
    "        text_auto=\".2f\",\n",
    "        labels=dict(month=\"Month\", year=\"Year\", color=\"Return (%)\"),\n",
    "    )\n",
    "    fig.update_xaxes(title=\"\")\n",
    "    fig.update_yaxes(title=\"Year\")\n",
    "    fig.update_layout(\n",
    "        title=f\"Historical Monthly Returns of the {stock}\",\n",
    "        coloraxis_colorbar_ticksuffix=\"%\",\n",
    "    )\n",
    "    return fig\n"
   ]
  },
  {
   "cell_type": "code",
   "execution_count": 90,
   "id": "4a98e726",
   "metadata": {},
   "outputs": [
    {
     "name": "stderr",
     "output_type": "stream",
     "text": [
      "[*********************100%***********************]  1 of 1 completed\n"
     ]
    }
   ],
   "source": [
    "stock_data = download_stock_data(STOCKS[0])\n",
    "# analysis = get_monthly_analysis(stock_data)\n",
    "# ft = format_analysis(analysis)\n",
    "# convert_to_csv(stocks)\n",
    "# convert_to_excel(stocks)"
   ]
  },
  {
   "cell_type": "code",
   "execution_count": null,
   "id": "88e84c1f",
   "metadata": {},
   "outputs": [
    {
     "data": {
      "text/html": [
       "<div>\n",
       "<style scoped>\n",
       "    .dataframe tbody tr th:only-of-type {\n",
       "        vertical-align: middle;\n",
       "    }\n",
       "\n",
       "    .dataframe tbody tr th {\n",
       "        vertical-align: top;\n",
       "    }\n",
       "\n",
       "    .dataframe thead th {\n",
       "        text-align: right;\n",
       "    }\n",
       "</style>\n",
       "<table border=\"1\" class=\"dataframe\">\n",
       "  <thead>\n",
       "    <tr style=\"text-align: right;\">\n",
       "      <th></th>\n",
       "      <th>month</th>\n",
       "      <th>monthly_avg</th>\n",
       "    </tr>\n",
       "  </thead>\n",
       "  <tbody>\n",
       "    <tr>\n",
       "      <th>0</th>\n",
       "      <td>Jan</td>\n",
       "      <td>0.20</td>\n",
       "    </tr>\n",
       "    <tr>\n",
       "      <th>1</th>\n",
       "      <td>Feb</td>\n",
       "      <td>-2.60</td>\n",
       "    </tr>\n",
       "    <tr>\n",
       "      <th>2</th>\n",
       "      <td>Mar</td>\n",
       "      <td>0.84</td>\n",
       "    </tr>\n",
       "    <tr>\n",
       "      <th>3</th>\n",
       "      <td>Apr</td>\n",
       "      <td>2.77</td>\n",
       "    </tr>\n",
       "    <tr>\n",
       "      <th>4</th>\n",
       "      <td>May</td>\n",
       "      <td>2.32</td>\n",
       "    </tr>\n",
       "    <tr>\n",
       "      <th>5</th>\n",
       "      <td>Jun</td>\n",
       "      <td>1.78</td>\n",
       "    </tr>\n",
       "    <tr>\n",
       "      <th>6</th>\n",
       "      <td>Jul</td>\n",
       "      <td>0.95</td>\n",
       "    </tr>\n",
       "    <tr>\n",
       "      <th>7</th>\n",
       "      <td>Aug</td>\n",
       "      <td>-3.27</td>\n",
       "    </tr>\n",
       "    <tr>\n",
       "      <th>8</th>\n",
       "      <td>Sep</td>\n",
       "      <td>2.78</td>\n",
       "    </tr>\n",
       "    <tr>\n",
       "      <th>9</th>\n",
       "      <td>Oct</td>\n",
       "      <td>2.43</td>\n",
       "    </tr>\n",
       "    <tr>\n",
       "      <th>10</th>\n",
       "      <td>Nov</td>\n",
       "      <td>1.17</td>\n",
       "    </tr>\n",
       "    <tr>\n",
       "      <th>11</th>\n",
       "      <td>Dec</td>\n",
       "      <td>1.97</td>\n",
       "    </tr>\n",
       "  </tbody>\n",
       "</table>\n",
       "</div>"
      ],
      "text/plain": [
       "   month  monthly_avg\n",
       "0    Jan         0.20\n",
       "1    Feb        -2.60\n",
       "2    Mar         0.84\n",
       "3    Apr         2.77\n",
       "4    May         2.32\n",
       "5    Jun         1.78\n",
       "6    Jul         0.95\n",
       "7    Aug        -3.27\n",
       "8    Sep         2.78\n",
       "9    Oct         2.43\n",
       "10   Nov         1.17\n",
       "11   Dec         1.97"
      ]
     },
     "execution_count": 95,
     "metadata": {},
     "output_type": "execute_result"
    }
   ],
   "source": [
    "res = (\n",
    "    get_monthly_analysis(stock_data)\n",
    "    .mul(100).round(2)\n",
    "    .loc[\"monthly_avg\", MONTHS]\n",
    ")\n",
    "\n",
    "fig = px.bar(\n",
    "    x=res.index,\n",
    "    y=res.values,\n",
    "    color=res.values\n",
    "    )\n",
    "# fig\n",
    "res"
   ]
  },
  {
   "cell_type": "code",
   "execution_count": null,
   "id": "0577cc02",
   "metadata": {},
   "outputs": [
    {
     "name": "stderr",
     "output_type": "stream",
     "text": [
      "[*********************100%***********************]  1 of 1 completed\n"
     ]
    },
    {
     "data": {
      "application/vnd.plotly.v1+json": {
       "config": {
        "plotlyServerURL": "https://plot.ly"
       },
       "data": [
        {
         "coloraxis": "coloraxis",
         "hovertemplate": "month: %{x}<br>year: %{y}<br>Return (%): %{z}<extra></extra>",
         "name": "0",
         "texttemplate": "%{z:.2f}",
         "type": "heatmap",
         "x": [
          "Jan",
          "Feb",
          "Mar",
          "Apr",
          "May",
          "Jun",
          "Jul",
          "Aug",
          "Sep",
          "Oct",
          "Nov",
          "Dec"
         ],
         "xaxis": "x",
         "y": [
          "2010",
          "2011",
          "2012",
          "2013",
          "2014",
          "2015",
          "2016",
          "2017",
          "2018",
          "2019",
          "2020",
          "2021",
          "2022",
          "2023",
          "2024",
          "2025"
         ],
         "yaxis": "y",
         "z": {
          "bdata": "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",
          "dtype": "f8",
          "shape": "16, 12"
         }
        }
       ],
       "layout": {
        "coloraxis": {
         "colorbar": {
          "ticksuffix": "%",
          "title": {
           "text": "Return (%)"
          }
         },
         "colorscale": [
          [
           0,
           "rgb(165,0,38)"
          ],
          [
           0.1,
           "rgb(215,48,39)"
          ],
          [
           0.2,
           "rgb(244,109,67)"
          ],
          [
           0.3,
           "rgb(253,174,97)"
          ],
          [
           0.4,
           "rgb(254,224,139)"
          ],
          [
           0.5,
           "rgb(255,255,191)"
          ],
          [
           0.6,
           "rgb(217,239,139)"
          ],
          [
           0.7,
           "rgb(166,217,106)"
          ],
          [
           0.8,
           "rgb(102,189,99)"
          ],
          [
           0.9,
           "rgb(26,152,80)"
          ],
          [
           1,
           "rgb(0,104,55)"
          ]
         ]
        },
        "margin": {
         "t": 60
        },
        "template": {
         "data": {
          "bar": [
           {
            "error_x": {
             "color": "#2a3f5f"
            },
            "error_y": {
             "color": "#2a3f5f"
            },
            "marker": {
             "line": {
              "color": "#E5ECF6",
              "width": 0.5
             },
             "pattern": {
              "fillmode": "overlay",
              "size": 10,
              "solidity": 0.2
             }
            },
            "type": "bar"
           }
          ],
          "barpolar": [
           {
            "marker": {
             "line": {
              "color": "#E5ECF6",
              "width": 0.5
             },
             "pattern": {
              "fillmode": "overlay",
              "size": 10,
              "solidity": 0.2
             }
            },
            "type": "barpolar"
           }
          ],
          "carpet": [
           {
            "aaxis": {
             "endlinecolor": "#2a3f5f",
             "gridcolor": "white",
             "linecolor": "white",
             "minorgridcolor": "white",
             "startlinecolor": "#2a3f5f"
            },
            "baxis": {
             "endlinecolor": "#2a3f5f",
             "gridcolor": "white",
             "linecolor": "white",
             "minorgridcolor": "white",
             "startlinecolor": "#2a3f5f"
            },
            "type": "carpet"
           }
          ],
          "choropleth": [
           {
            "colorbar": {
             "outlinewidth": 0,
             "ticks": ""
            },
            "type": "choropleth"
           }
          ],
          "contour": [
           {
            "colorbar": {
             "outlinewidth": 0,
             "ticks": ""
            },
            "colorscale": [
             [
              0,
              "#0d0887"
             ],
             [
              0.1111111111111111,
              "#46039f"
             ],
             [
              0.2222222222222222,
              "#7201a8"
             ],
             [
              0.3333333333333333,
              "#9c179e"
             ],
             [
              0.4444444444444444,
              "#bd3786"
             ],
             [
              0.5555555555555556,
              "#d8576b"
             ],
             [
              0.6666666666666666,
              "#ed7953"
             ],
             [
              0.7777777777777778,
              "#fb9f3a"
             ],
             [
              0.8888888888888888,
              "#fdca26"
             ],
             [
              1,
              "#f0f921"
             ]
            ],
            "type": "contour"
           }
          ],
          "contourcarpet": [
           {
            "colorbar": {
             "outlinewidth": 0,
             "ticks": ""
            },
            "type": "contourcarpet"
           }
          ],
          "heatmap": [
           {
            "colorbar": {
             "outlinewidth": 0,
             "ticks": ""
            },
            "colorscale": [
             [
              0,
              "#0d0887"
             ],
             [
              0.1111111111111111,
              "#46039f"
             ],
             [
              0.2222222222222222,
              "#7201a8"
             ],
             [
              0.3333333333333333,
              "#9c179e"
             ],
             [
              0.4444444444444444,
              "#bd3786"
             ],
             [
              0.5555555555555556,
              "#d8576b"
             ],
             [
              0.6666666666666666,
              "#ed7953"
             ],
             [
              0.7777777777777778,
              "#fb9f3a"
             ],
             [
              0.8888888888888888,
              "#fdca26"
             ],
             [
              1,
              "#f0f921"
             ]
            ],
            "type": "heatmap"
           }
          ],
          "histogram": [
           {
            "marker": {
             "pattern": {
              "fillmode": "overlay",
              "size": 10,
              "solidity": 0.2
             }
            },
            "type": "histogram"
           }
          ],
          "histogram2d": [
           {
            "colorbar": {
             "outlinewidth": 0,
             "ticks": ""
            },
            "colorscale": [
             [
              0,
              "#0d0887"
             ],
             [
              0.1111111111111111,
              "#46039f"
             ],
             [
              0.2222222222222222,
              "#7201a8"
             ],
             [
              0.3333333333333333,
              "#9c179e"
             ],
             [
              0.4444444444444444,
              "#bd3786"
             ],
             [
              0.5555555555555556,
              "#d8576b"
             ],
             [
              0.6666666666666666,
              "#ed7953"
             ],
             [
              0.7777777777777778,
              "#fb9f3a"
             ],
             [
              0.8888888888888888,
              "#fdca26"
             ],
             [
              1,
              "#f0f921"
             ]
            ],
            "type": "histogram2d"
           }
          ],
          "histogram2dcontour": [
           {
            "colorbar": {
             "outlinewidth": 0,
             "ticks": ""
            },
            "colorscale": [
             [
              0,
              "#0d0887"
             ],
             [
              0.1111111111111111,
              "#46039f"
             ],
             [
              0.2222222222222222,
              "#7201a8"
             ],
             [
              0.3333333333333333,
              "#9c179e"
             ],
             [
              0.4444444444444444,
              "#bd3786"
             ],
             [
              0.5555555555555556,
              "#d8576b"
             ],
             [
              0.6666666666666666,
              "#ed7953"
             ],
             [
              0.7777777777777778,
              "#fb9f3a"
             ],
             [
              0.8888888888888888,
              "#fdca26"
             ],
             [
              1,
              "#f0f921"
             ]
            ],
            "type": "histogram2dcontour"
           }
          ],
          "mesh3d": [
           {
            "colorbar": {
             "outlinewidth": 0,
             "ticks": ""
            },
            "type": "mesh3d"
           }
          ],
          "parcoords": [
           {
            "line": {
             "colorbar": {
              "outlinewidth": 0,
              "ticks": ""
             }
            },
            "type": "parcoords"
           }
          ],
          "pie": [
           {
            "automargin": true,
            "type": "pie"
           }
          ],
          "scatter": [
           {
            "fillpattern": {
             "fillmode": "overlay",
             "size": 10,
             "solidity": 0.2
            },
            "type": "scatter"
           }
          ],
          "scatter3d": [
           {
            "line": {
             "colorbar": {
              "outlinewidth": 0,
              "ticks": ""
             }
            },
            "marker": {
             "colorbar": {
              "outlinewidth": 0,
              "ticks": ""
             }
            },
            "type": "scatter3d"
           }
          ],
          "scattercarpet": [
           {
            "marker": {
             "colorbar": {
              "outlinewidth": 0,
              "ticks": ""
             }
            },
            "type": "scattercarpet"
           }
          ],
          "scattergeo": [
           {
            "marker": {
             "colorbar": {
              "outlinewidth": 0,
              "ticks": ""
             }
            },
            "type": "scattergeo"
           }
          ],
          "scattergl": [
           {
            "marker": {
             "colorbar": {
              "outlinewidth": 0,
              "ticks": ""
             }
            },
            "type": "scattergl"
           }
          ],
          "scattermap": [
           {
            "marker": {
             "colorbar": {
              "outlinewidth": 0,
              "ticks": ""
             }
            },
            "type": "scattermap"
           }
          ],
          "scattermapbox": [
           {
            "marker": {
             "colorbar": {
              "outlinewidth": 0,
              "ticks": ""
             }
            },
            "type": "scattermapbox"
           }
          ],
          "scatterpolar": [
           {
            "marker": {
             "colorbar": {
              "outlinewidth": 0,
              "ticks": ""
             }
            },
            "type": "scatterpolar"
           }
          ],
          "scatterpolargl": [
           {
            "marker": {
             "colorbar": {
              "outlinewidth": 0,
              "ticks": ""
             }
            },
            "type": "scatterpolargl"
           }
          ],
          "scatterternary": [
           {
            "marker": {
             "colorbar": {
              "outlinewidth": 0,
              "ticks": ""
             }
            },
            "type": "scatterternary"
           }
          ],
          "surface": [
           {
            "colorbar": {
             "outlinewidth": 0,
             "ticks": ""
            },
            "colorscale": [
             [
              0,
              "#0d0887"
             ],
             [
              0.1111111111111111,
              "#46039f"
             ],
             [
              0.2222222222222222,
              "#7201a8"
             ],
             [
              0.3333333333333333,
              "#9c179e"
             ],
             [
              0.4444444444444444,
              "#bd3786"
             ],
             [
              0.5555555555555556,
              "#d8576b"
             ],
             [
              0.6666666666666666,
              "#ed7953"
             ],
             [
              0.7777777777777778,
              "#fb9f3a"
             ],
             [
              0.8888888888888888,
              "#fdca26"
             ],
             [
              1,
              "#f0f921"
             ]
            ],
            "type": "surface"
           }
          ],
          "table": [
           {
            "cells": {
             "fill": {
              "color": "#EBF0F8"
             },
             "line": {
              "color": "white"
             }
            },
            "header": {
             "fill": {
              "color": "#C8D4E3"
             },
             "line": {
              "color": "white"
             }
            },
            "type": "table"
           }
          ]
         },
         "layout": {
          "annotationdefaults": {
           "arrowcolor": "#2a3f5f",
           "arrowhead": 0,
           "arrowwidth": 1
          },
          "autotypenumbers": "strict",
          "coloraxis": {
           "colorbar": {
            "outlinewidth": 0,
            "ticks": ""
           }
          },
          "colorscale": {
           "diverging": [
            [
             0,
             "#8e0152"
            ],
            [
             0.1,
             "#c51b7d"
            ],
            [
             0.2,
             "#de77ae"
            ],
            [
             0.3,
             "#f1b6da"
            ],
            [
             0.4,
             "#fde0ef"
            ],
            [
             0.5,
             "#f7f7f7"
            ],
            [
             0.6,
             "#e6f5d0"
            ],
            [
             0.7,
             "#b8e186"
            ],
            [
             0.8,
             "#7fbc41"
            ],
            [
             0.9,
             "#4d9221"
            ],
            [
             1,
             "#276419"
            ]
           ],
           "sequential": [
            [
             0,
             "#0d0887"
            ],
            [
             0.1111111111111111,
             "#46039f"
            ],
            [
             0.2222222222222222,
             "#7201a8"
            ],
            [
             0.3333333333333333,
             "#9c179e"
            ],
            [
             0.4444444444444444,
             "#bd3786"
            ],
            [
             0.5555555555555556,
             "#d8576b"
            ],
            [
             0.6666666666666666,
             "#ed7953"
            ],
            [
             0.7777777777777778,
             "#fb9f3a"
            ],
            [
             0.8888888888888888,
             "#fdca26"
            ],
            [
             1,
             "#f0f921"
            ]
           ],
           "sequentialminus": [
            [
             0,
             "#0d0887"
            ],
            [
             0.1111111111111111,
             "#46039f"
            ],
            [
             0.2222222222222222,
             "#7201a8"
            ],
            [
             0.3333333333333333,
             "#9c179e"
            ],
            [
             0.4444444444444444,
             "#bd3786"
            ],
            [
             0.5555555555555556,
             "#d8576b"
            ],
            [
             0.6666666666666666,
             "#ed7953"
            ],
            [
             0.7777777777777778,
             "#fb9f3a"
            ],
            [
             0.8888888888888888,
             "#fdca26"
            ],
            [
             1,
             "#f0f921"
            ]
           ]
          },
          "colorway": [
           "#636efa",
           "#EF553B",
           "#00cc96",
           "#ab63fa",
           "#FFA15A",
           "#19d3f3",
           "#FF6692",
           "#B6E880",
           "#FF97FF",
           "#FECB52"
          ],
          "font": {
           "color": "#2a3f5f"
          },
          "geo": {
           "bgcolor": "white",
           "lakecolor": "white",
           "landcolor": "#E5ECF6",
           "showlakes": true,
           "showland": true,
           "subunitcolor": "white"
          },
          "hoverlabel": {
           "align": "left"
          },
          "hovermode": "closest",
          "mapbox": {
           "style": "light"
          },
          "paper_bgcolor": "white",
          "plot_bgcolor": "#E5ECF6",
          "polar": {
           "angularaxis": {
            "gridcolor": "white",
            "linecolor": "white",
            "ticks": ""
           },
           "bgcolor": "#E5ECF6",
           "radialaxis": {
            "gridcolor": "white",
            "linecolor": "white",
            "ticks": ""
           }
          },
          "scene": {
           "xaxis": {
            "backgroundcolor": "#E5ECF6",
            "gridcolor": "white",
            "gridwidth": 2,
            "linecolor": "white",
            "showbackground": true,
            "ticks": "",
            "zerolinecolor": "white"
           },
           "yaxis": {
            "backgroundcolor": "#E5ECF6",
            "gridcolor": "white",
            "gridwidth": 2,
            "linecolor": "white",
            "showbackground": true,
            "ticks": "",
            "zerolinecolor": "white"
           },
           "zaxis": {
            "backgroundcolor": "#E5ECF6",
            "gridcolor": "white",
            "gridwidth": 2,
            "linecolor": "white",
            "showbackground": true,
            "ticks": "",
            "zerolinecolor": "white"
           }
          },
          "shapedefaults": {
           "line": {
            "color": "#2a3f5f"
           }
          },
          "ternary": {
           "aaxis": {
            "gridcolor": "white",
            "linecolor": "white",
            "ticks": ""
           },
           "baxis": {
            "gridcolor": "white",
            "linecolor": "white",
            "ticks": ""
           },
           "bgcolor": "#E5ECF6",
           "caxis": {
            "gridcolor": "white",
            "linecolor": "white",
            "ticks": ""
           }
          },
          "title": {
           "x": 0.05
          },
          "xaxis": {
           "automargin": true,
           "gridcolor": "white",
           "linecolor": "white",
           "ticks": "",
           "title": {
            "standoff": 15
           },
           "zerolinecolor": "white",
           "zerolinewidth": 2
          },
          "yaxis": {
           "automargin": true,
           "gridcolor": "white",
           "linecolor": "white",
           "ticks": "",
           "title": {
            "standoff": 15
           },
           "zerolinecolor": "white",
           "zerolinewidth": 2
          }
         }
        },
        "title": {
         "text": "Historical Monthly Returns of the ^CNXREALTY"
        },
        "xaxis": {
         "anchor": "y",
         "domain": [
          0,
          1
         ],
         "title": {
          "text": ""
         }
        },
        "yaxis": {
         "anchor": "x",
         "autorange": "reversed",
         "domain": [
          0,
          1
         ],
         "title": {
          "text": "Year"
         }
        }
       }
      }
     },
     "metadata": {},
     "output_type": "display_data"
    },
    {
     "name": "stderr",
     "output_type": "stream",
     "text": [
      "[*********************100%***********************]  1 of 1 completed\n"
     ]
    },
    {
     "data": {
      "application/vnd.plotly.v1+json": {
       "config": {
        "plotlyServerURL": "https://plot.ly"
       },
       "data": [
        {
         "coloraxis": "coloraxis",
         "hovertemplate": "month: %{x}<br>year: %{y}<br>Return (%): %{z}<extra></extra>",
         "name": "0",
         "texttemplate": "%{z:.2f}",
         "type": "heatmap",
         "x": [
          "Jan",
          "Feb",
          "Mar",
          "Apr",
          "May",
          "Jun",
          "Jul",
          "Aug",
          "Sep",
          "Oct",
          "Nov",
          "Dec"
         ],
         "xaxis": "x",
         "y": [
          "2006",
          "2007",
          "2008",
          "2009",
          "2010",
          "2011",
          "2012",
          "2013",
          "2014",
          "2015",
          "2016",
          "2017",
          "2018",
          "2019",
          "2020",
          "2021",
          "2022",
          "2023",
          "2024",
          "2025"
         ],
         "yaxis": "y",
         "z": {
          "bdata": "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",
          "dtype": "f8",
          "shape": "20, 12"
         }
        }
       ],
       "layout": {
        "coloraxis": {
         "colorbar": {
          "ticksuffix": "%",
          "title": {
           "text": "Return (%)"
          }
         },
         "colorscale": [
          [
           0,
           "rgb(165,0,38)"
          ],
          [
           0.1,
           "rgb(215,48,39)"
          ],
          [
           0.2,
           "rgb(244,109,67)"
          ],
          [
           0.3,
           "rgb(253,174,97)"
          ],
          [
           0.4,
           "rgb(254,224,139)"
          ],
          [
           0.5,
           "rgb(255,255,191)"
          ],
          [
           0.6,
           "rgb(217,239,139)"
          ],
          [
           0.7,
           "rgb(166,217,106)"
          ],
          [
           0.8,
           "rgb(102,189,99)"
          ],
          [
           0.9,
           "rgb(26,152,80)"
          ],
          [
           1,
           "rgb(0,104,55)"
          ]
         ]
        },
        "margin": {
         "t": 60
        },
        "template": {
         "data": {
          "bar": [
           {
            "error_x": {
             "color": "#2a3f5f"
            },
            "error_y": {
             "color": "#2a3f5f"
            },
            "marker": {
             "line": {
              "color": "#E5ECF6",
              "width": 0.5
             },
             "pattern": {
              "fillmode": "overlay",
              "size": 10,
              "solidity": 0.2
             }
            },
            "type": "bar"
           }
          ],
          "barpolar": [
           {
            "marker": {
             "line": {
              "color": "#E5ECF6",
              "width": 0.5
             },
             "pattern": {
              "fillmode": "overlay",
              "size": 10,
              "solidity": 0.2
             }
            },
            "type": "barpolar"
           }
          ],
          "carpet": [
           {
            "aaxis": {
             "endlinecolor": "#2a3f5f",
             "gridcolor": "white",
             "linecolor": "white",
             "minorgridcolor": "white",
             "startlinecolor": "#2a3f5f"
            },
            "baxis": {
             "endlinecolor": "#2a3f5f",
             "gridcolor": "white",
             "linecolor": "white",
             "minorgridcolor": "white",
             "startlinecolor": "#2a3f5f"
            },
            "type": "carpet"
           }
          ],
          "choropleth": [
           {
            "colorbar": {
             "outlinewidth": 0,
             "ticks": ""
            },
            "type": "choropleth"
           }
          ],
          "contour": [
           {
            "colorbar": {
             "outlinewidth": 0,
             "ticks": ""
            },
            "colorscale": [
             [
              0,
              "#0d0887"
             ],
             [
              0.1111111111111111,
              "#46039f"
             ],
             [
              0.2222222222222222,
              "#7201a8"
             ],
             [
              0.3333333333333333,
              "#9c179e"
             ],
             [
              0.4444444444444444,
              "#bd3786"
             ],
             [
              0.5555555555555556,
              "#d8576b"
             ],
             [
              0.6666666666666666,
              "#ed7953"
             ],
             [
              0.7777777777777778,
              "#fb9f3a"
             ],
             [
              0.8888888888888888,
              "#fdca26"
             ],
             [
              1,
              "#f0f921"
             ]
            ],
            "type": "contour"
           }
          ],
          "contourcarpet": [
           {
            "colorbar": {
             "outlinewidth": 0,
             "ticks": ""
            },
            "type": "contourcarpet"
           }
          ],
          "heatmap": [
           {
            "colorbar": {
             "outlinewidth": 0,
             "ticks": ""
            },
            "colorscale": [
             [
              0,
              "#0d0887"
             ],
             [
              0.1111111111111111,
              "#46039f"
             ],
             [
              0.2222222222222222,
              "#7201a8"
             ],
             [
              0.3333333333333333,
              "#9c179e"
             ],
             [
              0.4444444444444444,
              "#bd3786"
             ],
             [
              0.5555555555555556,
              "#d8576b"
             ],
             [
              0.6666666666666666,
              "#ed7953"
             ],
             [
              0.7777777777777778,
              "#fb9f3a"
             ],
             [
              0.8888888888888888,
              "#fdca26"
             ],
             [
              1,
              "#f0f921"
             ]
            ],
            "type": "heatmap"
           }
          ],
          "histogram": [
           {
            "marker": {
             "pattern": {
              "fillmode": "overlay",
              "size": 10,
              "solidity": 0.2
             }
            },
            "type": "histogram"
           }
          ],
          "histogram2d": [
           {
            "colorbar": {
             "outlinewidth": 0,
             "ticks": ""
            },
            "colorscale": [
             [
              0,
              "#0d0887"
             ],
             [
              0.1111111111111111,
              "#46039f"
             ],
             [
              0.2222222222222222,
              "#7201a8"
             ],
             [
              0.3333333333333333,
              "#9c179e"
             ],
             [
              0.4444444444444444,
              "#bd3786"
             ],
             [
              0.5555555555555556,
              "#d8576b"
             ],
             [
              0.6666666666666666,
              "#ed7953"
             ],
             [
              0.7777777777777778,
              "#fb9f3a"
             ],
             [
              0.8888888888888888,
              "#fdca26"
             ],
             [
              1,
              "#f0f921"
             ]
            ],
            "type": "histogram2d"
           }
          ],
          "histogram2dcontour": [
           {
            "colorbar": {
             "outlinewidth": 0,
             "ticks": ""
            },
            "colorscale": [
             [
              0,
              "#0d0887"
             ],
             [
              0.1111111111111111,
              "#46039f"
             ],
             [
              0.2222222222222222,
              "#7201a8"
             ],
             [
              0.3333333333333333,
              "#9c179e"
             ],
             [
              0.4444444444444444,
              "#bd3786"
             ],
             [
              0.5555555555555556,
              "#d8576b"
             ],
             [
              0.6666666666666666,
              "#ed7953"
             ],
             [
              0.7777777777777778,
              "#fb9f3a"
             ],
             [
              0.8888888888888888,
              "#fdca26"
             ],
             [
              1,
              "#f0f921"
             ]
            ],
            "type": "histogram2dcontour"
           }
          ],
          "mesh3d": [
           {
            "colorbar": {
             "outlinewidth": 0,
             "ticks": ""
            },
            "type": "mesh3d"
           }
          ],
          "parcoords": [
           {
            "line": {
             "colorbar": {
              "outlinewidth": 0,
              "ticks": ""
             }
            },
            "type": "parcoords"
           }
          ],
          "pie": [
           {
            "automargin": true,
            "type": "pie"
           }
          ],
          "scatter": [
           {
            "fillpattern": {
             "fillmode": "overlay",
             "size": 10,
             "solidity": 0.2
            },
            "type": "scatter"
           }
          ],
          "scatter3d": [
           {
            "line": {
             "colorbar": {
              "outlinewidth": 0,
              "ticks": ""
             }
            },
            "marker": {
             "colorbar": {
              "outlinewidth": 0,
              "ticks": ""
             }
            },
            "type": "scatter3d"
           }
          ],
          "scattercarpet": [
           {
            "marker": {
             "colorbar": {
              "outlinewidth": 0,
              "ticks": ""
             }
            },
            "type": "scattercarpet"
           }
          ],
          "scattergeo": [
           {
            "marker": {
             "colorbar": {
              "outlinewidth": 0,
              "ticks": ""
             }
            },
            "type": "scattergeo"
           }
          ],
          "scattergl": [
           {
            "marker": {
             "colorbar": {
              "outlinewidth": 0,
              "ticks": ""
             }
            },
            "type": "scattergl"
           }
          ],
          "scattermap": [
           {
            "marker": {
             "colorbar": {
              "outlinewidth": 0,
              "ticks": ""
             }
            },
            "type": "scattermap"
           }
          ],
          "scattermapbox": [
           {
            "marker": {
             "colorbar": {
              "outlinewidth": 0,
              "ticks": ""
             }
            },
            "type": "scattermapbox"
           }
          ],
          "scatterpolar": [
           {
            "marker": {
             "colorbar": {
              "outlinewidth": 0,
              "ticks": ""
             }
            },
            "type": "scatterpolar"
           }
          ],
          "scatterpolargl": [
           {
            "marker": {
             "colorbar": {
              "outlinewidth": 0,
              "ticks": ""
             }
            },
            "type": "scatterpolargl"
           }
          ],
          "scatterternary": [
           {
            "marker": {
             "colorbar": {
              "outlinewidth": 0,
              "ticks": ""
             }
            },
            "type": "scatterternary"
           }
          ],
          "surface": [
           {
            "colorbar": {
             "outlinewidth": 0,
             "ticks": ""
            },
            "colorscale": [
             [
              0,
              "#0d0887"
             ],
             [
              0.1111111111111111,
              "#46039f"
             ],
             [
              0.2222222222222222,
              "#7201a8"
             ],
             [
              0.3333333333333333,
              "#9c179e"
             ],
             [
              0.4444444444444444,
              "#bd3786"
             ],
             [
              0.5555555555555556,
              "#d8576b"
             ],
             [
              0.6666666666666666,
              "#ed7953"
             ],
             [
              0.7777777777777778,
              "#fb9f3a"
             ],
             [
              0.8888888888888888,
              "#fdca26"
             ],
             [
              1,
              "#f0f921"
             ]
            ],
            "type": "surface"
           }
          ],
          "table": [
           {
            "cells": {
             "fill": {
              "color": "#EBF0F8"
             },
             "line": {
              "color": "white"
             }
            },
            "header": {
             "fill": {
              "color": "#C8D4E3"
             },
             "line": {
              "color": "white"
             }
            },
            "type": "table"
           }
          ]
         },
         "layout": {
          "annotationdefaults": {
           "arrowcolor": "#2a3f5f",
           "arrowhead": 0,
           "arrowwidth": 1
          },
          "autotypenumbers": "strict",
          "coloraxis": {
           "colorbar": {
            "outlinewidth": 0,
            "ticks": ""
           }
          },
          "colorscale": {
           "diverging": [
            [
             0,
             "#8e0152"
            ],
            [
             0.1,
             "#c51b7d"
            ],
            [
             0.2,
             "#de77ae"
            ],
            [
             0.3,
             "#f1b6da"
            ],
            [
             0.4,
             "#fde0ef"
            ],
            [
             0.5,
             "#f7f7f7"
            ],
            [
             0.6,
             "#e6f5d0"
            ],
            [
             0.7,
             "#b8e186"
            ],
            [
             0.8,
             "#7fbc41"
            ],
            [
             0.9,
             "#4d9221"
            ],
            [
             1,
             "#276419"
            ]
           ],
           "sequential": [
            [
             0,
             "#0d0887"
            ],
            [
             0.1111111111111111,
             "#46039f"
            ],
            [
             0.2222222222222222,
             "#7201a8"
            ],
            [
             0.3333333333333333,
             "#9c179e"
            ],
            [
             0.4444444444444444,
             "#bd3786"
            ],
            [
             0.5555555555555556,
             "#d8576b"
            ],
            [
             0.6666666666666666,
             "#ed7953"
            ],
            [
             0.7777777777777778,
             "#fb9f3a"
            ],
            [
             0.8888888888888888,
             "#fdca26"
            ],
            [
             1,
             "#f0f921"
            ]
           ],
           "sequentialminus": [
            [
             0,
             "#0d0887"
            ],
            [
             0.1111111111111111,
             "#46039f"
            ],
            [
             0.2222222222222222,
             "#7201a8"
            ],
            [
             0.3333333333333333,
             "#9c179e"
            ],
            [
             0.4444444444444444,
             "#bd3786"
            ],
            [
             0.5555555555555556,
             "#d8576b"
            ],
            [
             0.6666666666666666,
             "#ed7953"
            ],
            [
             0.7777777777777778,
             "#fb9f3a"
            ],
            [
             0.8888888888888888,
             "#fdca26"
            ],
            [
             1,
             "#f0f921"
            ]
           ]
          },
          "colorway": [
           "#636efa",
           "#EF553B",
           "#00cc96",
           "#ab63fa",
           "#FFA15A",
           "#19d3f3",
           "#FF6692",
           "#B6E880",
           "#FF97FF",
           "#FECB52"
          ],
          "font": {
           "color": "#2a3f5f"
          },
          "geo": {
           "bgcolor": "white",
           "lakecolor": "white",
           "landcolor": "#E5ECF6",
           "showlakes": true,
           "showland": true,
           "subunitcolor": "white"
          },
          "hoverlabel": {
           "align": "left"
          },
          "hovermode": "closest",
          "mapbox": {
           "style": "light"
          },
          "paper_bgcolor": "white",
          "plot_bgcolor": "#E5ECF6",
          "polar": {
           "angularaxis": {
            "gridcolor": "white",
            "linecolor": "white",
            "ticks": ""
           },
           "bgcolor": "#E5ECF6",
           "radialaxis": {
            "gridcolor": "white",
            "linecolor": "white",
            "ticks": ""
           }
          },
          "scene": {
           "xaxis": {
            "backgroundcolor": "#E5ECF6",
            "gridcolor": "white",
            "gridwidth": 2,
            "linecolor": "white",
            "showbackground": true,
            "ticks": "",
            "zerolinecolor": "white"
           },
           "yaxis": {
            "backgroundcolor": "#E5ECF6",
            "gridcolor": "white",
            "gridwidth": 2,
            "linecolor": "white",
            "showbackground": true,
            "ticks": "",
            "zerolinecolor": "white"
           },
           "zaxis": {
            "backgroundcolor": "#E5ECF6",
            "gridcolor": "white",
            "gridwidth": 2,
            "linecolor": "white",
            "showbackground": true,
            "ticks": "",
            "zerolinecolor": "white"
           }
          },
          "shapedefaults": {
           "line": {
            "color": "#2a3f5f"
           }
          },
          "ternary": {
           "aaxis": {
            "gridcolor": "white",
            "linecolor": "white",
            "ticks": ""
           },
           "baxis": {
            "gridcolor": "white",
            "linecolor": "white",
            "ticks": ""
           },
           "bgcolor": "#E5ECF6",
           "caxis": {
            "gridcolor": "white",
            "linecolor": "white",
            "ticks": ""
           }
          },
          "title": {
           "x": 0.05
          },
          "xaxis": {
           "automargin": true,
           "gridcolor": "white",
           "linecolor": "white",
           "ticks": "",
           "title": {
            "standoff": 15
           },
           "zerolinecolor": "white",
           "zerolinewidth": 2
          },
          "yaxis": {
           "automargin": true,
           "gridcolor": "white",
           "linecolor": "white",
           "ticks": "",
           "title": {
            "standoff": 15
           },
           "zerolinecolor": "white",
           "zerolinewidth": 2
          }
         }
        },
        "title": {
         "text": "Historical Monthly Returns of the ANANTRAJ.NS"
        },
        "xaxis": {
         "anchor": "y",
         "domain": [
          0,
          1
         ],
         "title": {
          "text": ""
         }
        },
        "yaxis": {
         "anchor": "x",
         "autorange": "reversed",
         "domain": [
          0,
          1
         ],
         "title": {
          "text": "Year"
         }
        }
       }
      }
     },
     "metadata": {},
     "output_type": "display_data"
    },
    {
     "name": "stderr",
     "output_type": "stream",
     "text": [
      "[*********************100%***********************]  1 of 1 completed\n"
     ]
    },
    {
     "data": {
      "application/vnd.plotly.v1+json": {
       "config": {
        "plotlyServerURL": "https://plot.ly"
       },
       "data": [
        {
         "coloraxis": "coloraxis",
         "hovertemplate": "month: %{x}<br>year: %{y}<br>Return (%): %{z}<extra></extra>",
         "name": "0",
         "texttemplate": "%{z:.2f}",
         "type": "heatmap",
         "x": [
          "Jan",
          "Feb",
          "Mar",
          "Apr",
          "May",
          "Jun",
          "Jul",
          "Aug",
          "Sep",
          "Oct",
          "Nov",
          "Dec"
         ],
         "xaxis": "x",
         "y": [
          "2008",
          "2009",
          "2010",
          "2011",
          "2012",
          "2013",
          "2014",
          "2015",
          "2016",
          "2017",
          "2018",
          "2019",
          "2020",
          "2021",
          "2022",
          "2023",
          "2024",
          "2025"
         ],
         "yaxis": "y",
         "z": {
          "bdata": "ZmZmZmZmP8BmZmZmZmYEwEjhehSux0DA7FG4HoVrNUDD9Shcj8IgwBSuR+F6NEXAmpmZmZkZMUC4HoXrUbi+P3E9Ctej8DjAexSuR+HaTsB7FK5H4XoYQMP1KFyPQitA9ihcj8J1K8C4HoXrUTguwPYoXI/C9RxA16NwPQr3SEDNzMzMzMxXQArXo3A9yjrAuB6F61F4NkBSuB6F6xFGQFyPwvUoXAdACtejcD2KJsAfhetRuB4wQPYoXI/C9QDArkfhehSuJUAfhetRuB4NwM3MzMzMzADACtejcD0KCUDhehSuR+ETwDMzMzMzM8O/exSuR+F61D+uR+F6FK4JQArXo3A9ChhAmpmZmZmZHsDD9Shcj0IswJqZmZmZmf2/zczMzMxMMsCF61G4HoUFQB+F61G4HhnArkfhehSuC0AAAAAAAIArwOF6FK5HYSLAH4XrUbgeB8BxPQrXo3ATwFK4HoXrUei/ZmZmZmZm8r+F61G4HsUwwBSuR+F61DXAZmZmZmYmR0C4HoXrUTgkQBSuR+F6FC7Aj8L1KFyPDMCamZmZmZkowBSuR+F6FC1AFK5H4XoUKMDhehSuR+Hqv4XrUbgexTlArkfhehSuJUCuR+F6FK4nQAAAAAAAQDtAMzMzMzOzLsAzMzMzMzMnwGZmZmZmJjLAPQrXo3B9N0C4HoXrUbgGwLgehetROCfAcT0K16NwL8ApXI/C9SjwP1yPwvUoXBJA16NwPQrXG0AK16NwPQq3P0jhehSuRx5A16NwPQrXA8DXo3A9CtcbwK5H4XoULidASOF6FK5HNEDNzMzMzAw+QHsUrkfhej1AhetRuB6FFEAK16NwPQoDwNejcD0K1yxAXI/C9Shc+z/NzMzMzMwMwJqZmZmZGSJAKVyPwvWoJkCamZmZmZkXwKRwPQrXoyXAmpmZmZmZGEDsUbgehesRwEjhehSuRwtAZmZmZmZmEsBI4XoUrkcTwK5H4XoU7jFAj8L1KFyPCsBSuB6F61EYQFK4HoXrURXAUrgehetR9D97FK5H4foqwFyPwvUoXCFApHA9CtejEECkcD0K16Pov3E9CtejcB5AZmZmZmZmHkBI4XoUrkf1vxSuR+F6FP4/w/UoXI/CDUBxPQrXo/AuwJqZmZmZmfW/UrgehetRE0DNzMzMzMwhQHE9CtejkEFAexSuR+F6GUAzMzMzMzMBQJqZmZmZmQVAj8L1KFyPIEBxPQrXo3AUwD0K16NwPRfA4XoUrkfhF0BSuB6F69EtQDMzMzMzMw1AUrgehevRIsB7FK5H4Xqkv83MzMzMzCvAXI/C9ShcLUDsUbgehespwPYoXI/C9SrAZmZmZmZmHcAK16NwPQogQLgehetROCPACtejcD2KL8CPwvUoXA83QOF6FK5HYSVAhetRuB6FC8Bcj8L1KFwZwClcj8L1KDdApHA9CtcjIcAAAAAAAIAqQNejcD0K1wVAZmZmZmZmAECF61G4HgUtQFyPwvUoXB9A7FG4HoXrEMCF61G4HoXjv1yPwvUoXBpAUrgehetRI0DhehSuR+EKwNejcD0Kt0XASOF6FK5HIMCamZmZmRkwwIXrUbgexUFAexSuR+F6CkCamZmZmVk4QOxRuB6F6xrAFK5H4XoUJEDD9ShcjwI2QM3MzMzMzCtAuB6F61G4BMAzMzMzM3MzQI/C9ShcjxDAw/UoXI/CI8BI4XoUrkcLQIXrUbgeBSBApHA9CtejMEAfhetRuB4HQNejcD0KlzZA7FG4HoVrKkAAAAAAAIAgQFyPwvUoXAPAMzMzMzMz/z+PwvUoXI/ivwAAAAAAABBAH4XrUbieJ8AK16NwPQr/P3E9CtejcBHAUrgehevRJkBSuB6F61EOQBSuR+F6FOa/zczMzMzM/L9I4XoUrkcFwHE9CtejcBHAAAAAAAAA9L+4HoXrUbgYQEjhehSuRwXA7FG4HoXrFkCuR+F6FC4oQOxRuB6F6wFAw/UoXI/CCUBSuB6F61HIP9ejcD0K1xDAw/UoXI/CIEBxPQrXo1BAQLgehetRuCNAKVyPwvWoLED2KFyPwvUCwD0K16NwPRrA4XoUrkfhJECF61G4HkU4QDMzMzMzMxRAUrgehetRGsDsUbgehesQwKRwPQrXozFAj8L1KFzPMMAUrkfhehQVQMP1KFyPwsU/KVyPwvUoF8DhehSuRyEzwArXo3A9CglASOF6FK5HFUCamZmZmZkZQI/C9Shcj/Y/4XoUrkdhIsCkcD0K16MKwAAAAAAAAPh/AAAAAAAA+H8AAAAAAAD4fwAAAAAAAPh/",
          "dtype": "f8",
          "shape": "18, 12"
         }
        }
       ],
       "layout": {
        "coloraxis": {
         "colorbar": {
          "ticksuffix": "%",
          "title": {
           "text": "Return (%)"
          }
         },
         "colorscale": [
          [
           0,
           "rgb(165,0,38)"
          ],
          [
           0.1,
           "rgb(215,48,39)"
          ],
          [
           0.2,
           "rgb(244,109,67)"
          ],
          [
           0.3,
           "rgb(253,174,97)"
          ],
          [
           0.4,
           "rgb(254,224,139)"
          ],
          [
           0.5,
           "rgb(255,255,191)"
          ],
          [
           0.6,
           "rgb(217,239,139)"
          ],
          [
           0.7,
           "rgb(166,217,106)"
          ],
          [
           0.8,
           "rgb(102,189,99)"
          ],
          [
           0.9,
           "rgb(26,152,80)"
          ],
          [
           1,
           "rgb(0,104,55)"
          ]
         ]
        },
        "margin": {
         "t": 60
        },
        "template": {
         "data": {
          "bar": [
           {
            "error_x": {
             "color": "#2a3f5f"
            },
            "error_y": {
             "color": "#2a3f5f"
            },
            "marker": {
             "line": {
              "color": "#E5ECF6",
              "width": 0.5
             },
             "pattern": {
              "fillmode": "overlay",
              "size": 10,
              "solidity": 0.2
             }
            },
            "type": "bar"
           }
          ],
          "barpolar": [
           {
            "marker": {
             "line": {
              "color": "#E5ECF6",
              "width": 0.5
             },
             "pattern": {
              "fillmode": "overlay",
              "size": 10,
              "solidity": 0.2
             }
            },
            "type": "barpolar"
           }
          ],
          "carpet": [
           {
            "aaxis": {
             "endlinecolor": "#2a3f5f",
             "gridcolor": "white",
             "linecolor": "white",
             "minorgridcolor": "white",
             "startlinecolor": "#2a3f5f"
            },
            "baxis": {
             "endlinecolor": "#2a3f5f",
             "gridcolor": "white",
             "linecolor": "white",
             "minorgridcolor": "white",
             "startlinecolor": "#2a3f5f"
            },
            "type": "carpet"
           }
          ],
          "choropleth": [
           {
            "colorbar": {
             "outlinewidth": 0,
             "ticks": ""
            },
            "type": "choropleth"
           }
          ],
          "contour": [
           {
            "colorbar": {
             "outlinewidth": 0,
             "ticks": ""
            },
            "colorscale": [
             [
              0,
              "#0d0887"
             ],
             [
              0.1111111111111111,
              "#46039f"
             ],
             [
              0.2222222222222222,
              "#7201a8"
             ],
             [
              0.3333333333333333,
              "#9c179e"
             ],
             [
              0.4444444444444444,
              "#bd3786"
             ],
             [
              0.5555555555555556,
              "#d8576b"
             ],
             [
              0.6666666666666666,
              "#ed7953"
             ],
             [
              0.7777777777777778,
              "#fb9f3a"
             ],
             [
              0.8888888888888888,
              "#fdca26"
             ],
             [
              1,
              "#f0f921"
             ]
            ],
            "type": "contour"
           }
          ],
          "contourcarpet": [
           {
            "colorbar": {
             "outlinewidth": 0,
             "ticks": ""
            },
            "type": "contourcarpet"
           }
          ],
          "heatmap": [
           {
            "colorbar": {
             "outlinewidth": 0,
             "ticks": ""
            },
            "colorscale": [
             [
              0,
              "#0d0887"
             ],
             [
              0.1111111111111111,
              "#46039f"
             ],
             [
              0.2222222222222222,
              "#7201a8"
             ],
             [
              0.3333333333333333,
              "#9c179e"
             ],
             [
              0.4444444444444444,
              "#bd3786"
             ],
             [
              0.5555555555555556,
              "#d8576b"
             ],
             [
              0.6666666666666666,
              "#ed7953"
             ],
             [
              0.7777777777777778,
              "#fb9f3a"
             ],
             [
              0.8888888888888888,
              "#fdca26"
             ],
             [
              1,
              "#f0f921"
             ]
            ],
            "type": "heatmap"
           }
          ],
          "histogram": [
           {
            "marker": {
             "pattern": {
              "fillmode": "overlay",
              "size": 10,
              "solidity": 0.2
             }
            },
            "type": "histogram"
           }
          ],
          "histogram2d": [
           {
            "colorbar": {
             "outlinewidth": 0,
             "ticks": ""
            },
            "colorscale": [
             [
              0,
              "#0d0887"
             ],
             [
              0.1111111111111111,
              "#46039f"
             ],
             [
              0.2222222222222222,
              "#7201a8"
             ],
             [
              0.3333333333333333,
              "#9c179e"
             ],
             [
              0.4444444444444444,
              "#bd3786"
             ],
             [
              0.5555555555555556,
              "#d8576b"
             ],
             [
              0.6666666666666666,
              "#ed7953"
             ],
             [
              0.7777777777777778,
              "#fb9f3a"
             ],
             [
              0.8888888888888888,
              "#fdca26"
             ],
             [
              1,
              "#f0f921"
             ]
            ],
            "type": "histogram2d"
           }
          ],
          "histogram2dcontour": [
           {
            "colorbar": {
             "outlinewidth": 0,
             "ticks": ""
            },
            "colorscale": [
             [
              0,
              "#0d0887"
             ],
             [
              0.1111111111111111,
              "#46039f"
             ],
             [
              0.2222222222222222,
              "#7201a8"
             ],
             [
              0.3333333333333333,
              "#9c179e"
             ],
             [
              0.4444444444444444,
              "#bd3786"
             ],
             [
              0.5555555555555556,
              "#d8576b"
             ],
             [
              0.6666666666666666,
              "#ed7953"
             ],
             [
              0.7777777777777778,
              "#fb9f3a"
             ],
             [
              0.8888888888888888,
              "#fdca26"
             ],
             [
              1,
              "#f0f921"
             ]
            ],
            "type": "histogram2dcontour"
           }
          ],
          "mesh3d": [
           {
            "colorbar": {
             "outlinewidth": 0,
             "ticks": ""
            },
            "type": "mesh3d"
           }
          ],
          "parcoords": [
           {
            "line": {
             "colorbar": {
              "outlinewidth": 0,
              "ticks": ""
             }
            },
            "type": "parcoords"
           }
          ],
          "pie": [
           {
            "automargin": true,
            "type": "pie"
           }
          ],
          "scatter": [
           {
            "fillpattern": {
             "fillmode": "overlay",
             "size": 10,
             "solidity": 0.2
            },
            "type": "scatter"
           }
          ],
          "scatter3d": [
           {
            "line": {
             "colorbar": {
              "outlinewidth": 0,
              "ticks": ""
             }
            },
            "marker": {
             "colorbar": {
              "outlinewidth": 0,
              "ticks": ""
             }
            },
            "type": "scatter3d"
           }
          ],
          "scattercarpet": [
           {
            "marker": {
             "colorbar": {
              "outlinewidth": 0,
              "ticks": ""
             }
            },
            "type": "scattercarpet"
           }
          ],
          "scattergeo": [
           {
            "marker": {
             "colorbar": {
              "outlinewidth": 0,
              "ticks": ""
             }
            },
            "type": "scattergeo"
           }
          ],
          "scattergl": [
           {
            "marker": {
             "colorbar": {
              "outlinewidth": 0,
              "ticks": ""
             }
            },
            "type": "scattergl"
           }
          ],
          "scattermap": [
           {
            "marker": {
             "colorbar": {
              "outlinewidth": 0,
              "ticks": ""
             }
            },
            "type": "scattermap"
           }
          ],
          "scattermapbox": [
           {
            "marker": {
             "colorbar": {
              "outlinewidth": 0,
              "ticks": ""
             }
            },
            "type": "scattermapbox"
           }
          ],
          "scatterpolar": [
           {
            "marker": {
             "colorbar": {
              "outlinewidth": 0,
              "ticks": ""
             }
            },
            "type": "scatterpolar"
           }
          ],
          "scatterpolargl": [
           {
            "marker": {
             "colorbar": {
              "outlinewidth": 0,
              "ticks": ""
             }
            },
            "type": "scatterpolargl"
           }
          ],
          "scatterternary": [
           {
            "marker": {
             "colorbar": {
              "outlinewidth": 0,
              "ticks": ""
             }
            },
            "type": "scatterternary"
           }
          ],
          "surface": [
           {
            "colorbar": {
             "outlinewidth": 0,
             "ticks": ""
            },
            "colorscale": [
             [
              0,
              "#0d0887"
             ],
             [
              0.1111111111111111,
              "#46039f"
             ],
             [
              0.2222222222222222,
              "#7201a8"
             ],
             [
              0.3333333333333333,
              "#9c179e"
             ],
             [
              0.4444444444444444,
              "#bd3786"
             ],
             [
              0.5555555555555556,
              "#d8576b"
             ],
             [
              0.6666666666666666,
              "#ed7953"
             ],
             [
              0.7777777777777778,
              "#fb9f3a"
             ],
             [
              0.8888888888888888,
              "#fdca26"
             ],
             [
              1,
              "#f0f921"
             ]
            ],
            "type": "surface"
           }
          ],
          "table": [
           {
            "cells": {
             "fill": {
              "color": "#EBF0F8"
             },
             "line": {
              "color": "white"
             }
            },
            "header": {
             "fill": {
              "color": "#C8D4E3"
             },
             "line": {
              "color": "white"
             }
            },
            "type": "table"
           }
          ]
         },
         "layout": {
          "annotationdefaults": {
           "arrowcolor": "#2a3f5f",
           "arrowhead": 0,
           "arrowwidth": 1
          },
          "autotypenumbers": "strict",
          "coloraxis": {
           "colorbar": {
            "outlinewidth": 0,
            "ticks": ""
           }
          },
          "colorscale": {
           "diverging": [
            [
             0,
             "#8e0152"
            ],
            [
             0.1,
             "#c51b7d"
            ],
            [
             0.2,
             "#de77ae"
            ],
            [
             0.3,
             "#f1b6da"
            ],
            [
             0.4,
             "#fde0ef"
            ],
            [
             0.5,
             "#f7f7f7"
            ],
            [
             0.6,
             "#e6f5d0"
            ],
            [
             0.7,
             "#b8e186"
            ],
            [
             0.8,
             "#7fbc41"
            ],
            [
             0.9,
             "#4d9221"
            ],
            [
             1,
             "#276419"
            ]
           ],
           "sequential": [
            [
             0,
             "#0d0887"
            ],
            [
             0.1111111111111111,
             "#46039f"
            ],
            [
             0.2222222222222222,
             "#7201a8"
            ],
            [
             0.3333333333333333,
             "#9c179e"
            ],
            [
             0.4444444444444444,
             "#bd3786"
            ],
            [
             0.5555555555555556,
             "#d8576b"
            ],
            [
             0.6666666666666666,
             "#ed7953"
            ],
            [
             0.7777777777777778,
             "#fb9f3a"
            ],
            [
             0.8888888888888888,
             "#fdca26"
            ],
            [
             1,
             "#f0f921"
            ]
           ],
           "sequentialminus": [
            [
             0,
             "#0d0887"
            ],
            [
             0.1111111111111111,
             "#46039f"
            ],
            [
             0.2222222222222222,
             "#7201a8"
            ],
            [
             0.3333333333333333,
             "#9c179e"
            ],
            [
             0.4444444444444444,
             "#bd3786"
            ],
            [
             0.5555555555555556,
             "#d8576b"
            ],
            [
             0.6666666666666666,
             "#ed7953"
            ],
            [
             0.7777777777777778,
             "#fb9f3a"
            ],
            [
             0.8888888888888888,
             "#fdca26"
            ],
            [
             1,
             "#f0f921"
            ]
           ]
          },
          "colorway": [
           "#636efa",
           "#EF553B",
           "#00cc96",
           "#ab63fa",
           "#FFA15A",
           "#19d3f3",
           "#FF6692",
           "#B6E880",
           "#FF97FF",
           "#FECB52"
          ],
          "font": {
           "color": "#2a3f5f"
          },
          "geo": {
           "bgcolor": "white",
           "lakecolor": "white",
           "landcolor": "#E5ECF6",
           "showlakes": true,
           "showland": true,
           "subunitcolor": "white"
          },
          "hoverlabel": {
           "align": "left"
          },
          "hovermode": "closest",
          "mapbox": {
           "style": "light"
          },
          "paper_bgcolor": "white",
          "plot_bgcolor": "#E5ECF6",
          "polar": {
           "angularaxis": {
            "gridcolor": "white",
            "linecolor": "white",
            "ticks": ""
           },
           "bgcolor": "#E5ECF6",
           "radialaxis": {
            "gridcolor": "white",
            "linecolor": "white",
            "ticks": ""
           }
          },
          "scene": {
           "xaxis": {
            "backgroundcolor": "#E5ECF6",
            "gridcolor": "white",
            "gridwidth": 2,
            "linecolor": "white",
            "showbackground": true,
            "ticks": "",
            "zerolinecolor": "white"
           },
           "yaxis": {
            "backgroundcolor": "#E5ECF6",
            "gridcolor": "white",
            "gridwidth": 2,
            "linecolor": "white",
            "showbackground": true,
            "ticks": "",
            "zerolinecolor": "white"
           },
           "zaxis": {
            "backgroundcolor": "#E5ECF6",
            "gridcolor": "white",
            "gridwidth": 2,
            "linecolor": "white",
            "showbackground": true,
            "ticks": "",
            "zerolinecolor": "white"
           }
          },
          "shapedefaults": {
           "line": {
            "color": "#2a3f5f"
           }
          },
          "ternary": {
           "aaxis": {
            "gridcolor": "white",
            "linecolor": "white",
            "ticks": ""
           },
           "baxis": {
            "gridcolor": "white",
            "linecolor": "white",
            "ticks": ""
           },
           "bgcolor": "#E5ECF6",
           "caxis": {
            "gridcolor": "white",
            "linecolor": "white",
            "ticks": ""
           }
          },
          "title": {
           "x": 0.05
          },
          "xaxis": {
           "automargin": true,
           "gridcolor": "white",
           "linecolor": "white",
           "ticks": "",
           "title": {
            "standoff": 15
           },
           "zerolinecolor": "white",
           "zerolinewidth": 2
          },
          "yaxis": {
           "automargin": true,
           "gridcolor": "white",
           "linecolor": "white",
           "ticks": "",
           "title": {
            "standoff": 15
           },
           "zerolinecolor": "white",
           "zerolinewidth": 2
          }
         }
        },
        "title": {
         "text": "Historical Monthly Returns of the BRIGADE.NS"
        },
        "xaxis": {
         "anchor": "y",
         "domain": [
          0,
          1
         ],
         "title": {
          "text": ""
         }
        },
        "yaxis": {
         "anchor": "x",
         "autorange": "reversed",
         "domain": [
          0,
          1
         ],
         "title": {
          "text": "Year"
         }
        }
       }
      }
     },
     "metadata": {},
     "output_type": "display_data"
    },
    {
     "name": "stderr",
     "output_type": "stream",
     "text": [
      "[*********************100%***********************]  1 of 1 completed\n"
     ]
    },
    {
     "data": {
      "application/vnd.plotly.v1+json": {
       "config": {
        "plotlyServerURL": "https://plot.ly"
       },
       "data": [
        {
         "coloraxis": "coloraxis",
         "hovertemplate": "month: %{x}<br>year: %{y}<br>Return (%): %{z}<extra></extra>",
         "name": "0",
         "texttemplate": "%{z:.2f}",
         "type": "heatmap",
         "x": [
          "Jan",
          "Feb",
          "Mar",
          "Apr",
          "May",
          "Jun",
          "Jul",
          "Aug",
          "Sep",
          "Oct",
          "Nov",
          "Dec"
         ],
         "xaxis": "x",
         "y": [
          "2007",
          "2008",
          "2009",
          "2010",
          "2011",
          "2012",
          "2013",
          "2014",
          "2015",
          "2016",
          "2017",
          "2018",
          "2019",
          "2020",
          "2021",
          "2022",
          "2023",
          "2024",
          "2025"
         ],
         "yaxis": "y",
         "z": {
          "bdata": "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",
          "dtype": "f8",
          "shape": "19, 12"
         }
        }
       ],
       "layout": {
        "coloraxis": {
         "colorbar": {
          "ticksuffix": "%",
          "title": {
           "text": "Return (%)"
          }
         },
         "colorscale": [
          [
           0,
           "rgb(165,0,38)"
          ],
          [
           0.1,
           "rgb(215,48,39)"
          ],
          [
           0.2,
           "rgb(244,109,67)"
          ],
          [
           0.3,
           "rgb(253,174,97)"
          ],
          [
           0.4,
           "rgb(254,224,139)"
          ],
          [
           0.5,
           "rgb(255,255,191)"
          ],
          [
           0.6,
           "rgb(217,239,139)"
          ],
          [
           0.7,
           "rgb(166,217,106)"
          ],
          [
           0.8,
           "rgb(102,189,99)"
          ],
          [
           0.9,
           "rgb(26,152,80)"
          ],
          [
           1,
           "rgb(0,104,55)"
          ]
         ]
        },
        "margin": {
         "t": 60
        },
        "template": {
         "data": {
          "bar": [
           {
            "error_x": {
             "color": "#2a3f5f"
            },
            "error_y": {
             "color": "#2a3f5f"
            },
            "marker": {
             "line": {
              "color": "#E5ECF6",
              "width": 0.5
             },
             "pattern": {
              "fillmode": "overlay",
              "size": 10,
              "solidity": 0.2
             }
            },
            "type": "bar"
           }
          ],
          "barpolar": [
           {
            "marker": {
             "line": {
              "color": "#E5ECF6",
              "width": 0.5
             },
             "pattern": {
              "fillmode": "overlay",
              "size": 10,
              "solidity": 0.2
             }
            },
            "type": "barpolar"
           }
          ],
          "carpet": [
           {
            "aaxis": {
             "endlinecolor": "#2a3f5f",
             "gridcolor": "white",
             "linecolor": "white",
             "minorgridcolor": "white",
             "startlinecolor": "#2a3f5f"
            },
            "baxis": {
             "endlinecolor": "#2a3f5f",
             "gridcolor": "white",
             "linecolor": "white",
             "minorgridcolor": "white",
             "startlinecolor": "#2a3f5f"
            },
            "type": "carpet"
           }
          ],
          "choropleth": [
           {
            "colorbar": {
             "outlinewidth": 0,
             "ticks": ""
            },
            "type": "choropleth"
           }
          ],
          "contour": [
           {
            "colorbar": {
             "outlinewidth": 0,
             "ticks": ""
            },
            "colorscale": [
             [
              0,
              "#0d0887"
             ],
             [
              0.1111111111111111,
              "#46039f"
             ],
             [
              0.2222222222222222,
              "#7201a8"
             ],
             [
              0.3333333333333333,
              "#9c179e"
             ],
             [
              0.4444444444444444,
              "#bd3786"
             ],
             [
              0.5555555555555556,
              "#d8576b"
             ],
             [
              0.6666666666666666,
              "#ed7953"
             ],
             [
              0.7777777777777778,
              "#fb9f3a"
             ],
             [
              0.8888888888888888,
              "#fdca26"
             ],
             [
              1,
              "#f0f921"
             ]
            ],
            "type": "contour"
           }
          ],
          "contourcarpet": [
           {
            "colorbar": {
             "outlinewidth": 0,
             "ticks": ""
            },
            "type": "contourcarpet"
           }
          ],
          "heatmap": [
           {
            "colorbar": {
             "outlinewidth": 0,
             "ticks": ""
            },
            "colorscale": [
             [
              0,
              "#0d0887"
             ],
             [
              0.1111111111111111,
              "#46039f"
             ],
             [
              0.2222222222222222,
              "#7201a8"
             ],
             [
              0.3333333333333333,
              "#9c179e"
             ],
             [
              0.4444444444444444,
              "#bd3786"
             ],
             [
              0.5555555555555556,
              "#d8576b"
             ],
             [
              0.6666666666666666,
              "#ed7953"
             ],
             [
              0.7777777777777778,
              "#fb9f3a"
             ],
             [
              0.8888888888888888,
              "#fdca26"
             ],
             [
              1,
              "#f0f921"
             ]
            ],
            "type": "heatmap"
           }
          ],
          "histogram": [
           {
            "marker": {
             "pattern": {
              "fillmode": "overlay",
              "size": 10,
              "solidity": 0.2
             }
            },
            "type": "histogram"
           }
          ],
          "histogram2d": [
           {
            "colorbar": {
             "outlinewidth": 0,
             "ticks": ""
            },
            "colorscale": [
             [
              0,
              "#0d0887"
             ],
             [
              0.1111111111111111,
              "#46039f"
             ],
             [
              0.2222222222222222,
              "#7201a8"
             ],
             [
              0.3333333333333333,
              "#9c179e"
             ],
             [
              0.4444444444444444,
              "#bd3786"
             ],
             [
              0.5555555555555556,
              "#d8576b"
             ],
             [
              0.6666666666666666,
              "#ed7953"
             ],
             [
              0.7777777777777778,
              "#fb9f3a"
             ],
             [
              0.8888888888888888,
              "#fdca26"
             ],
             [
              1,
              "#f0f921"
             ]
            ],
            "type": "histogram2d"
           }
          ],
          "histogram2dcontour": [
           {
            "colorbar": {
             "outlinewidth": 0,
             "ticks": ""
            },
            "colorscale": [
             [
              0,
              "#0d0887"
             ],
             [
              0.1111111111111111,
              "#46039f"
             ],
             [
              0.2222222222222222,
              "#7201a8"
             ],
             [
              0.3333333333333333,
              "#9c179e"
             ],
             [
              0.4444444444444444,
              "#bd3786"
             ],
             [
              0.5555555555555556,
              "#d8576b"
             ],
             [
              0.6666666666666666,
              "#ed7953"
             ],
             [
              0.7777777777777778,
              "#fb9f3a"
             ],
             [
              0.8888888888888888,
              "#fdca26"
             ],
             [
              1,
              "#f0f921"
             ]
            ],
            "type": "histogram2dcontour"
           }
          ],
          "mesh3d": [
           {
            "colorbar": {
             "outlinewidth": 0,
             "ticks": ""
            },
            "type": "mesh3d"
           }
          ],
          "parcoords": [
           {
            "line": {
             "colorbar": {
              "outlinewidth": 0,
              "ticks": ""
             }
            },
            "type": "parcoords"
           }
          ],
          "pie": [
           {
            "automargin": true,
            "type": "pie"
           }
          ],
          "scatter": [
           {
            "fillpattern": {
             "fillmode": "overlay",
             "size": 10,
             "solidity": 0.2
            },
            "type": "scatter"
           }
          ],
          "scatter3d": [
           {
            "line": {
             "colorbar": {
              "outlinewidth": 0,
              "ticks": ""
             }
            },
            "marker": {
             "colorbar": {
              "outlinewidth": 0,
              "ticks": ""
             }
            },
            "type": "scatter3d"
           }
          ],
          "scattercarpet": [
           {
            "marker": {
             "colorbar": {
              "outlinewidth": 0,
              "ticks": ""
             }
            },
            "type": "scattercarpet"
           }
          ],
          "scattergeo": [
           {
            "marker": {
             "colorbar": {
              "outlinewidth": 0,
              "ticks": ""
             }
            },
            "type": "scattergeo"
           }
          ],
          "scattergl": [
           {
            "marker": {
             "colorbar": {
              "outlinewidth": 0,
              "ticks": ""
             }
            },
            "type": "scattergl"
           }
          ],
          "scattermap": [
           {
            "marker": {
             "colorbar": {
              "outlinewidth": 0,
              "ticks": ""
             }
            },
            "type": "scattermap"
           }
          ],
          "scattermapbox": [
           {
            "marker": {
             "colorbar": {
              "outlinewidth": 0,
              "ticks": ""
             }
            },
            "type": "scattermapbox"
           }
          ],
          "scatterpolar": [
           {
            "marker": {
             "colorbar": {
              "outlinewidth": 0,
              "ticks": ""
             }
            },
            "type": "scatterpolar"
           }
          ],
          "scatterpolargl": [
           {
            "marker": {
             "colorbar": {
              "outlinewidth": 0,
              "ticks": ""
             }
            },
            "type": "scatterpolargl"
           }
          ],
          "scatterternary": [
           {
            "marker": {
             "colorbar": {
              "outlinewidth": 0,
              "ticks": ""
             }
            },
            "type": "scatterternary"
           }
          ],
          "surface": [
           {
            "colorbar": {
             "outlinewidth": 0,
             "ticks": ""
            },
            "colorscale": [
             [
              0,
              "#0d0887"
             ],
             [
              0.1111111111111111,
              "#46039f"
             ],
             [
              0.2222222222222222,
              "#7201a8"
             ],
             [
              0.3333333333333333,
              "#9c179e"
             ],
             [
              0.4444444444444444,
              "#bd3786"
             ],
             [
              0.5555555555555556,
              "#d8576b"
             ],
             [
              0.6666666666666666,
              "#ed7953"
             ],
             [
              0.7777777777777778,
              "#fb9f3a"
             ],
             [
              0.8888888888888888,
              "#fdca26"
             ],
             [
              1,
              "#f0f921"
             ]
            ],
            "type": "surface"
           }
          ],
          "table": [
           {
            "cells": {
             "fill": {
              "color": "#EBF0F8"
             },
             "line": {
              "color": "white"
             }
            },
            "header": {
             "fill": {
              "color": "#C8D4E3"
             },
             "line": {
              "color": "white"
             }
            },
            "type": "table"
           }
          ]
         },
         "layout": {
          "annotationdefaults": {
           "arrowcolor": "#2a3f5f",
           "arrowhead": 0,
           "arrowwidth": 1
          },
          "autotypenumbers": "strict",
          "coloraxis": {
           "colorbar": {
            "outlinewidth": 0,
            "ticks": ""
           }
          },
          "colorscale": {
           "diverging": [
            [
             0,
             "#8e0152"
            ],
            [
             0.1,
             "#c51b7d"
            ],
            [
             0.2,
             "#de77ae"
            ],
            [
             0.3,
             "#f1b6da"
            ],
            [
             0.4,
             "#fde0ef"
            ],
            [
             0.5,
             "#f7f7f7"
            ],
            [
             0.6,
             "#e6f5d0"
            ],
            [
             0.7,
             "#b8e186"
            ],
            [
             0.8,
             "#7fbc41"
            ],
            [
             0.9,
             "#4d9221"
            ],
            [
             1,
             "#276419"
            ]
           ],
           "sequential": [
            [
             0,
             "#0d0887"
            ],
            [
             0.1111111111111111,
             "#46039f"
            ],
            [
             0.2222222222222222,
             "#7201a8"
            ],
            [
             0.3333333333333333,
             "#9c179e"
            ],
            [
             0.4444444444444444,
             "#bd3786"
            ],
            [
             0.5555555555555556,
             "#d8576b"
            ],
            [
             0.6666666666666666,
             "#ed7953"
            ],
            [
             0.7777777777777778,
             "#fb9f3a"
            ],
            [
             0.8888888888888888,
             "#fdca26"
            ],
            [
             1,
             "#f0f921"
            ]
           ],
           "sequentialminus": [
            [
             0,
             "#0d0887"
            ],
            [
             0.1111111111111111,
             "#46039f"
            ],
            [
             0.2222222222222222,
             "#7201a8"
            ],
            [
             0.3333333333333333,
             "#9c179e"
            ],
            [
             0.4444444444444444,
             "#bd3786"
            ],
            [
             0.5555555555555556,
             "#d8576b"
            ],
            [
             0.6666666666666666,
             "#ed7953"
            ],
            [
             0.7777777777777778,
             "#fb9f3a"
            ],
            [
             0.8888888888888888,
             "#fdca26"
            ],
            [
             1,
             "#f0f921"
            ]
           ]
          },
          "colorway": [
           "#636efa",
           "#EF553B",
           "#00cc96",
           "#ab63fa",
           "#FFA15A",
           "#19d3f3",
           "#FF6692",
           "#B6E880",
           "#FF97FF",
           "#FECB52"
          ],
          "font": {
           "color": "#2a3f5f"
          },
          "geo": {
           "bgcolor": "white",
           "lakecolor": "white",
           "landcolor": "#E5ECF6",
           "showlakes": true,
           "showland": true,
           "subunitcolor": "white"
          },
          "hoverlabel": {
           "align": "left"
          },
          "hovermode": "closest",
          "mapbox": {
           "style": "light"
          },
          "paper_bgcolor": "white",
          "plot_bgcolor": "#E5ECF6",
          "polar": {
           "angularaxis": {
            "gridcolor": "white",
            "linecolor": "white",
            "ticks": ""
           },
           "bgcolor": "#E5ECF6",
           "radialaxis": {
            "gridcolor": "white",
            "linecolor": "white",
            "ticks": ""
           }
          },
          "scene": {
           "xaxis": {
            "backgroundcolor": "#E5ECF6",
            "gridcolor": "white",
            "gridwidth": 2,
            "linecolor": "white",
            "showbackground": true,
            "ticks": "",
            "zerolinecolor": "white"
           },
           "yaxis": {
            "backgroundcolor": "#E5ECF6",
            "gridcolor": "white",
            "gridwidth": 2,
            "linecolor": "white",
            "showbackground": true,
            "ticks": "",
            "zerolinecolor": "white"
           },
           "zaxis": {
            "backgroundcolor": "#E5ECF6",
            "gridcolor": "white",
            "gridwidth": 2,
            "linecolor": "white",
            "showbackground": true,
            "ticks": "",
            "zerolinecolor": "white"
           }
          },
          "shapedefaults": {
           "line": {
            "color": "#2a3f5f"
           }
          },
          "ternary": {
           "aaxis": {
            "gridcolor": "white",
            "linecolor": "white",
            "ticks": ""
           },
           "baxis": {
            "gridcolor": "white",
            "linecolor": "white",
            "ticks": ""
           },
           "bgcolor": "#E5ECF6",
           "caxis": {
            "gridcolor": "white",
            "linecolor": "white",
            "ticks": ""
           }
          },
          "title": {
           "x": 0.05
          },
          "xaxis": {
           "automargin": true,
           "gridcolor": "white",
           "linecolor": "white",
           "ticks": "",
           "title": {
            "standoff": 15
           },
           "zerolinecolor": "white",
           "zerolinewidth": 2
          },
          "yaxis": {
           "automargin": true,
           "gridcolor": "white",
           "linecolor": "white",
           "ticks": "",
           "title": {
            "standoff": 15
           },
           "zerolinecolor": "white",
           "zerolinewidth": 2
          }
         }
        },
        "title": {
         "text": "Historical Monthly Returns of the DLF.NS"
        },
        "xaxis": {
         "anchor": "y",
         "domain": [
          0,
          1
         ],
         "title": {
          "text": ""
         }
        },
        "yaxis": {
         "anchor": "x",
         "autorange": "reversed",
         "domain": [
          0,
          1
         ],
         "title": {
          "text": "Year"
         }
        }
       }
      }
     },
     "metadata": {},
     "output_type": "display_data"
    },
    {
     "ename": "KeyboardInterrupt",
     "evalue": "",
     "output_type": "error",
     "traceback": [
      "\u001b[31m---------------------------------------------------------------------------\u001b[39m",
      "\u001b[31mKeyboardInterrupt\u001b[39m                         Traceback (most recent call last)",
      "\u001b[36mCell\u001b[39m\u001b[36m \u001b[39m\u001b[32mIn[60]\u001b[39m\u001b[32m, line 2\u001b[39m\n\u001b[32m      1\u001b[39m \u001b[38;5;28;01mfor\u001b[39;00m stock \u001b[38;5;129;01min\u001b[39;00m STOCKS:\n\u001b[32m----> \u001b[39m\u001b[32m2\u001b[39m     stock_data = \u001b[43mdownload_stock_data\u001b[49m\u001b[43m(\u001b[49m\u001b[43mstock\u001b[49m\u001b[43m)\u001b[49m\n\u001b[32m      3\u001b[39m     fig = generate_heatmap(stock, stock_data)\n\u001b[32m      4\u001b[39m     fig.show()\n",
      "\u001b[36mCell\u001b[39m\u001b[36m \u001b[39m\u001b[32mIn[57]\u001b[39m\u001b[32m, line 77\u001b[39m, in \u001b[36mdownload_stock_data\u001b[39m\u001b[34m(stock)\u001b[39m\n\u001b[32m     76\u001b[39m \u001b[38;5;28;01mdef\u001b[39;00m\u001b[38;5;250m \u001b[39m\u001b[34mdownload_stock_data\u001b[39m(stock: \u001b[38;5;28mstr\u001b[39m) -> pd.Series:\n\u001b[32m---> \u001b[39m\u001b[32m77\u001b[39m     stock_data = \u001b[43myf\u001b[49m\u001b[43m.\u001b[49m\u001b[43mdownload\u001b[49m\u001b[43m(\u001b[49m\n\u001b[32m     78\u001b[39m \u001b[43m        \u001b[49m\u001b[43mstock\u001b[49m\u001b[43m,\u001b[49m\n\u001b[32m     79\u001b[39m \u001b[43m        \u001b[49m\u001b[43mperiod\u001b[49m\u001b[43m=\u001b[49m\u001b[33;43m\"\u001b[39;49m\u001b[33;43mmax\u001b[39;49m\u001b[33;43m\"\u001b[39;49m\u001b[43m,\u001b[49m\n\u001b[32m     80\u001b[39m \u001b[43m        \u001b[49m\u001b[43mmulti_level_index\u001b[49m\u001b[43m=\u001b[49m\u001b[38;5;28;43;01mFalse\u001b[39;49;00m\u001b[43m,\u001b[49m\n\u001b[32m     81\u001b[39m \u001b[43m        \u001b[49m\u001b[43mauto_adjust\u001b[49m\u001b[43m=\u001b[49m\u001b[38;5;28;43;01mTrue\u001b[39;49;00m\u001b[43m,\u001b[49m\n\u001b[32m     82\u001b[39m \u001b[43m    \u001b[49m\u001b[43m)\u001b[49m[\u001b[33m\"\u001b[39m\u001b[33mClose\u001b[39m\u001b[33m\"\u001b[39m]  \u001b[38;5;66;03m# type: ignore\u001b[39;00m\n\u001b[32m     84\u001b[39m     \u001b[38;5;28;01mreturn\u001b[39;00m stock_data\n",
      "\u001b[36mFile \u001b[39m\u001b[32m~/dev/data-science/projects/price-action-analysis/.venv/lib/python3.12/site-packages/yfinance/utils.py:92\u001b[39m, in \u001b[36mlog_indent_decorator.<locals>.wrapper\u001b[39m\u001b[34m(*args, **kwargs)\u001b[39m\n\u001b[32m     89\u001b[39m logger.debug(\u001b[33mf\u001b[39m\u001b[33m'\u001b[39m\u001b[33mEntering \u001b[39m\u001b[38;5;132;01m{\u001b[39;00mfunc.\u001b[34m__name__\u001b[39m\u001b[38;5;132;01m}\u001b[39;00m\u001b[33m()\u001b[39m\u001b[33m'\u001b[39m)\n\u001b[32m     91\u001b[39m \u001b[38;5;28;01mwith\u001b[39;00m IndentationContext():\n\u001b[32m---> \u001b[39m\u001b[32m92\u001b[39m     result = \u001b[43mfunc\u001b[49m\u001b[43m(\u001b[49m\u001b[43m*\u001b[49m\u001b[43margs\u001b[49m\u001b[43m,\u001b[49m\u001b[43m \u001b[49m\u001b[43m*\u001b[49m\u001b[43m*\u001b[49m\u001b[43mkwargs\u001b[49m\u001b[43m)\u001b[49m\n\u001b[32m     94\u001b[39m logger.debug(\u001b[33mf\u001b[39m\u001b[33m'\u001b[39m\u001b[33mExiting \u001b[39m\u001b[38;5;132;01m{\u001b[39;00mfunc.\u001b[34m__name__\u001b[39m\u001b[38;5;132;01m}\u001b[39;00m\u001b[33m()\u001b[39m\u001b[33m'\u001b[39m)\n\u001b[32m     95\u001b[39m \u001b[38;5;28;01mreturn\u001b[39;00m result\n",
      "\u001b[36mFile \u001b[39m\u001b[32m~/dev/data-science/projects/price-action-analysis/.venv/lib/python3.12/site-packages/yfinance/multi.py:167\u001b[39m, in \u001b[36mdownload\u001b[39m\u001b[34m(tickers, start, end, actions, threads, ignore_tz, group_by, auto_adjust, back_adjust, repair, keepna, progress, period, interval, prepost, proxy, rounding, timeout, session, multi_level_index)\u001b[39m\n\u001b[32m    160\u001b[39m         _download_one_threaded(ticker, period=period, interval=interval,\n\u001b[32m    161\u001b[39m                                start=start, end=end, prepost=prepost,\n\u001b[32m    162\u001b[39m                                actions=actions, auto_adjust=auto_adjust,\n\u001b[32m    163\u001b[39m                                back_adjust=back_adjust, repair=repair, keepna=keepna,\n\u001b[32m    164\u001b[39m                                progress=(progress \u001b[38;5;129;01mand\u001b[39;00m i > \u001b[32m0\u001b[39m),\n\u001b[32m    165\u001b[39m                                rounding=rounding, timeout=timeout)\n\u001b[32m    166\u001b[39m     \u001b[38;5;28;01mwhile\u001b[39;00m \u001b[38;5;28mlen\u001b[39m(shared._DFS) < \u001b[38;5;28mlen\u001b[39m(tickers):\n\u001b[32m--> \u001b[39m\u001b[32m167\u001b[39m         \u001b[43m_time\u001b[49m\u001b[43m.\u001b[49m\u001b[43msleep\u001b[49m\u001b[43m(\u001b[49m\u001b[32;43m0.01\u001b[39;49m\u001b[43m)\u001b[49m\n\u001b[32m    168\u001b[39m \u001b[38;5;66;03m# download synchronously\u001b[39;00m\n\u001b[32m    169\u001b[39m \u001b[38;5;28;01melse\u001b[39;00m:\n\u001b[32m    170\u001b[39m     \u001b[38;5;28;01mfor\u001b[39;00m i, ticker \u001b[38;5;129;01min\u001b[39;00m \u001b[38;5;28menumerate\u001b[39m(tickers):\n",
      "\u001b[31mKeyboardInterrupt\u001b[39m: "
     ]
    }
   ],
   "source": [
    "for stock in STOCKS:\n",
    "    stock_data = download_stock_data(stock)\n",
    "    fig = generate_heatmap(stock, stock_data)\n",
    "    # fig.show()\n",
    "    # fig.write_image(f\"../images/{stock}_heatmap.png\", width=1600, height=900, scale=2)\n"
   ]
  },
  {
   "cell_type": "code",
   "execution_count": null,
   "id": "5eaa8941",
   "metadata": {},
   "outputs": [
    {
     "data": {
      "application/vnd.plotly.v1+json": {
       "config": {
        "plotlyServerURL": "https://plot.ly"
       },
       "data": [
        {
         "coloraxis": "coloraxis",
         "hovertemplate": "month: %{x}<br>year: %{y}<br>Return (%): %{z}<extra></extra>",
         "name": "0",
         "texttemplate": "%{z:.2f}",
         "type": "heatmap",
         "x": [
          "Jan",
          "Feb",
          "Mar",
          "Apr",
          "May",
          "Jun",
          "Jul",
          "Aug",
          "Sep",
          "Oct",
          "Nov",
          "Dec"
         ],
         "xaxis": "x",
         "y": [
          "2010",
          "2011",
          "2012",
          "2013",
          "2014",
          "2015",
          "2016",
          "2017",
          "2018",
          "2019",
          "2020",
          "2021",
          "2022",
          "2023",
          "2024",
          "2025"
         ],
         "yaxis": "y",
         "z": {
          "bdata": "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",
          "dtype": "f8",
          "shape": "16, 12"
         }
        }
       ],
       "layout": {
        "coloraxis": {
         "colorbar": {
          "ticksuffix": "%",
          "title": {
           "text": "Return (%)"
          }
         },
         "colorscale": [
          [
           0,
           "rgb(165,0,38)"
          ],
          [
           0.1,
           "rgb(215,48,39)"
          ],
          [
           0.2,
           "rgb(244,109,67)"
          ],
          [
           0.3,
           "rgb(253,174,97)"
          ],
          [
           0.4,
           "rgb(254,224,139)"
          ],
          [
           0.5,
           "rgb(255,255,191)"
          ],
          [
           0.6,
           "rgb(217,239,139)"
          ],
          [
           0.7,
           "rgb(166,217,106)"
          ],
          [
           0.8,
           "rgb(102,189,99)"
          ],
          [
           0.9,
           "rgb(26,152,80)"
          ],
          [
           1,
           "rgb(0,104,55)"
          ]
         ]
        },
        "margin": {
         "t": 60
        },
        "template": {
         "data": {
          "bar": [
           {
            "error_x": {
             "color": "#2a3f5f"
            },
            "error_y": {
             "color": "#2a3f5f"
            },
            "marker": {
             "line": {
              "color": "#E5ECF6",
              "width": 0.5
             },
             "pattern": {
              "fillmode": "overlay",
              "size": 10,
              "solidity": 0.2
             }
            },
            "type": "bar"
           }
          ],
          "barpolar": [
           {
            "marker": {
             "line": {
              "color": "#E5ECF6",
              "width": 0.5
             },
             "pattern": {
              "fillmode": "overlay",
              "size": 10,
              "solidity": 0.2
             }
            },
            "type": "barpolar"
           }
          ],
          "carpet": [
           {
            "aaxis": {
             "endlinecolor": "#2a3f5f",
             "gridcolor": "white",
             "linecolor": "white",
             "minorgridcolor": "white",
             "startlinecolor": "#2a3f5f"
            },
            "baxis": {
             "endlinecolor": "#2a3f5f",
             "gridcolor": "white",
             "linecolor": "white",
             "minorgridcolor": "white",
             "startlinecolor": "#2a3f5f"
            },
            "type": "carpet"
           }
          ],
          "choropleth": [
           {
            "colorbar": {
             "outlinewidth": 0,
             "ticks": ""
            },
            "type": "choropleth"
           }
          ],
          "contour": [
           {
            "colorbar": {
             "outlinewidth": 0,
             "ticks": ""
            },
            "colorscale": [
             [
              0,
              "#0d0887"
             ],
             [
              0.1111111111111111,
              "#46039f"
             ],
             [
              0.2222222222222222,
              "#7201a8"
             ],
             [
              0.3333333333333333,
              "#9c179e"
             ],
             [
              0.4444444444444444,
              "#bd3786"
             ],
             [
              0.5555555555555556,
              "#d8576b"
             ],
             [
              0.6666666666666666,
              "#ed7953"
             ],
             [
              0.7777777777777778,
              "#fb9f3a"
             ],
             [
              0.8888888888888888,
              "#fdca26"
             ],
             [
              1,
              "#f0f921"
             ]
            ],
            "type": "contour"
           }
          ],
          "contourcarpet": [
           {
            "colorbar": {
             "outlinewidth": 0,
             "ticks": ""
            },
            "type": "contourcarpet"
           }
          ],
          "heatmap": [
           {
            "colorbar": {
             "outlinewidth": 0,
             "ticks": ""
            },
            "colorscale": [
             [
              0,
              "#0d0887"
             ],
             [
              0.1111111111111111,
              "#46039f"
             ],
             [
              0.2222222222222222,
              "#7201a8"
             ],
             [
              0.3333333333333333,
              "#9c179e"
             ],
             [
              0.4444444444444444,
              "#bd3786"
             ],
             [
              0.5555555555555556,
              "#d8576b"
             ],
             [
              0.6666666666666666,
              "#ed7953"
             ],
             [
              0.7777777777777778,
              "#fb9f3a"
             ],
             [
              0.8888888888888888,
              "#fdca26"
             ],
             [
              1,
              "#f0f921"
             ]
            ],
            "type": "heatmap"
           }
          ],
          "histogram": [
           {
            "marker": {
             "pattern": {
              "fillmode": "overlay",
              "size": 10,
              "solidity": 0.2
             }
            },
            "type": "histogram"
           }
          ],
          "histogram2d": [
           {
            "colorbar": {
             "outlinewidth": 0,
             "ticks": ""
            },
            "colorscale": [
             [
              0,
              "#0d0887"
             ],
             [
              0.1111111111111111,
              "#46039f"
             ],
             [
              0.2222222222222222,
              "#7201a8"
             ],
             [
              0.3333333333333333,
              "#9c179e"
             ],
             [
              0.4444444444444444,
              "#bd3786"
             ],
             [
              0.5555555555555556,
              "#d8576b"
             ],
             [
              0.6666666666666666,
              "#ed7953"
             ],
             [
              0.7777777777777778,
              "#fb9f3a"
             ],
             [
              0.8888888888888888,
              "#fdca26"
             ],
             [
              1,
              "#f0f921"
             ]
            ],
            "type": "histogram2d"
           }
          ],
          "histogram2dcontour": [
           {
            "colorbar": {
             "outlinewidth": 0,
             "ticks": ""
            },
            "colorscale": [
             [
              0,
              "#0d0887"
             ],
             [
              0.1111111111111111,
              "#46039f"
             ],
             [
              0.2222222222222222,
              "#7201a8"
             ],
             [
              0.3333333333333333,
              "#9c179e"
             ],
             [
              0.4444444444444444,
              "#bd3786"
             ],
             [
              0.5555555555555556,
              "#d8576b"
             ],
             [
              0.6666666666666666,
              "#ed7953"
             ],
             [
              0.7777777777777778,
              "#fb9f3a"
             ],
             [
              0.8888888888888888,
              "#fdca26"
             ],
             [
              1,
              "#f0f921"
             ]
            ],
            "type": "histogram2dcontour"
           }
          ],
          "mesh3d": [
           {
            "colorbar": {
             "outlinewidth": 0,
             "ticks": ""
            },
            "type": "mesh3d"
           }
          ],
          "parcoords": [
           {
            "line": {
             "colorbar": {
              "outlinewidth": 0,
              "ticks": ""
             }
            },
            "type": "parcoords"
           }
          ],
          "pie": [
           {
            "automargin": true,
            "type": "pie"
           }
          ],
          "scatter": [
           {
            "fillpattern": {
             "fillmode": "overlay",
             "size": 10,
             "solidity": 0.2
            },
            "type": "scatter"
           }
          ],
          "scatter3d": [
           {
            "line": {
             "colorbar": {
              "outlinewidth": 0,
              "ticks": ""
             }
            },
            "marker": {
             "colorbar": {
              "outlinewidth": 0,
              "ticks": ""
             }
            },
            "type": "scatter3d"
           }
          ],
          "scattercarpet": [
           {
            "marker": {
             "colorbar": {
              "outlinewidth": 0,
              "ticks": ""
             }
            },
            "type": "scattercarpet"
           }
          ],
          "scattergeo": [
           {
            "marker": {
             "colorbar": {
              "outlinewidth": 0,
              "ticks": ""
             }
            },
            "type": "scattergeo"
           }
          ],
          "scattergl": [
           {
            "marker": {
             "colorbar": {
              "outlinewidth": 0,
              "ticks": ""
             }
            },
            "type": "scattergl"
           }
          ],
          "scattermap": [
           {
            "marker": {
             "colorbar": {
              "outlinewidth": 0,
              "ticks": ""
             }
            },
            "type": "scattermap"
           }
          ],
          "scattermapbox": [
           {
            "marker": {
             "colorbar": {
              "outlinewidth": 0,
              "ticks": ""
             }
            },
            "type": "scattermapbox"
           }
          ],
          "scatterpolar": [
           {
            "marker": {
             "colorbar": {
              "outlinewidth": 0,
              "ticks": ""
             }
            },
            "type": "scatterpolar"
           }
          ],
          "scatterpolargl": [
           {
            "marker": {
             "colorbar": {
              "outlinewidth": 0,
              "ticks": ""
             }
            },
            "type": "scatterpolargl"
           }
          ],
          "scatterternary": [
           {
            "marker": {
             "colorbar": {
              "outlinewidth": 0,
              "ticks": ""
             }
            },
            "type": "scatterternary"
           }
          ],
          "surface": [
           {
            "colorbar": {
             "outlinewidth": 0,
             "ticks": ""
            },
            "colorscale": [
             [
              0,
              "#0d0887"
             ],
             [
              0.1111111111111111,
              "#46039f"
             ],
             [
              0.2222222222222222,
              "#7201a8"
             ],
             [
              0.3333333333333333,
              "#9c179e"
             ],
             [
              0.4444444444444444,
              "#bd3786"
             ],
             [
              0.5555555555555556,
              "#d8576b"
             ],
             [
              0.6666666666666666,
              "#ed7953"
             ],
             [
              0.7777777777777778,
              "#fb9f3a"
             ],
             [
              0.8888888888888888,
              "#fdca26"
             ],
             [
              1,
              "#f0f921"
             ]
            ],
            "type": "surface"
           }
          ],
          "table": [
           {
            "cells": {
             "fill": {
              "color": "#EBF0F8"
             },
             "line": {
              "color": "white"
             }
            },
            "header": {
             "fill": {
              "color": "#C8D4E3"
             },
             "line": {
              "color": "white"
             }
            },
            "type": "table"
           }
          ]
         },
         "layout": {
          "annotationdefaults": {
           "arrowcolor": "#2a3f5f",
           "arrowhead": 0,
           "arrowwidth": 1
          },
          "autotypenumbers": "strict",
          "coloraxis": {
           "colorbar": {
            "outlinewidth": 0,
            "ticks": ""
           }
          },
          "colorscale": {
           "diverging": [
            [
             0,
             "#8e0152"
            ],
            [
             0.1,
             "#c51b7d"
            ],
            [
             0.2,
             "#de77ae"
            ],
            [
             0.3,
             "#f1b6da"
            ],
            [
             0.4,
             "#fde0ef"
            ],
            [
             0.5,
             "#f7f7f7"
            ],
            [
             0.6,
             "#e6f5d0"
            ],
            [
             0.7,
             "#b8e186"
            ],
            [
             0.8,
             "#7fbc41"
            ],
            [
             0.9,
             "#4d9221"
            ],
            [
             1,
             "#276419"
            ]
           ],
           "sequential": [
            [
             0,
             "#0d0887"
            ],
            [
             0.1111111111111111,
             "#46039f"
            ],
            [
             0.2222222222222222,
             "#7201a8"
            ],
            [
             0.3333333333333333,
             "#9c179e"
            ],
            [
             0.4444444444444444,
             "#bd3786"
            ],
            [
             0.5555555555555556,
             "#d8576b"
            ],
            [
             0.6666666666666666,
             "#ed7953"
            ],
            [
             0.7777777777777778,
             "#fb9f3a"
            ],
            [
             0.8888888888888888,
             "#fdca26"
            ],
            [
             1,
             "#f0f921"
            ]
           ],
           "sequentialminus": [
            [
             0,
             "#0d0887"
            ],
            [
             0.1111111111111111,
             "#46039f"
            ],
            [
             0.2222222222222222,
             "#7201a8"
            ],
            [
             0.3333333333333333,
             "#9c179e"
            ],
            [
             0.4444444444444444,
             "#bd3786"
            ],
            [
             0.5555555555555556,
             "#d8576b"
            ],
            [
             0.6666666666666666,
             "#ed7953"
            ],
            [
             0.7777777777777778,
             "#fb9f3a"
            ],
            [
             0.8888888888888888,
             "#fdca26"
            ],
            [
             1,
             "#f0f921"
            ]
           ]
          },
          "colorway": [
           "#636efa",
           "#EF553B",
           "#00cc96",
           "#ab63fa",
           "#FFA15A",
           "#19d3f3",
           "#FF6692",
           "#B6E880",
           "#FF97FF",
           "#FECB52"
          ],
          "font": {
           "color": "#2a3f5f"
          },
          "geo": {
           "bgcolor": "white",
           "lakecolor": "white",
           "landcolor": "#E5ECF6",
           "showlakes": true,
           "showland": true,
           "subunitcolor": "white"
          },
          "hoverlabel": {
           "align": "left"
          },
          "hovermode": "closest",
          "mapbox": {
           "style": "light"
          },
          "paper_bgcolor": "white",
          "plot_bgcolor": "#E5ECF6",
          "polar": {
           "angularaxis": {
            "gridcolor": "white",
            "linecolor": "white",
            "ticks": ""
           },
           "bgcolor": "#E5ECF6",
           "radialaxis": {
            "gridcolor": "white",
            "linecolor": "white",
            "ticks": ""
           }
          },
          "scene": {
           "xaxis": {
            "backgroundcolor": "#E5ECF6",
            "gridcolor": "white",
            "gridwidth": 2,
            "linecolor": "white",
            "showbackground": true,
            "ticks": "",
            "zerolinecolor": "white"
           },
           "yaxis": {
            "backgroundcolor": "#E5ECF6",
            "gridcolor": "white",
            "gridwidth": 2,
            "linecolor": "white",
            "showbackground": true,
            "ticks": "",
            "zerolinecolor": "white"
           },
           "zaxis": {
            "backgroundcolor": "#E5ECF6",
            "gridcolor": "white",
            "gridwidth": 2,
            "linecolor": "white",
            "showbackground": true,
            "ticks": "",
            "zerolinecolor": "white"
           }
          },
          "shapedefaults": {
           "line": {
            "color": "#2a3f5f"
           }
          },
          "ternary": {
           "aaxis": {
            "gridcolor": "white",
            "linecolor": "white",
            "ticks": ""
           },
           "baxis": {
            "gridcolor": "white",
            "linecolor": "white",
            "ticks": ""
           },
           "bgcolor": "#E5ECF6",
           "caxis": {
            "gridcolor": "white",
            "linecolor": "white",
            "ticks": ""
           }
          },
          "title": {
           "x": 0.05
          },
          "xaxis": {
           "automargin": true,
           "gridcolor": "white",
           "linecolor": "white",
           "ticks": "",
           "title": {
            "standoff": 15
           },
           "zerolinecolor": "white",
           "zerolinewidth": 2
          },
          "yaxis": {
           "automargin": true,
           "gridcolor": "white",
           "linecolor": "white",
           "ticks": "",
           "title": {
            "standoff": 15
           },
           "zerolinecolor": "white",
           "zerolinewidth": 2
          }
         }
        },
        "title": {
         "text": "Historical Monthly Returns of the Nifty Realty Index"
        },
        "xaxis": {
         "anchor": "y",
         "domain": [
          0,
          1
         ],
         "title": {
          "text": ""
         }
        },
        "yaxis": {
         "anchor": "x",
         "autorange": "reversed",
         "domain": [
          0,
          1
         ],
         "title": {
          "text": "Year"
         }
        }
       }
      }
     },
     "metadata": {},
     "output_type": "display_data"
    }
   ],
   "source": [
    "res = (\n",
    "    stock_data.to_frame(\"close\")\n",
    "    .resample(\"ME\")\n",
    "    .last()\n",
    "    .assign(\n",
    "        month=lambda df_: df_.index.strftime(\"%b\"),  # type: ignore\n",
    "        year=lambda df_: df_.index.strftime(\"%Y\"),  # type: ignore\n",
    "        monthly_returns=lambda df_: df_[\"close\"].pct_change(),\n",
    "    )\n",
    "    .astype({\"month\": pd.CategoricalDtype(MONTHS, ordered=True)})\n",
    "    .pivot_table(index=\"year\", columns=\"month\", values=\"monthly_returns\", observed=True)\n",
    "    .mul(100)\n",
    "    .round(2)\n",
    ")\n",
    "\n",
    "fig = px.imshow(\n",
    "    res,\n",
    "    color_continuous_scale=\"RdYlGn\",\n",
    "    origin=\"upper\",\n",
    "    aspect=\"auto\",\n",
    "    text_auto=\".2f\",\n",
    "    labels=dict(month=\"Month\", year=\"Year\", color=\"Return (%)\"),\n",
    ")\n",
    "fig.update_xaxes(title=\"\")\n",
    "fig.update_yaxes(title=\"Year\")\n",
    "fig.update_layout(\n",
    "    title=\"Historical Monthly Returns of the Nifty Realty Index\",\n",
    "    coloraxis_colorbar_ticksuffix=\"%\",\n",
    ")\n",
    "fig"
   ]
  },
  {
   "cell_type": "code",
   "execution_count": null,
   "id": "ba8d1929",
   "metadata": {},
   "outputs": [
    {
     "data": {
      "text/html": [
       "<div>\n",
       "<style scoped>\n",
       "    .dataframe tbody tr th:only-of-type {\n",
       "        vertical-align: middle;\n",
       "    }\n",
       "\n",
       "    .dataframe tbody tr th {\n",
       "        vertical-align: top;\n",
       "    }\n",
       "\n",
       "    .dataframe thead th {\n",
       "        text-align: right;\n",
       "    }\n",
       "</style>\n",
       "<table border=\"1\" class=\"dataframe\">\n",
       "  <thead>\n",
       "    <tr style=\"text-align: right;\">\n",
       "      <th></th>\n",
       "      <th>close</th>\n",
       "    </tr>\n",
       "    <tr>\n",
       "      <th>Date</th>\n",
       "      <th></th>\n",
       "    </tr>\n",
       "  </thead>\n",
       "  <tbody>\n",
       "    <tr>\n",
       "      <th>2010-10-31</th>\n",
       "      <td>258.341278</td>\n",
       "    </tr>\n",
       "    <tr>\n",
       "      <th>2010-11-30</th>\n",
       "      <td>249.592529</td>\n",
       "    </tr>\n",
       "    <tr>\n",
       "      <th>2010-12-31</th>\n",
       "      <td>236.677856</td>\n",
       "    </tr>\n",
       "    <tr>\n",
       "      <th>2011-01-31</th>\n",
       "      <td>229.178955</td>\n",
       "    </tr>\n",
       "    <tr>\n",
       "      <th>2011-02-28</th>\n",
       "      <td>202.331085</td>\n",
       "    </tr>\n",
       "    <tr>\n",
       "      <th>...</th>\n",
       "      <td>...</td>\n",
       "    </tr>\n",
       "    <tr>\n",
       "      <th>2025-04-30</th>\n",
       "      <td>1637.677612</td>\n",
       "    </tr>\n",
       "    <tr>\n",
       "      <th>2025-05-31</th>\n",
       "      <td>1744.302979</td>\n",
       "    </tr>\n",
       "    <tr>\n",
       "      <th>2025-06-30</th>\n",
       "      <td>1903.420654</td>\n",
       "    </tr>\n",
       "    <tr>\n",
       "      <th>2025-07-31</th>\n",
       "      <td>1630.099976</td>\n",
       "    </tr>\n",
       "    <tr>\n",
       "      <th>2025-08-31</th>\n",
       "      <td>1613.900024</td>\n",
       "    </tr>\n",
       "  </tbody>\n",
       "</table>\n",
       "<p>179 rows × 1 columns</p>\n",
       "</div>"
      ],
      "text/plain": [
       "                  close\n",
       "Date                   \n",
       "2010-10-31   258.341278\n",
       "2010-11-30   249.592529\n",
       "2010-12-31   236.677856\n",
       "2011-01-31   229.178955\n",
       "2011-02-28   202.331085\n",
       "...                 ...\n",
       "2025-04-30  1637.677612\n",
       "2025-05-31  1744.302979\n",
       "2025-06-30  1903.420654\n",
       "2025-07-31  1630.099976\n",
       "2025-08-31  1613.900024\n",
       "\n",
       "[179 rows x 1 columns]"
      ]
     },
     "execution_count": 46,
     "metadata": {},
     "output_type": "execute_result"
    }
   ],
   "source": [
    "# Problem Statement 1\n",
    "(stock_data.to_frame(\"close\").resample(\"ME\").last())"
   ]
  },
  {
   "cell_type": "code",
   "execution_count": null,
   "id": "9f90973f",
   "metadata": {},
   "outputs": [
    {
     "data": {
      "text/html": [
       "<div>\n",
       "<style scoped>\n",
       "    .dataframe tbody tr th:only-of-type {\n",
       "        vertical-align: middle;\n",
       "    }\n",
       "\n",
       "    .dataframe tbody tr th {\n",
       "        vertical-align: top;\n",
       "    }\n",
       "\n",
       "    .dataframe thead th {\n",
       "        text-align: right;\n",
       "    }\n",
       "</style>\n",
       "<table border=\"1\" class=\"dataframe\">\n",
       "  <thead>\n",
       "    <tr style=\"text-align: right;\">\n",
       "      <th></th>\n",
       "      <th>close</th>\n",
       "      <th>monthly_returns</th>\n",
       "    </tr>\n",
       "    <tr>\n",
       "      <th>Date</th>\n",
       "      <th></th>\n",
       "      <th></th>\n",
       "    </tr>\n",
       "  </thead>\n",
       "  <tbody>\n",
       "    <tr>\n",
       "      <th>2010-10-31</th>\n",
       "      <td>258.341278</td>\n",
       "      <td>NaN</td>\n",
       "    </tr>\n",
       "    <tr>\n",
       "      <th>2010-11-30</th>\n",
       "      <td>249.592529</td>\n",
       "      <td>-0.033865</td>\n",
       "    </tr>\n",
       "    <tr>\n",
       "      <th>2010-12-31</th>\n",
       "      <td>236.677856</td>\n",
       "      <td>-0.051743</td>\n",
       "    </tr>\n",
       "    <tr>\n",
       "      <th>2011-01-31</th>\n",
       "      <td>229.178955</td>\n",
       "      <td>-0.031684</td>\n",
       "    </tr>\n",
       "    <tr>\n",
       "      <th>2011-02-28</th>\n",
       "      <td>202.331085</td>\n",
       "      <td>-0.117148</td>\n",
       "    </tr>\n",
       "    <tr>\n",
       "      <th>...</th>\n",
       "      <td>...</td>\n",
       "      <td>...</td>\n",
       "    </tr>\n",
       "    <tr>\n",
       "      <th>2025-04-30</th>\n",
       "      <td>1637.677612</td>\n",
       "      <td>0.002565</td>\n",
       "    </tr>\n",
       "    <tr>\n",
       "      <th>2025-05-31</th>\n",
       "      <td>1744.302979</td>\n",
       "      <td>0.065108</td>\n",
       "    </tr>\n",
       "    <tr>\n",
       "      <th>2025-06-30</th>\n",
       "      <td>1903.420654</td>\n",
       "      <td>0.091221</td>\n",
       "    </tr>\n",
       "    <tr>\n",
       "      <th>2025-07-31</th>\n",
       "      <td>1630.099976</td>\n",
       "      <td>-0.143594</td>\n",
       "    </tr>\n",
       "    <tr>\n",
       "      <th>2025-08-31</th>\n",
       "      <td>1613.900024</td>\n",
       "      <td>-0.009938</td>\n",
       "    </tr>\n",
       "  </tbody>\n",
       "</table>\n",
       "<p>179 rows × 2 columns</p>\n",
       "</div>"
      ],
      "text/plain": [
       "                  close  monthly_returns\n",
       "Date                                    \n",
       "2010-10-31   258.341278              NaN\n",
       "2010-11-30   249.592529        -0.033865\n",
       "2010-12-31   236.677856        -0.051743\n",
       "2011-01-31   229.178955        -0.031684\n",
       "2011-02-28   202.331085        -0.117148\n",
       "...                 ...              ...\n",
       "2025-04-30  1637.677612         0.002565\n",
       "2025-05-31  1744.302979         0.065108\n",
       "2025-06-30  1903.420654         0.091221\n",
       "2025-07-31  1630.099976        -0.143594\n",
       "2025-08-31  1613.900024        -0.009938\n",
       "\n",
       "[179 rows x 2 columns]"
      ]
     },
     "execution_count": 47,
     "metadata": {},
     "output_type": "execute_result"
    }
   ],
   "source": [
    "# Problem Statement 2\n",
    "(\n",
    "    stock_data.to_frame(\"close\")\n",
    "    .resample(\"ME\")\n",
    "    .last()\n",
    "    .assign(monthly_returns=lambda df_: df_[\"close\"].pct_change())\n",
    ")"
   ]
  },
  {
   "cell_type": "code",
   "execution_count": null,
   "id": "3b958ef7",
   "metadata": {},
   "outputs": [
    {
     "name": "stderr",
     "output_type": "stream",
     "text": [
      "/tmp/ipykernel_94660/65462311.py:26: FutureWarning:\n",
      "\n",
      "The default value of observed=False is deprecated and will change to observed=True in a future version of pandas. Specify observed=False to silence this warning and retain the current behavior\n",
      "\n"
     ]
    },
    {
     "data": {
      "text/html": [
       "<div>\n",
       "<style scoped>\n",
       "    .dataframe tbody tr th:only-of-type {\n",
       "        vertical-align: middle;\n",
       "    }\n",
       "\n",
       "    .dataframe tbody tr th {\n",
       "        vertical-align: top;\n",
       "    }\n",
       "\n",
       "    .dataframe thead th {\n",
       "        text-align: right;\n",
       "    }\n",
       "</style>\n",
       "<table border=\"1\" class=\"dataframe\">\n",
       "  <thead>\n",
       "    <tr style=\"text-align: right;\">\n",
       "      <th>month</th>\n",
       "      <th>Jan</th>\n",
       "      <th>Feb</th>\n",
       "      <th>Mar</th>\n",
       "      <th>Apr</th>\n",
       "      <th>May</th>\n",
       "      <th>Jun</th>\n",
       "      <th>Jul</th>\n",
       "      <th>Aug</th>\n",
       "      <th>Sep</th>\n",
       "      <th>Oct</th>\n",
       "      <th>Nov</th>\n",
       "      <th>Dec</th>\n",
       "    </tr>\n",
       "    <tr>\n",
       "      <th>year</th>\n",
       "      <th></th>\n",
       "      <th></th>\n",
       "      <th></th>\n",
       "      <th></th>\n",
       "      <th></th>\n",
       "      <th></th>\n",
       "      <th></th>\n",
       "      <th></th>\n",
       "      <th></th>\n",
       "      <th></th>\n",
       "      <th></th>\n",
       "      <th></th>\n",
       "    </tr>\n",
       "  </thead>\n",
       "  <tbody>\n",
       "    <tr>\n",
       "      <th>2010</th>\n",
       "      <td>NaN</td>\n",
       "      <td>NaN</td>\n",
       "      <td>NaN</td>\n",
       "      <td>NaN</td>\n",
       "      <td>NaN</td>\n",
       "      <td>NaN</td>\n",
       "      <td>NaN</td>\n",
       "      <td>NaN</td>\n",
       "      <td>NaN</td>\n",
       "      <td>NaN</td>\n",
       "      <td>-0.033865</td>\n",
       "      <td>-0.051743</td>\n",
       "    </tr>\n",
       "    <tr>\n",
       "      <th>2011</th>\n",
       "      <td>-0.031684</td>\n",
       "      <td>-0.117148</td>\n",
       "      <td>0.164951</td>\n",
       "      <td>0.002357</td>\n",
       "      <td>-0.122649</td>\n",
       "      <td>0.077155</td>\n",
       "      <td>-0.007079</td>\n",
       "      <td>-0.060180</td>\n",
       "      <td>0.033244</td>\n",
       "      <td>0.011660</td>\n",
       "      <td>-0.059552</td>\n",
       "      <td>-0.047662</td>\n",
       "    </tr>\n",
       "    <tr>\n",
       "      <th>2012</th>\n",
       "      <td>0.200906</td>\n",
       "      <td>0.127605</td>\n",
       "      <td>-0.050863</td>\n",
       "      <td>0.013722</td>\n",
       "      <td>-0.056338</td>\n",
       "      <td>-0.048517</td>\n",
       "      <td>-0.049918</td>\n",
       "      <td>-0.010811</td>\n",
       "      <td>0.158033</td>\n",
       "      <td>0.030766</td>\n",
       "      <td>0.045779</td>\n",
       "      <td>0.009105</td>\n",
       "    </tr>\n",
       "    <tr>\n",
       "      <th>2013</th>\n",
       "      <td>0.010758</td>\n",
       "      <td>-0.053734</td>\n",
       "      <td>-0.065131</td>\n",
       "      <td>-0.053367</td>\n",
       "      <td>-0.042230</td>\n",
       "      <td>-0.153039</td>\n",
       "      <td>0.017068</td>\n",
       "      <td>-0.164576</td>\n",
       "      <td>0.015616</td>\n",
       "      <td>0.112359</td>\n",
       "      <td>0.025784</td>\n",
       "      <td>0.213268</td>\n",
       "    </tr>\n",
       "    <tr>\n",
       "      <th>2014</th>\n",
       "      <td>-0.129432</td>\n",
       "      <td>-0.069676</td>\n",
       "      <td>0.138450</td>\n",
       "      <td>-0.042854</td>\n",
       "      <td>0.160697</td>\n",
       "      <td>0.081734</td>\n",
       "      <td>0.002313</td>\n",
       "      <td>-0.081649</td>\n",
       "      <td>-0.079392</td>\n",
       "      <td>0.125229</td>\n",
       "      <td>0.076233</td>\n",
       "      <td>0.061364</td>\n",
       "    </tr>\n",
       "    <tr>\n",
       "      <th>2015</th>\n",
       "      <td>0.010885</td>\n",
       "      <td>0.136452</td>\n",
       "      <td>-0.116651</td>\n",
       "      <td>-0.053983</td>\n",
       "      <td>0.139963</td>\n",
       "      <td>-0.106387</td>\n",
       "      <td>-0.032892</td>\n",
       "      <td>-0.145544</td>\n",
       "      <td>0.214810</td>\n",
       "      <td>0.046129</td>\n",
       "      <td>-0.091514</td>\n",
       "      <td>0.034669</td>\n",
       "    </tr>\n",
       "    <tr>\n",
       "      <th>2016</th>\n",
       "      <td>-0.094378</td>\n",
       "      <td>-0.053032</td>\n",
       "      <td>0.057174</td>\n",
       "      <td>0.158592</td>\n",
       "      <td>-0.031451</td>\n",
       "      <td>0.001107</td>\n",
       "      <td>0.072613</td>\n",
       "      <td>0.037114</td>\n",
       "      <td>-0.031975</td>\n",
       "      <td>0.207085</td>\n",
       "      <td>-0.189423</td>\n",
       "      <td>0.033235</td>\n",
       "    </tr>\n",
       "    <tr>\n",
       "      <th>2017</th>\n",
       "      <td>0.053835</td>\n",
       "      <td>0.039197</td>\n",
       "      <td>0.139125</td>\n",
       "      <td>0.078844</td>\n",
       "      <td>-0.050818</td>\n",
       "      <td>-0.051948</td>\n",
       "      <td>0.080095</td>\n",
       "      <td>-0.013848</td>\n",
       "      <td>0.117715</td>\n",
       "      <td>0.120222</td>\n",
       "      <td>0.026224</td>\n",
       "      <td>-0.012315</td>\n",
       "    </tr>\n",
       "    <tr>\n",
       "      <th>2018</th>\n",
       "      <td>0.098919</td>\n",
       "      <td>-0.018249</td>\n",
       "      <td>-0.017143</td>\n",
       "      <td>0.076923</td>\n",
       "      <td>-0.073812</td>\n",
       "      <td>-0.058388</td>\n",
       "      <td>0.039279</td>\n",
       "      <td>-0.111368</td>\n",
       "      <td>-0.079959</td>\n",
       "      <td>0.043762</td>\n",
       "      <td>0.054210</td>\n",
       "      <td>-0.012211</td>\n",
       "    </tr>\n",
       "    <tr>\n",
       "      <th>2019</th>\n",
       "      <td>0.008620</td>\n",
       "      <td>0.114022</td>\n",
       "      <td>0.073988</td>\n",
       "      <td>-0.046429</td>\n",
       "      <td>0.106939</td>\n",
       "      <td>0.082005</td>\n",
       "      <td>-0.095457</td>\n",
       "      <td>0.037256</td>\n",
       "      <td>-0.106259</td>\n",
       "      <td>-0.001379</td>\n",
       "      <td>0.019728</td>\n",
       "      <td>0.026601</td>\n",
       "    </tr>\n",
       "    <tr>\n",
       "      <th>2020</th>\n",
       "      <td>0.028079</td>\n",
       "      <td>-0.065255</td>\n",
       "      <td>-0.349446</td>\n",
       "      <td>0.038432</td>\n",
       "      <td>-0.071698</td>\n",
       "      <td>0.143840</td>\n",
       "      <td>-0.043466</td>\n",
       "      <td>0.114319</td>\n",
       "      <td>0.011028</td>\n",
       "      <td>0.124176</td>\n",
       "      <td>0.045695</td>\n",
       "      <td>0.258956</td>\n",
       "    </tr>\n",
       "    <tr>\n",
       "      <th>2021</th>\n",
       "      <td>-0.096760</td>\n",
       "      <td>0.035392</td>\n",
       "      <td>0.054161</td>\n",
       "      <td>-0.048509</td>\n",
       "      <td>0.106350</td>\n",
       "      <td>0.040053</td>\n",
       "      <td>0.067810</td>\n",
       "      <td>0.046401</td>\n",
       "      <td>0.370381</td>\n",
       "      <td>-0.061087</td>\n",
       "      <td>-0.080139</td>\n",
       "      <td>0.034885</td>\n",
       "    </tr>\n",
       "    <tr>\n",
       "      <th>2022</th>\n",
       "      <td>0.062660</td>\n",
       "      <td>-0.009391</td>\n",
       "      <td>0.035990</td>\n",
       "      <td>0.021706</td>\n",
       "      <td>-0.160896</td>\n",
       "      <td>-0.084518</td>\n",
       "      <td>0.238590</td>\n",
       "      <td>0.106246</td>\n",
       "      <td>-0.088444</td>\n",
       "      <td>0.007464</td>\n",
       "      <td>-0.000811</td>\n",
       "      <td>-0.060559</td>\n",
       "    </tr>\n",
       "    <tr>\n",
       "      <th>2023</th>\n",
       "      <td>-0.054150</td>\n",
       "      <td>0.044400</td>\n",
       "      <td>-0.017261</td>\n",
       "      <td>0.086043</td>\n",
       "      <td>0.017102</td>\n",
       "      <td>0.062236</td>\n",
       "      <td>0.136830</td>\n",
       "      <td>0.001161</td>\n",
       "      <td>0.029888</td>\n",
       "      <td>-0.014294</td>\n",
       "      <td>0.233175</td>\n",
       "      <td>0.030339</td>\n",
       "    </tr>\n",
       "    <tr>\n",
       "      <th>2024</th>\n",
       "      <td>-0.082897</td>\n",
       "      <td>0.017080</td>\n",
       "      <td>0.097898</td>\n",
       "      <td>0.005082</td>\n",
       "      <td>0.228141</td>\n",
       "      <td>-0.028591</td>\n",
       "      <td>0.054736</td>\n",
       "      <td>-0.047329</td>\n",
       "      <td>0.067622</td>\n",
       "      <td>0.039425</td>\n",
       "      <td>0.021653</td>\n",
       "      <td>0.151518</td>\n",
       "    </tr>\n",
       "    <tr>\n",
       "      <th>2025</th>\n",
       "      <td>-0.214950</td>\n",
       "      <td>-0.181033</td>\n",
       "      <td>0.102998</td>\n",
       "      <td>0.002565</td>\n",
       "      <td>0.065108</td>\n",
       "      <td>0.091221</td>\n",
       "      <td>-0.143594</td>\n",
       "      <td>-0.009938</td>\n",
       "      <td>NaN</td>\n",
       "      <td>NaN</td>\n",
       "      <td>NaN</td>\n",
       "      <td>NaN</td>\n",
       "    </tr>\n",
       "  </tbody>\n",
       "</table>\n",
       "</div>"
      ],
      "text/plain": [
       "month       Jan       Feb       Mar       Apr       May       Jun       Jul  \\\n",
       "year                                                                          \n",
       "2010        NaN       NaN       NaN       NaN       NaN       NaN       NaN   \n",
       "2011  -0.031684 -0.117148  0.164951  0.002357 -0.122649  0.077155 -0.007079   \n",
       "2012   0.200906  0.127605 -0.050863  0.013722 -0.056338 -0.048517 -0.049918   \n",
       "2013   0.010758 -0.053734 -0.065131 -0.053367 -0.042230 -0.153039  0.017068   \n",
       "2014  -0.129432 -0.069676  0.138450 -0.042854  0.160697  0.081734  0.002313   \n",
       "2015   0.010885  0.136452 -0.116651 -0.053983  0.139963 -0.106387 -0.032892   \n",
       "2016  -0.094378 -0.053032  0.057174  0.158592 -0.031451  0.001107  0.072613   \n",
       "2017   0.053835  0.039197  0.139125  0.078844 -0.050818 -0.051948  0.080095   \n",
       "2018   0.098919 -0.018249 -0.017143  0.076923 -0.073812 -0.058388  0.039279   \n",
       "2019   0.008620  0.114022  0.073988 -0.046429  0.106939  0.082005 -0.095457   \n",
       "2020   0.028079 -0.065255 -0.349446  0.038432 -0.071698  0.143840 -0.043466   \n",
       "2021  -0.096760  0.035392  0.054161 -0.048509  0.106350  0.040053  0.067810   \n",
       "2022   0.062660 -0.009391  0.035990  0.021706 -0.160896 -0.084518  0.238590   \n",
       "2023  -0.054150  0.044400 -0.017261  0.086043  0.017102  0.062236  0.136830   \n",
       "2024  -0.082897  0.017080  0.097898  0.005082  0.228141 -0.028591  0.054736   \n",
       "2025  -0.214950 -0.181033  0.102998  0.002565  0.065108  0.091221 -0.143594   \n",
       "\n",
       "month       Aug       Sep       Oct       Nov       Dec  \n",
       "year                                                     \n",
       "2010        NaN       NaN       NaN -0.033865 -0.051743  \n",
       "2011  -0.060180  0.033244  0.011660 -0.059552 -0.047662  \n",
       "2012  -0.010811  0.158033  0.030766  0.045779  0.009105  \n",
       "2013  -0.164576  0.015616  0.112359  0.025784  0.213268  \n",
       "2014  -0.081649 -0.079392  0.125229  0.076233  0.061364  \n",
       "2015  -0.145544  0.214810  0.046129 -0.091514  0.034669  \n",
       "2016   0.037114 -0.031975  0.207085 -0.189423  0.033235  \n",
       "2017  -0.013848  0.117715  0.120222  0.026224 -0.012315  \n",
       "2018  -0.111368 -0.079959  0.043762  0.054210 -0.012211  \n",
       "2019   0.037256 -0.106259 -0.001379  0.019728  0.026601  \n",
       "2020   0.114319  0.011028  0.124176  0.045695  0.258956  \n",
       "2021   0.046401  0.370381 -0.061087 -0.080139  0.034885  \n",
       "2022   0.106246 -0.088444  0.007464 -0.000811 -0.060559  \n",
       "2023   0.001161  0.029888 -0.014294  0.233175  0.030339  \n",
       "2024  -0.047329  0.067622  0.039425  0.021653  0.151518  \n",
       "2025  -0.009938       NaN       NaN       NaN       NaN  "
      ]
     },
     "execution_count": 48,
     "metadata": {},
     "output_type": "execute_result"
    }
   ],
   "source": [
    "# Problem Statement 2\n",
    "MONTHS = [\n",
    "    \"Jan\",\n",
    "    \"Feb\",\n",
    "    \"Mar\",\n",
    "    \"Apr\",\n",
    "    \"May\",\n",
    "    \"Jun\",\n",
    "    \"Jul\",\n",
    "    \"Aug\",\n",
    "    \"Sep\",\n",
    "    \"Oct\",\n",
    "    \"Nov\",\n",
    "    \"Dec\",\n",
    "]\n",
    "(\n",
    "    stock_data.to_frame(\"close\")\n",
    "    .resample(\"ME\")\n",
    "    .last()\n",
    "    .assign(\n",
    "        month=lambda df_: df_.index.strftime(\"%b\"),  # type: ignore\n",
    "        year=lambda df_: df_.index.strftime(\"%Y\"),  # type: ignore\n",
    "        monthly_returns=lambda df_: df_[\"close\"].pct_change(),\n",
    "    )\n",
    "    .astype({\"month\": pd.CategoricalDtype(MONTHS, ordered=True)})\n",
    "    .pivot_table(\n",
    "        index=\"year\",\n",
    "        columns=\"month\",\n",
    "        values=\"monthly_returns\",\n",
    "    )\n",
    ")"
   ]
  },
  {
   "cell_type": "code",
   "execution_count": null,
   "id": "02aa4fc4",
   "metadata": {},
   "outputs": [
    {
     "name": "stderr",
     "output_type": "stream",
     "text": [
      "/tmp/ipykernel_94660/3010795563.py:26: FutureWarning:\n",
      "\n",
      "The default value of observed=False is deprecated and will change to observed=True in a future version of pandas. Specify observed=False to silence this warning and retain the current behavior\n",
      "\n"
     ]
    },
    {
     "data": {
      "text/html": [
       "<div>\n",
       "<style scoped>\n",
       "    .dataframe tbody tr th:only-of-type {\n",
       "        vertical-align: middle;\n",
       "    }\n",
       "\n",
       "    .dataframe tbody tr th {\n",
       "        vertical-align: top;\n",
       "    }\n",
       "\n",
       "    .dataframe thead th {\n",
       "        text-align: right;\n",
       "    }\n",
       "</style>\n",
       "<table border=\"1\" class=\"dataframe\">\n",
       "  <thead>\n",
       "    <tr style=\"text-align: right;\">\n",
       "      <th>month</th>\n",
       "      <th>Jan</th>\n",
       "      <th>Feb</th>\n",
       "      <th>Mar</th>\n",
       "      <th>Apr</th>\n",
       "      <th>May</th>\n",
       "      <th>Jun</th>\n",
       "      <th>first_half_avg</th>\n",
       "      <th>Jul</th>\n",
       "      <th>Aug</th>\n",
       "      <th>Sep</th>\n",
       "      <th>Oct</th>\n",
       "      <th>Nov</th>\n",
       "      <th>Dec</th>\n",
       "      <th>second_half_avg</th>\n",
       "    </tr>\n",
       "    <tr>\n",
       "      <th>year</th>\n",
       "      <th></th>\n",
       "      <th></th>\n",
       "      <th></th>\n",
       "      <th></th>\n",
       "      <th></th>\n",
       "      <th></th>\n",
       "      <th></th>\n",
       "      <th></th>\n",
       "      <th></th>\n",
       "      <th></th>\n",
       "      <th></th>\n",
       "      <th></th>\n",
       "      <th></th>\n",
       "      <th></th>\n",
       "    </tr>\n",
       "  </thead>\n",
       "  <tbody>\n",
       "    <tr>\n",
       "      <th>2010</th>\n",
       "      <td>NaN</td>\n",
       "      <td>NaN</td>\n",
       "      <td>NaN</td>\n",
       "      <td>NaN</td>\n",
       "      <td>NaN</td>\n",
       "      <td>NaN</td>\n",
       "      <td>NaN</td>\n",
       "      <td>NaN</td>\n",
       "      <td>NaN</td>\n",
       "      <td>NaN</td>\n",
       "      <td>NaN</td>\n",
       "      <td>-0.033865</td>\n",
       "      <td>-0.051743</td>\n",
       "      <td>-0.042804</td>\n",
       "    </tr>\n",
       "    <tr>\n",
       "      <th>2011</th>\n",
       "      <td>-0.031684</td>\n",
       "      <td>-0.117148</td>\n",
       "      <td>0.164951</td>\n",
       "      <td>0.002357</td>\n",
       "      <td>-0.122649</td>\n",
       "      <td>0.077155</td>\n",
       "      <td>-0.004503</td>\n",
       "      <td>-0.007079</td>\n",
       "      <td>-0.060180</td>\n",
       "      <td>0.033244</td>\n",
       "      <td>0.011660</td>\n",
       "      <td>-0.059552</td>\n",
       "      <td>-0.047662</td>\n",
       "      <td>-0.021595</td>\n",
       "    </tr>\n",
       "    <tr>\n",
       "      <th>2012</th>\n",
       "      <td>0.200906</td>\n",
       "      <td>0.127605</td>\n",
       "      <td>-0.050863</td>\n",
       "      <td>0.013722</td>\n",
       "      <td>-0.056338</td>\n",
       "      <td>-0.048517</td>\n",
       "      <td>0.031086</td>\n",
       "      <td>-0.049918</td>\n",
       "      <td>-0.010811</td>\n",
       "      <td>0.158033</td>\n",
       "      <td>0.030766</td>\n",
       "      <td>0.045779</td>\n",
       "      <td>0.009105</td>\n",
       "      <td>0.030492</td>\n",
       "    </tr>\n",
       "    <tr>\n",
       "      <th>2013</th>\n",
       "      <td>0.010758</td>\n",
       "      <td>-0.053734</td>\n",
       "      <td>-0.065131</td>\n",
       "      <td>-0.053367</td>\n",
       "      <td>-0.042230</td>\n",
       "      <td>-0.153039</td>\n",
       "      <td>-0.059457</td>\n",
       "      <td>0.017068</td>\n",
       "      <td>-0.164576</td>\n",
       "      <td>0.015616</td>\n",
       "      <td>0.112359</td>\n",
       "      <td>0.025784</td>\n",
       "      <td>0.213268</td>\n",
       "      <td>0.036587</td>\n",
       "    </tr>\n",
       "    <tr>\n",
       "      <th>2014</th>\n",
       "      <td>-0.129432</td>\n",
       "      <td>-0.069676</td>\n",
       "      <td>0.138450</td>\n",
       "      <td>-0.042854</td>\n",
       "      <td>0.160697</td>\n",
       "      <td>0.081734</td>\n",
       "      <td>0.023153</td>\n",
       "      <td>0.002313</td>\n",
       "      <td>-0.081649</td>\n",
       "      <td>-0.079392</td>\n",
       "      <td>0.125229</td>\n",
       "      <td>0.076233</td>\n",
       "      <td>0.061364</td>\n",
       "      <td>0.017350</td>\n",
       "    </tr>\n",
       "    <tr>\n",
       "      <th>2015</th>\n",
       "      <td>0.010885</td>\n",
       "      <td>0.136452</td>\n",
       "      <td>-0.116651</td>\n",
       "      <td>-0.053983</td>\n",
       "      <td>0.139963</td>\n",
       "      <td>-0.106387</td>\n",
       "      <td>0.001713</td>\n",
       "      <td>-0.032892</td>\n",
       "      <td>-0.145544</td>\n",
       "      <td>0.214810</td>\n",
       "      <td>0.046129</td>\n",
       "      <td>-0.091514</td>\n",
       "      <td>0.034669</td>\n",
       "      <td>0.004276</td>\n",
       "    </tr>\n",
       "    <tr>\n",
       "      <th>2016</th>\n",
       "      <td>-0.094378</td>\n",
       "      <td>-0.053032</td>\n",
       "      <td>0.057174</td>\n",
       "      <td>0.158592</td>\n",
       "      <td>-0.031451</td>\n",
       "      <td>0.001107</td>\n",
       "      <td>0.006335</td>\n",
       "      <td>0.072613</td>\n",
       "      <td>0.037114</td>\n",
       "      <td>-0.031975</td>\n",
       "      <td>0.207085</td>\n",
       "      <td>-0.189423</td>\n",
       "      <td>0.033235</td>\n",
       "      <td>0.021441</td>\n",
       "    </tr>\n",
       "    <tr>\n",
       "      <th>2017</th>\n",
       "      <td>0.053835</td>\n",
       "      <td>0.039197</td>\n",
       "      <td>0.139125</td>\n",
       "      <td>0.078844</td>\n",
       "      <td>-0.050818</td>\n",
       "      <td>-0.051948</td>\n",
       "      <td>0.034706</td>\n",
       "      <td>0.080095</td>\n",
       "      <td>-0.013848</td>\n",
       "      <td>0.117715</td>\n",
       "      <td>0.120222</td>\n",
       "      <td>0.026224</td>\n",
       "      <td>-0.012315</td>\n",
       "      <td>0.053016</td>\n",
       "    </tr>\n",
       "    <tr>\n",
       "      <th>2018</th>\n",
       "      <td>0.098919</td>\n",
       "      <td>-0.018249</td>\n",
       "      <td>-0.017143</td>\n",
       "      <td>0.076923</td>\n",
       "      <td>-0.073812</td>\n",
       "      <td>-0.058388</td>\n",
       "      <td>0.001375</td>\n",
       "      <td>0.039279</td>\n",
       "      <td>-0.111368</td>\n",
       "      <td>-0.079959</td>\n",
       "      <td>0.043762</td>\n",
       "      <td>0.054210</td>\n",
       "      <td>-0.012211</td>\n",
       "      <td>-0.011048</td>\n",
       "    </tr>\n",
       "    <tr>\n",
       "      <th>2019</th>\n",
       "      <td>0.008620</td>\n",
       "      <td>0.114022</td>\n",
       "      <td>0.073988</td>\n",
       "      <td>-0.046429</td>\n",
       "      <td>0.106939</td>\n",
       "      <td>0.082005</td>\n",
       "      <td>0.056524</td>\n",
       "      <td>-0.095457</td>\n",
       "      <td>0.037256</td>\n",
       "      <td>-0.106259</td>\n",
       "      <td>-0.001379</td>\n",
       "      <td>0.019728</td>\n",
       "      <td>0.026601</td>\n",
       "      <td>-0.019918</td>\n",
       "    </tr>\n",
       "    <tr>\n",
       "      <th>2020</th>\n",
       "      <td>0.028079</td>\n",
       "      <td>-0.065255</td>\n",
       "      <td>-0.349446</td>\n",
       "      <td>0.038432</td>\n",
       "      <td>-0.071698</td>\n",
       "      <td>0.143840</td>\n",
       "      <td>-0.046008</td>\n",
       "      <td>-0.043466</td>\n",
       "      <td>0.114319</td>\n",
       "      <td>0.011028</td>\n",
       "      <td>0.124176</td>\n",
       "      <td>0.045695</td>\n",
       "      <td>0.258956</td>\n",
       "      <td>0.085118</td>\n",
       "    </tr>\n",
       "    <tr>\n",
       "      <th>2021</th>\n",
       "      <td>-0.096760</td>\n",
       "      <td>0.035392</td>\n",
       "      <td>0.054161</td>\n",
       "      <td>-0.048509</td>\n",
       "      <td>0.106350</td>\n",
       "      <td>0.040053</td>\n",
       "      <td>0.015114</td>\n",
       "      <td>0.067810</td>\n",
       "      <td>0.046401</td>\n",
       "      <td>0.370381</td>\n",
       "      <td>-0.061087</td>\n",
       "      <td>-0.080139</td>\n",
       "      <td>0.034885</td>\n",
       "      <td>0.063042</td>\n",
       "    </tr>\n",
       "    <tr>\n",
       "      <th>2022</th>\n",
       "      <td>0.062660</td>\n",
       "      <td>-0.009391</td>\n",
       "      <td>0.035990</td>\n",
       "      <td>0.021706</td>\n",
       "      <td>-0.160896</td>\n",
       "      <td>-0.084518</td>\n",
       "      <td>-0.022408</td>\n",
       "      <td>0.238590</td>\n",
       "      <td>0.106246</td>\n",
       "      <td>-0.088444</td>\n",
       "      <td>0.007464</td>\n",
       "      <td>-0.000811</td>\n",
       "      <td>-0.060559</td>\n",
       "      <td>0.033748</td>\n",
       "    </tr>\n",
       "    <tr>\n",
       "      <th>2023</th>\n",
       "      <td>-0.054150</td>\n",
       "      <td>0.044400</td>\n",
       "      <td>-0.017261</td>\n",
       "      <td>0.086043</td>\n",
       "      <td>0.017102</td>\n",
       "      <td>0.062236</td>\n",
       "      <td>0.023062</td>\n",
       "      <td>0.136830</td>\n",
       "      <td>0.001161</td>\n",
       "      <td>0.029888</td>\n",
       "      <td>-0.014294</td>\n",
       "      <td>0.233175</td>\n",
       "      <td>0.030339</td>\n",
       "      <td>0.069516</td>\n",
       "    </tr>\n",
       "    <tr>\n",
       "      <th>2024</th>\n",
       "      <td>-0.082897</td>\n",
       "      <td>0.017080</td>\n",
       "      <td>0.097898</td>\n",
       "      <td>0.005082</td>\n",
       "      <td>0.228141</td>\n",
       "      <td>-0.028591</td>\n",
       "      <td>0.039452</td>\n",
       "      <td>0.054736</td>\n",
       "      <td>-0.047329</td>\n",
       "      <td>0.067622</td>\n",
       "      <td>0.039425</td>\n",
       "      <td>0.021653</td>\n",
       "      <td>0.151518</td>\n",
       "      <td>0.047938</td>\n",
       "    </tr>\n",
       "    <tr>\n",
       "      <th>2025</th>\n",
       "      <td>-0.214950</td>\n",
       "      <td>-0.181033</td>\n",
       "      <td>0.102998</td>\n",
       "      <td>0.002565</td>\n",
       "      <td>0.065108</td>\n",
       "      <td>0.091221</td>\n",
       "      <td>-0.022349</td>\n",
       "      <td>-0.143594</td>\n",
       "      <td>-0.009938</td>\n",
       "      <td>NaN</td>\n",
       "      <td>NaN</td>\n",
       "      <td>NaN</td>\n",
       "      <td>NaN</td>\n",
       "      <td>-0.076766</td>\n",
       "    </tr>\n",
       "  </tbody>\n",
       "</table>\n",
       "</div>"
      ],
      "text/plain": [
       "month       Jan       Feb       Mar       Apr       May       Jun  \\\n",
       "year                                                                \n",
       "2010        NaN       NaN       NaN       NaN       NaN       NaN   \n",
       "2011  -0.031684 -0.117148  0.164951  0.002357 -0.122649  0.077155   \n",
       "2012   0.200906  0.127605 -0.050863  0.013722 -0.056338 -0.048517   \n",
       "2013   0.010758 -0.053734 -0.065131 -0.053367 -0.042230 -0.153039   \n",
       "2014  -0.129432 -0.069676  0.138450 -0.042854  0.160697  0.081734   \n",
       "2015   0.010885  0.136452 -0.116651 -0.053983  0.139963 -0.106387   \n",
       "2016  -0.094378 -0.053032  0.057174  0.158592 -0.031451  0.001107   \n",
       "2017   0.053835  0.039197  0.139125  0.078844 -0.050818 -0.051948   \n",
       "2018   0.098919 -0.018249 -0.017143  0.076923 -0.073812 -0.058388   \n",
       "2019   0.008620  0.114022  0.073988 -0.046429  0.106939  0.082005   \n",
       "2020   0.028079 -0.065255 -0.349446  0.038432 -0.071698  0.143840   \n",
       "2021  -0.096760  0.035392  0.054161 -0.048509  0.106350  0.040053   \n",
       "2022   0.062660 -0.009391  0.035990  0.021706 -0.160896 -0.084518   \n",
       "2023  -0.054150  0.044400 -0.017261  0.086043  0.017102  0.062236   \n",
       "2024  -0.082897  0.017080  0.097898  0.005082  0.228141 -0.028591   \n",
       "2025  -0.214950 -0.181033  0.102998  0.002565  0.065108  0.091221   \n",
       "\n",
       "month  first_half_avg       Jul       Aug       Sep       Oct       Nov  \\\n",
       "year                                                                      \n",
       "2010              NaN       NaN       NaN       NaN       NaN -0.033865   \n",
       "2011        -0.004503 -0.007079 -0.060180  0.033244  0.011660 -0.059552   \n",
       "2012         0.031086 -0.049918 -0.010811  0.158033  0.030766  0.045779   \n",
       "2013        -0.059457  0.017068 -0.164576  0.015616  0.112359  0.025784   \n",
       "2014         0.023153  0.002313 -0.081649 -0.079392  0.125229  0.076233   \n",
       "2015         0.001713 -0.032892 -0.145544  0.214810  0.046129 -0.091514   \n",
       "2016         0.006335  0.072613  0.037114 -0.031975  0.207085 -0.189423   \n",
       "2017         0.034706  0.080095 -0.013848  0.117715  0.120222  0.026224   \n",
       "2018         0.001375  0.039279 -0.111368 -0.079959  0.043762  0.054210   \n",
       "2019         0.056524 -0.095457  0.037256 -0.106259 -0.001379  0.019728   \n",
       "2020        -0.046008 -0.043466  0.114319  0.011028  0.124176  0.045695   \n",
       "2021         0.015114  0.067810  0.046401  0.370381 -0.061087 -0.080139   \n",
       "2022        -0.022408  0.238590  0.106246 -0.088444  0.007464 -0.000811   \n",
       "2023         0.023062  0.136830  0.001161  0.029888 -0.014294  0.233175   \n",
       "2024         0.039452  0.054736 -0.047329  0.067622  0.039425  0.021653   \n",
       "2025        -0.022349 -0.143594 -0.009938       NaN       NaN       NaN   \n",
       "\n",
       "month       Dec  second_half_avg  \n",
       "year                              \n",
       "2010  -0.051743        -0.042804  \n",
       "2011  -0.047662        -0.021595  \n",
       "2012   0.009105         0.030492  \n",
       "2013   0.213268         0.036587  \n",
       "2014   0.061364         0.017350  \n",
       "2015   0.034669         0.004276  \n",
       "2016   0.033235         0.021441  \n",
       "2017  -0.012315         0.053016  \n",
       "2018  -0.012211        -0.011048  \n",
       "2019   0.026601        -0.019918  \n",
       "2020   0.258956         0.085118  \n",
       "2021   0.034885         0.063042  \n",
       "2022  -0.060559         0.033748  \n",
       "2023   0.030339         0.069516  \n",
       "2024   0.151518         0.047938  \n",
       "2025        NaN        -0.076766  "
      ]
     },
     "execution_count": 49,
     "metadata": {},
     "output_type": "execute_result"
    }
   ],
   "source": [
    "# Problem Statement 3\n",
    "MONTHS = [\n",
    "    \"Jan\",\n",
    "    \"Feb\",\n",
    "    \"Mar\",\n",
    "    \"Apr\",\n",
    "    \"May\",\n",
    "    \"Jun\",\n",
    "    \"Jul\",\n",
    "    \"Aug\",\n",
    "    \"Sep\",\n",
    "    \"Oct\",\n",
    "    \"Nov\",\n",
    "    \"Dec\",\n",
    "]\n",
    "(\n",
    "    stock_data.to_frame(\"close\")\n",
    "    .resample(\"ME\")\n",
    "    .last()\n",
    "    .assign(\n",
    "        month=lambda df_: df_.index.strftime(\"%b\"),  # type: ignore\n",
    "        year=lambda df_: df_.index.strftime(\"%Y\"),  # type: ignore\n",
    "        monthly_returns=lambda df_: df_[\"close\"].pct_change(),\n",
    "    )\n",
    "    .astype({\"month\": pd.CategoricalDtype(MONTHS, ordered=True)})\n",
    "    .pivot_table(\n",
    "        index=\"year\",\n",
    "        columns=\"month\",\n",
    "        values=\"monthly_returns\",\n",
    "    )\n",
    "    .assign(\n",
    "        first_half_avg=lambda df_: df_.loc[:, \"Jan\":\"Jun\"].mean(axis=1),\n",
    "        second_half_avg=lambda df_: df_.loc[:, \"Jul\":\"Dec\"].mean(axis=1),\n",
    "    )[[*MONTHS[:6], \"first_half_avg\", *MONTHS[6:], \"second_half_avg\"]]\n",
    ")"
   ]
  },
  {
   "cell_type": "code",
   "execution_count": null,
   "id": "e221b580",
   "metadata": {},
   "outputs": [
    {
     "data": {
      "text/html": [
       "<div>\n",
       "<style scoped>\n",
       "    .dataframe tbody tr th:only-of-type {\n",
       "        vertical-align: middle;\n",
       "    }\n",
       "\n",
       "    .dataframe tbody tr th {\n",
       "        vertical-align: top;\n",
       "    }\n",
       "\n",
       "    .dataframe thead th {\n",
       "        text-align: right;\n",
       "    }\n",
       "</style>\n",
       "<table border=\"1\" class=\"dataframe\">\n",
       "  <thead>\n",
       "    <tr style=\"text-align: right;\">\n",
       "      <th>month</th>\n",
       "      <th>Jan</th>\n",
       "      <th>Feb</th>\n",
       "      <th>Mar</th>\n",
       "      <th>Apr</th>\n",
       "      <th>May</th>\n",
       "      <th>Jun</th>\n",
       "      <th>Jul</th>\n",
       "      <th>Aug</th>\n",
       "      <th>Sep</th>\n",
       "      <th>Oct</th>\n",
       "      <th>Nov</th>\n",
       "      <th>Dec</th>\n",
       "      <th>annual_returns</th>\n",
       "      <th>first_half_avg</th>\n",
       "      <th>second_half_avg</th>\n",
       "    </tr>\n",
       "    <tr>\n",
       "      <th>year</th>\n",
       "      <th></th>\n",
       "      <th></th>\n",
       "      <th></th>\n",
       "      <th></th>\n",
       "      <th></th>\n",
       "      <th></th>\n",
       "      <th></th>\n",
       "      <th></th>\n",
       "      <th></th>\n",
       "      <th></th>\n",
       "      <th></th>\n",
       "      <th></th>\n",
       "      <th></th>\n",
       "      <th></th>\n",
       "      <th></th>\n",
       "    </tr>\n",
       "  </thead>\n",
       "  <tbody>\n",
       "    <tr>\n",
       "      <th>2010</th>\n",
       "      <td>NaN</td>\n",
       "      <td>NaN</td>\n",
       "      <td>NaN</td>\n",
       "      <td>NaN</td>\n",
       "      <td>NaN</td>\n",
       "      <td>NaN</td>\n",
       "      <td>NaN</td>\n",
       "      <td>NaN</td>\n",
       "      <td>NaN</td>\n",
       "      <td>NaN</td>\n",
       "      <td>-0.033865</td>\n",
       "      <td>-0.051743</td>\n",
       "      <td>-0.083856</td>\n",
       "      <td>NaN</td>\n",
       "      <td>-0.042804</td>\n",
       "    </tr>\n",
       "    <tr>\n",
       "      <th>2011</th>\n",
       "      <td>-0.031684</td>\n",
       "      <td>-0.117148</td>\n",
       "      <td>0.164951</td>\n",
       "      <td>0.002357</td>\n",
       "      <td>-0.122649</td>\n",
       "      <td>0.077155</td>\n",
       "      <td>-0.007079</td>\n",
       "      <td>-0.060180</td>\n",
       "      <td>0.033244</td>\n",
       "      <td>0.011660</td>\n",
       "      <td>-0.059552</td>\n",
       "      <td>-0.047662</td>\n",
       "      <td>-0.175844</td>\n",
       "      <td>-0.004503</td>\n",
       "      <td>-0.021595</td>\n",
       "    </tr>\n",
       "    <tr>\n",
       "      <th>2012</th>\n",
       "      <td>0.200906</td>\n",
       "      <td>0.127605</td>\n",
       "      <td>-0.050863</td>\n",
       "      <td>0.013722</td>\n",
       "      <td>-0.056338</td>\n",
       "      <td>-0.048517</td>\n",
       "      <td>-0.049918</td>\n",
       "      <td>-0.010811</td>\n",
       "      <td>0.158033</td>\n",
       "      <td>0.030766</td>\n",
       "      <td>0.045779</td>\n",
       "      <td>0.009105</td>\n",
       "      <td>0.384935</td>\n",
       "      <td>0.031086</td>\n",
       "      <td>0.030492</td>\n",
       "    </tr>\n",
       "    <tr>\n",
       "      <th>2013</th>\n",
       "      <td>0.010758</td>\n",
       "      <td>-0.053734</td>\n",
       "      <td>-0.065131</td>\n",
       "      <td>-0.053367</td>\n",
       "      <td>-0.042230</td>\n",
       "      <td>-0.153039</td>\n",
       "      <td>0.017068</td>\n",
       "      <td>-0.164576</td>\n",
       "      <td>0.015616</td>\n",
       "      <td>0.112359</td>\n",
       "      <td>0.025784</td>\n",
       "      <td>0.213268</td>\n",
       "      <td>-0.179721</td>\n",
       "      <td>-0.059457</td>\n",
       "      <td>0.036587</td>\n",
       "    </tr>\n",
       "    <tr>\n",
       "      <th>2014</th>\n",
       "      <td>-0.129432</td>\n",
       "      <td>-0.069676</td>\n",
       "      <td>0.138450</td>\n",
       "      <td>-0.042854</td>\n",
       "      <td>0.160697</td>\n",
       "      <td>0.081734</td>\n",
       "      <td>0.002313</td>\n",
       "      <td>-0.081649</td>\n",
       "      <td>-0.079392</td>\n",
       "      <td>0.125229</td>\n",
       "      <td>0.076233</td>\n",
       "      <td>0.061364</td>\n",
       "      <td>0.206888</td>\n",
       "      <td>0.023153</td>\n",
       "      <td>0.017350</td>\n",
       "    </tr>\n",
       "    <tr>\n",
       "      <th>2015</th>\n",
       "      <td>0.010885</td>\n",
       "      <td>0.136452</td>\n",
       "      <td>-0.116651</td>\n",
       "      <td>-0.053983</td>\n",
       "      <td>0.139963</td>\n",
       "      <td>-0.106387</td>\n",
       "      <td>-0.032892</td>\n",
       "      <td>-0.145544</td>\n",
       "      <td>0.214810</td>\n",
       "      <td>0.046129</td>\n",
       "      <td>-0.091514</td>\n",
       "      <td>0.034669</td>\n",
       "      <td>-0.034612</td>\n",
       "      <td>0.001713</td>\n",
       "      <td>0.004276</td>\n",
       "    </tr>\n",
       "    <tr>\n",
       "      <th>2016</th>\n",
       "      <td>-0.094378</td>\n",
       "      <td>-0.053032</td>\n",
       "      <td>0.057174</td>\n",
       "      <td>0.158592</td>\n",
       "      <td>-0.031451</td>\n",
       "      <td>0.001107</td>\n",
       "      <td>0.072613</td>\n",
       "      <td>0.037114</td>\n",
       "      <td>-0.031975</td>\n",
       "      <td>0.207085</td>\n",
       "      <td>-0.189423</td>\n",
       "      <td>0.033235</td>\n",
       "      <td>0.108788</td>\n",
       "      <td>0.006335</td>\n",
       "      <td>0.021441</td>\n",
       "    </tr>\n",
       "    <tr>\n",
       "      <th>2017</th>\n",
       "      <td>0.053835</td>\n",
       "      <td>0.039197</td>\n",
       "      <td>0.139125</td>\n",
       "      <td>0.078844</td>\n",
       "      <td>-0.050818</td>\n",
       "      <td>-0.051948</td>\n",
       "      <td>0.080095</td>\n",
       "      <td>-0.013848</td>\n",
       "      <td>0.117715</td>\n",
       "      <td>0.120222</td>\n",
       "      <td>0.026224</td>\n",
       "      <td>-0.012315</td>\n",
       "      <td>0.637133</td>\n",
       "      <td>0.034706</td>\n",
       "      <td>0.053016</td>\n",
       "    </tr>\n",
       "    <tr>\n",
       "      <th>2018</th>\n",
       "      <td>0.098919</td>\n",
       "      <td>-0.018249</td>\n",
       "      <td>-0.017143</td>\n",
       "      <td>0.076923</td>\n",
       "      <td>-0.073812</td>\n",
       "      <td>-0.058388</td>\n",
       "      <td>0.039279</td>\n",
       "      <td>-0.111368</td>\n",
       "      <td>-0.079959</td>\n",
       "      <td>0.043762</td>\n",
       "      <td>0.054210</td>\n",
       "      <td>-0.012211</td>\n",
       "      <td>-0.080256</td>\n",
       "      <td>0.001375</td>\n",
       "      <td>-0.011048</td>\n",
       "    </tr>\n",
       "    <tr>\n",
       "      <th>2019</th>\n",
       "      <td>0.008620</td>\n",
       "      <td>0.114022</td>\n",
       "      <td>0.073988</td>\n",
       "      <td>-0.046429</td>\n",
       "      <td>0.106939</td>\n",
       "      <td>0.082005</td>\n",
       "      <td>-0.095457</td>\n",
       "      <td>0.037256</td>\n",
       "      <td>-0.106259</td>\n",
       "      <td>-0.001379</td>\n",
       "      <td>0.019728</td>\n",
       "      <td>0.026601</td>\n",
       "      <td>0.208203</td>\n",
       "      <td>0.056524</td>\n",
       "      <td>-0.019918</td>\n",
       "    </tr>\n",
       "    <tr>\n",
       "      <th>2020</th>\n",
       "      <td>0.028079</td>\n",
       "      <td>-0.065255</td>\n",
       "      <td>-0.349446</td>\n",
       "      <td>0.038432</td>\n",
       "      <td>-0.071698</td>\n",
       "      <td>0.143840</td>\n",
       "      <td>-0.043466</td>\n",
       "      <td>0.114319</td>\n",
       "      <td>0.011028</td>\n",
       "      <td>0.124176</td>\n",
       "      <td>0.045695</td>\n",
       "      <td>0.258956</td>\n",
       "      <td>0.099406</td>\n",
       "      <td>-0.046008</td>\n",
       "      <td>0.085118</td>\n",
       "    </tr>\n",
       "    <tr>\n",
       "      <th>2021</th>\n",
       "      <td>-0.096760</td>\n",
       "      <td>0.035392</td>\n",
       "      <td>0.054161</td>\n",
       "      <td>-0.048509</td>\n",
       "      <td>0.106350</td>\n",
       "      <td>0.040053</td>\n",
       "      <td>0.067810</td>\n",
       "      <td>0.046401</td>\n",
       "      <td>0.370381</td>\n",
       "      <td>-0.061087</td>\n",
       "      <td>-0.080139</td>\n",
       "      <td>0.034885</td>\n",
       "      <td>0.477203</td>\n",
       "      <td>0.015114</td>\n",
       "      <td>0.063042</td>\n",
       "    </tr>\n",
       "    <tr>\n",
       "      <th>2022</th>\n",
       "      <td>0.062660</td>\n",
       "      <td>-0.009391</td>\n",
       "      <td>0.035990</td>\n",
       "      <td>0.021706</td>\n",
       "      <td>-0.160896</td>\n",
       "      <td>-0.084518</td>\n",
       "      <td>0.238590</td>\n",
       "      <td>0.106246</td>\n",
       "      <td>-0.088444</td>\n",
       "      <td>0.007464</td>\n",
       "      <td>-0.000811</td>\n",
       "      <td>-0.060559</td>\n",
       "      <td>0.011005</td>\n",
       "      <td>-0.022408</td>\n",
       "      <td>0.033748</td>\n",
       "    </tr>\n",
       "    <tr>\n",
       "      <th>2023</th>\n",
       "      <td>-0.054150</td>\n",
       "      <td>0.044400</td>\n",
       "      <td>-0.017261</td>\n",
       "      <td>0.086043</td>\n",
       "      <td>0.017102</td>\n",
       "      <td>0.062236</td>\n",
       "      <td>0.136830</td>\n",
       "      <td>0.001161</td>\n",
       "      <td>0.029888</td>\n",
       "      <td>-0.014294</td>\n",
       "      <td>0.233175</td>\n",
       "      <td>0.030339</td>\n",
       "      <td>0.672250</td>\n",
       "      <td>0.023062</td>\n",
       "      <td>0.069516</td>\n",
       "    </tr>\n",
       "    <tr>\n",
       "      <th>2024</th>\n",
       "      <td>-0.082897</td>\n",
       "      <td>0.017080</td>\n",
       "      <td>0.097898</td>\n",
       "      <td>0.005082</td>\n",
       "      <td>0.228141</td>\n",
       "      <td>-0.028591</td>\n",
       "      <td>0.054736</td>\n",
       "      <td>-0.047329</td>\n",
       "      <td>0.067622</td>\n",
       "      <td>0.039425</td>\n",
       "      <td>0.021653</td>\n",
       "      <td>0.151518</td>\n",
       "      <td>0.610864</td>\n",
       "      <td>0.039452</td>\n",
       "      <td>0.047938</td>\n",
       "    </tr>\n",
       "    <tr>\n",
       "      <th>2025</th>\n",
       "      <td>-0.214950</td>\n",
       "      <td>-0.181033</td>\n",
       "      <td>0.102998</td>\n",
       "      <td>0.002565</td>\n",
       "      <td>0.065108</td>\n",
       "      <td>0.091221</td>\n",
       "      <td>-0.143594</td>\n",
       "      <td>-0.009938</td>\n",
       "      <td>NaN</td>\n",
       "      <td>NaN</td>\n",
       "      <td>NaN</td>\n",
       "      <td>NaN</td>\n",
       "      <td>-0.299354</td>\n",
       "      <td>-0.022349</td>\n",
       "      <td>-0.076766</td>\n",
       "    </tr>\n",
       "  </tbody>\n",
       "</table>\n",
       "</div>"
      ],
      "text/plain": [
       "month       Jan       Feb       Mar       Apr       May       Jun       Jul  \\\n",
       "year                                                                          \n",
       "2010        NaN       NaN       NaN       NaN       NaN       NaN       NaN   \n",
       "2011  -0.031684 -0.117148  0.164951  0.002357 -0.122649  0.077155 -0.007079   \n",
       "2012   0.200906  0.127605 -0.050863  0.013722 -0.056338 -0.048517 -0.049918   \n",
       "2013   0.010758 -0.053734 -0.065131 -0.053367 -0.042230 -0.153039  0.017068   \n",
       "2014  -0.129432 -0.069676  0.138450 -0.042854  0.160697  0.081734  0.002313   \n",
       "2015   0.010885  0.136452 -0.116651 -0.053983  0.139963 -0.106387 -0.032892   \n",
       "2016  -0.094378 -0.053032  0.057174  0.158592 -0.031451  0.001107  0.072613   \n",
       "2017   0.053835  0.039197  0.139125  0.078844 -0.050818 -0.051948  0.080095   \n",
       "2018   0.098919 -0.018249 -0.017143  0.076923 -0.073812 -0.058388  0.039279   \n",
       "2019   0.008620  0.114022  0.073988 -0.046429  0.106939  0.082005 -0.095457   \n",
       "2020   0.028079 -0.065255 -0.349446  0.038432 -0.071698  0.143840 -0.043466   \n",
       "2021  -0.096760  0.035392  0.054161 -0.048509  0.106350  0.040053  0.067810   \n",
       "2022   0.062660 -0.009391  0.035990  0.021706 -0.160896 -0.084518  0.238590   \n",
       "2023  -0.054150  0.044400 -0.017261  0.086043  0.017102  0.062236  0.136830   \n",
       "2024  -0.082897  0.017080  0.097898  0.005082  0.228141 -0.028591  0.054736   \n",
       "2025  -0.214950 -0.181033  0.102998  0.002565  0.065108  0.091221 -0.143594   \n",
       "\n",
       "month       Aug       Sep       Oct       Nov       Dec  annual_returns  \\\n",
       "year                                                                      \n",
       "2010        NaN       NaN       NaN -0.033865 -0.051743       -0.083856   \n",
       "2011  -0.060180  0.033244  0.011660 -0.059552 -0.047662       -0.175844   \n",
       "2012  -0.010811  0.158033  0.030766  0.045779  0.009105        0.384935   \n",
       "2013  -0.164576  0.015616  0.112359  0.025784  0.213268       -0.179721   \n",
       "2014  -0.081649 -0.079392  0.125229  0.076233  0.061364        0.206888   \n",
       "2015  -0.145544  0.214810  0.046129 -0.091514  0.034669       -0.034612   \n",
       "2016   0.037114 -0.031975  0.207085 -0.189423  0.033235        0.108788   \n",
       "2017  -0.013848  0.117715  0.120222  0.026224 -0.012315        0.637133   \n",
       "2018  -0.111368 -0.079959  0.043762  0.054210 -0.012211       -0.080256   \n",
       "2019   0.037256 -0.106259 -0.001379  0.019728  0.026601        0.208203   \n",
       "2020   0.114319  0.011028  0.124176  0.045695  0.258956        0.099406   \n",
       "2021   0.046401  0.370381 -0.061087 -0.080139  0.034885        0.477203   \n",
       "2022   0.106246 -0.088444  0.007464 -0.000811 -0.060559        0.011005   \n",
       "2023   0.001161  0.029888 -0.014294  0.233175  0.030339        0.672250   \n",
       "2024  -0.047329  0.067622  0.039425  0.021653  0.151518        0.610864   \n",
       "2025  -0.009938       NaN       NaN       NaN       NaN       -0.299354   \n",
       "\n",
       "month  first_half_avg  second_half_avg  \n",
       "year                                    \n",
       "2010              NaN        -0.042804  \n",
       "2011        -0.004503        -0.021595  \n",
       "2012         0.031086         0.030492  \n",
       "2013        -0.059457         0.036587  \n",
       "2014         0.023153         0.017350  \n",
       "2015         0.001713         0.004276  \n",
       "2016         0.006335         0.021441  \n",
       "2017         0.034706         0.053016  \n",
       "2018         0.001375        -0.011048  \n",
       "2019         0.056524        -0.019918  \n",
       "2020        -0.046008         0.085118  \n",
       "2021         0.015114         0.063042  \n",
       "2022        -0.022408         0.033748  \n",
       "2023         0.023062         0.069516  \n",
       "2024         0.039452         0.047938  \n",
       "2025        -0.022349        -0.076766  "
      ]
     },
     "execution_count": 50,
     "metadata": {},
     "output_type": "execute_result"
    }
   ],
   "source": [
    "# Problem Statement 4\n",
    "MONTHS = [\n",
    "    \"Jan\",\n",
    "    \"Feb\",\n",
    "    \"Mar\",\n",
    "    \"Apr\",\n",
    "    \"May\",\n",
    "    \"Jun\",\n",
    "    \"Jul\",\n",
    "    \"Aug\",\n",
    "    \"Sep\",\n",
    "    \"Oct\",\n",
    "    \"Nov\",\n",
    "    \"Dec\",\n",
    "]\n",
    "\n",
    "\n",
    "def calc_annual_return(monthly_returns: pd.Series):\n",
    "    return monthly_returns.add(1, fill_value=0.0).prod() - 1.0  # type: ignore\n",
    "\n",
    "\n",
    "(\n",
    "    stock_data.to_frame(\"close\")\n",
    "    .resample(\"ME\")\n",
    "    .last()\n",
    "    .assign(\n",
    "        month=lambda df_: df_.index.strftime(\"%b\"),  # type: ignore\n",
    "        year=lambda df_: df_.index.strftime(\"%Y\"),  # type: ignore\n",
    "        monthly_returns=lambda df_: df_[\"close\"].pct_change(),\n",
    "    )\n",
    "    .astype({\"month\": pd.CategoricalDtype(MONTHS, ordered=True)})\n",
    "    .pivot_table(index=\"year\", columns=\"month\", values=\"monthly_returns\", observed=True)\n",
    "    .assign(\n",
    "        annual_returns=lambda df_: df_.loc[:, \"Jan\":\"Dec\"].agg(\n",
    "            calc_annual_return, axis=1\n",
    "        ),\n",
    "        first_half_avg=lambda df_: df_.loc[:, \"Jan\":\"Jun\"].mean(axis=1),\n",
    "        second_half_avg=lambda df_: df_.loc[:, \"Jul\":\"Dec\"].mean(axis=1),\n",
    "    )\n",
    "    # [[*months[:6], \"first_half_avg\", *months[6:], \"second_half_avg\"]]\n",
    ")"
   ]
  },
  {
   "cell_type": "code",
   "execution_count": null,
   "id": "aa3e55b1",
   "metadata": {},
   "outputs": [
    {
     "data": {
      "text/html": [
       "<div>\n",
       "<style scoped>\n",
       "    .dataframe tbody tr th:only-of-type {\n",
       "        vertical-align: middle;\n",
       "    }\n",
       "\n",
       "    .dataframe tbody tr th {\n",
       "        vertical-align: top;\n",
       "    }\n",
       "\n",
       "    .dataframe thead th {\n",
       "        text-align: right;\n",
       "    }\n",
       "</style>\n",
       "<table border=\"1\" class=\"dataframe\">\n",
       "  <thead>\n",
       "    <tr style=\"text-align: right;\">\n",
       "      <th>month</th>\n",
       "      <th>Jan</th>\n",
       "      <th>Feb</th>\n",
       "      <th>Mar</th>\n",
       "      <th>Apr</th>\n",
       "      <th>May</th>\n",
       "      <th>Jun</th>\n",
       "      <th>Jul</th>\n",
       "      <th>Aug</th>\n",
       "      <th>Sep</th>\n",
       "      <th>Oct</th>\n",
       "      <th>...</th>\n",
       "      <th>Mar_contrib</th>\n",
       "      <th>Apr_contrib</th>\n",
       "      <th>May_contrib</th>\n",
       "      <th>Jun_contrib</th>\n",
       "      <th>Jul_contrib</th>\n",
       "      <th>Aug_contrib</th>\n",
       "      <th>Sep_contrib</th>\n",
       "      <th>Oct_contrib</th>\n",
       "      <th>Nov_contrib</th>\n",
       "      <th>Dec_contrib</th>\n",
       "    </tr>\n",
       "    <tr>\n",
       "      <th>year</th>\n",
       "      <th></th>\n",
       "      <th></th>\n",
       "      <th></th>\n",
       "      <th></th>\n",
       "      <th></th>\n",
       "      <th></th>\n",
       "      <th></th>\n",
       "      <th></th>\n",
       "      <th></th>\n",
       "      <th></th>\n",
       "      <th></th>\n",
       "      <th></th>\n",
       "      <th></th>\n",
       "      <th></th>\n",
       "      <th></th>\n",
       "      <th></th>\n",
       "      <th></th>\n",
       "      <th></th>\n",
       "      <th></th>\n",
       "      <th></th>\n",
       "      <th></th>\n",
       "    </tr>\n",
       "  </thead>\n",
       "  <tbody>\n",
       "    <tr>\n",
       "      <th>2010</th>\n",
       "      <td>NaN</td>\n",
       "      <td>NaN</td>\n",
       "      <td>NaN</td>\n",
       "      <td>NaN</td>\n",
       "      <td>NaN</td>\n",
       "      <td>NaN</td>\n",
       "      <td>NaN</td>\n",
       "      <td>NaN</td>\n",
       "      <td>NaN</td>\n",
       "      <td>NaN</td>\n",
       "      <td>...</td>\n",
       "      <td>NaN</td>\n",
       "      <td>NaN</td>\n",
       "      <td>NaN</td>\n",
       "      <td>NaN</td>\n",
       "      <td>NaN</td>\n",
       "      <td>NaN</td>\n",
       "      <td>NaN</td>\n",
       "      <td>NaN</td>\n",
       "      <td>0.393368</td>\n",
       "      <td>0.606632</td>\n",
       "    </tr>\n",
       "    <tr>\n",
       "      <th>2011</th>\n",
       "      <td>-0.031684</td>\n",
       "      <td>-0.117148</td>\n",
       "      <td>0.164951</td>\n",
       "      <td>0.002357</td>\n",
       "      <td>-0.122649</td>\n",
       "      <td>0.077155</td>\n",
       "      <td>-0.007079</td>\n",
       "      <td>-0.060180</td>\n",
       "      <td>0.033244</td>\n",
       "      <td>0.011660</td>\n",
       "      <td>...</td>\n",
       "      <td>-0.789463</td>\n",
       "      <td>-0.012171</td>\n",
       "      <td>0.676581</td>\n",
       "      <td>-0.384305</td>\n",
       "      <td>0.036733</td>\n",
       "      <td>0.320934</td>\n",
       "      <td>-0.169101</td>\n",
       "      <td>-0.059945</td>\n",
       "      <td>0.317476</td>\n",
       "      <td>0.252517</td>\n",
       "    </tr>\n",
       "    <tr>\n",
       "      <th>2012</th>\n",
       "      <td>0.200906</td>\n",
       "      <td>0.127605</td>\n",
       "      <td>-0.050863</td>\n",
       "      <td>0.013722</td>\n",
       "      <td>-0.056338</td>\n",
       "      <td>-0.048517</td>\n",
       "      <td>-0.049918</td>\n",
       "      <td>-0.010811</td>\n",
       "      <td>0.158033</td>\n",
       "      <td>0.030766</td>\n",
       "      <td>...</td>\n",
       "      <td>-0.160298</td>\n",
       "      <td>0.041849</td>\n",
       "      <td>-0.178065</td>\n",
       "      <td>-0.152718</td>\n",
       "      <td>-0.157244</td>\n",
       "      <td>-0.033378</td>\n",
       "      <td>0.450549</td>\n",
       "      <td>0.093051</td>\n",
       "      <td>0.137454</td>\n",
       "      <td>0.027834</td>\n",
       "    </tr>\n",
       "    <tr>\n",
       "      <th>2013</th>\n",
       "      <td>0.010758</td>\n",
       "      <td>-0.053734</td>\n",
       "      <td>-0.065131</td>\n",
       "      <td>-0.053367</td>\n",
       "      <td>-0.042230</td>\n",
       "      <td>-0.153039</td>\n",
       "      <td>0.017068</td>\n",
       "      <td>-0.164576</td>\n",
       "      <td>0.015616</td>\n",
       "      <td>0.112359</td>\n",
       "      <td>...</td>\n",
       "      <td>0.339955</td>\n",
       "      <td>0.276834</td>\n",
       "      <td>0.217798</td>\n",
       "      <td>0.838427</td>\n",
       "      <td>-0.085429</td>\n",
       "      <td>0.907656</td>\n",
       "      <td>-0.078215</td>\n",
       "      <td>-0.537495</td>\n",
       "      <td>-0.128500</td>\n",
       "      <td>-0.975807</td>\n",
       "    </tr>\n",
       "    <tr>\n",
       "      <th>2014</th>\n",
       "      <td>-0.129432</td>\n",
       "      <td>-0.069676</td>\n",
       "      <td>0.138450</td>\n",
       "      <td>-0.042854</td>\n",
       "      <td>0.160697</td>\n",
       "      <td>0.081734</td>\n",
       "      <td>0.002313</td>\n",
       "      <td>-0.081649</td>\n",
       "      <td>-0.079392</td>\n",
       "      <td>0.125229</td>\n",
       "      <td>...</td>\n",
       "      <td>0.689553</td>\n",
       "      <td>-0.232918</td>\n",
       "      <td>0.792472</td>\n",
       "      <td>0.417802</td>\n",
       "      <td>0.012288</td>\n",
       "      <td>-0.452952</td>\n",
       "      <td>-0.439898</td>\n",
       "      <td>0.627438</td>\n",
       "      <td>0.390688</td>\n",
       "      <td>0.316703</td>\n",
       "    </tr>\n",
       "    <tr>\n",
       "      <th>2015</th>\n",
       "      <td>0.010885</td>\n",
       "      <td>0.136452</td>\n",
       "      <td>-0.116651</td>\n",
       "      <td>-0.053983</td>\n",
       "      <td>0.139963</td>\n",
       "      <td>-0.106387</td>\n",
       "      <td>-0.032892</td>\n",
       "      <td>-0.145544</td>\n",
       "      <td>0.214810</td>\n",
       "      <td>0.046129</td>\n",
       "      <td>...</td>\n",
       "      <td>3.521177</td>\n",
       "      <td>1.575415</td>\n",
       "      <td>-3.718783</td>\n",
       "      <td>3.193224</td>\n",
       "      <td>0.949460</td>\n",
       "      <td>4.465253</td>\n",
       "      <td>-5.524050</td>\n",
       "      <td>-1.280220</td>\n",
       "      <td>2.724603</td>\n",
       "      <td>-0.967527</td>\n",
       "    </tr>\n",
       "    <tr>\n",
       "      <th>2016</th>\n",
       "      <td>-0.094378</td>\n",
       "      <td>-0.053032</td>\n",
       "      <td>0.057174</td>\n",
       "      <td>0.158592</td>\n",
       "      <td>-0.031451</td>\n",
       "      <td>0.001107</td>\n",
       "      <td>0.072613</td>\n",
       "      <td>0.037114</td>\n",
       "      <td>-0.031975</td>\n",
       "      <td>0.207085</td>\n",
       "      <td>...</td>\n",
       "      <td>0.538402</td>\n",
       "      <td>1.425480</td>\n",
       "      <td>-0.309453</td>\n",
       "      <td>0.010715</td>\n",
       "      <td>0.678798</td>\n",
       "      <td>0.352887</td>\n",
       "      <td>-0.314693</td>\n",
       "      <td>1.822536</td>\n",
       "      <td>-2.033641</td>\n",
       "      <td>0.316597</td>\n",
       "    </tr>\n",
       "    <tr>\n",
       "      <th>2017</th>\n",
       "      <td>0.053835</td>\n",
       "      <td>0.039197</td>\n",
       "      <td>0.139125</td>\n",
       "      <td>0.078844</td>\n",
       "      <td>-0.050818</td>\n",
       "      <td>-0.051948</td>\n",
       "      <td>0.080095</td>\n",
       "      <td>-0.013848</td>\n",
       "      <td>0.117715</td>\n",
       "      <td>0.120222</td>\n",
       "      <td>...</td>\n",
       "      <td>0.264248</td>\n",
       "      <td>0.153952</td>\n",
       "      <td>-0.105801</td>\n",
       "      <td>-0.108218</td>\n",
       "      <td>0.156303</td>\n",
       "      <td>-0.028288</td>\n",
       "      <td>0.225758</td>\n",
       "      <td>0.230302</td>\n",
       "      <td>0.052513</td>\n",
       "      <td>-0.025138</td>\n",
       "    </tr>\n",
       "    <tr>\n",
       "      <th>2018</th>\n",
       "      <td>0.098919</td>\n",
       "      <td>-0.018249</td>\n",
       "      <td>-0.017143</td>\n",
       "      <td>0.076923</td>\n",
       "      <td>-0.073812</td>\n",
       "      <td>-0.058388</td>\n",
       "      <td>0.039279</td>\n",
       "      <td>-0.111368</td>\n",
       "      <td>-0.079959</td>\n",
       "      <td>0.043762</td>\n",
       "      <td>...</td>\n",
       "      <td>0.206695</td>\n",
       "      <td>-0.885830</td>\n",
       "      <td>0.916545</td>\n",
       "      <td>0.719134</td>\n",
       "      <td>-0.460526</td>\n",
       "      <td>1.411349</td>\n",
       "      <td>0.996151</td>\n",
       "      <td>-0.511979</td>\n",
       "      <td>-0.631035</td>\n",
       "      <td>0.146863</td>\n",
       "    </tr>\n",
       "    <tr>\n",
       "      <th>2019</th>\n",
       "      <td>0.008620</td>\n",
       "      <td>0.114022</td>\n",
       "      <td>0.073988</td>\n",
       "      <td>-0.046429</td>\n",
       "      <td>0.106939</td>\n",
       "      <td>0.082005</td>\n",
       "      <td>-0.095457</td>\n",
       "      <td>0.037256</td>\n",
       "      <td>-0.106259</td>\n",
       "      <td>-0.001379</td>\n",
       "      <td>...</td>\n",
       "      <td>0.377398</td>\n",
       "      <td>-0.251361</td>\n",
       "      <td>0.537175</td>\n",
       "      <td>0.416720</td>\n",
       "      <td>-0.530447</td>\n",
       "      <td>0.193402</td>\n",
       "      <td>-0.593967</td>\n",
       "      <td>-0.007297</td>\n",
       "      <td>0.103291</td>\n",
       "      <td>0.138808</td>\n",
       "    </tr>\n",
       "    <tr>\n",
       "      <th>2020</th>\n",
       "      <td>0.028079</td>\n",
       "      <td>-0.065255</td>\n",
       "      <td>-0.349446</td>\n",
       "      <td>0.038432</td>\n",
       "      <td>-0.071698</td>\n",
       "      <td>0.143840</td>\n",
       "      <td>-0.043466</td>\n",
       "      <td>0.114319</td>\n",
       "      <td>0.011028</td>\n",
       "      <td>0.124176</td>\n",
       "      <td>...</td>\n",
       "      <td>-4.536553</td>\n",
       "      <td>0.397934</td>\n",
       "      <td>-0.785038</td>\n",
       "      <td>1.418068</td>\n",
       "      <td>-0.468916</td>\n",
       "      <td>1.142161</td>\n",
       "      <td>0.115733</td>\n",
       "      <td>1.235090</td>\n",
       "      <td>0.471478</td>\n",
       "      <td>2.429900</td>\n",
       "    </tr>\n",
       "    <tr>\n",
       "      <th>2021</th>\n",
       "      <td>-0.096760</td>\n",
       "      <td>0.035392</td>\n",
       "      <td>0.054161</td>\n",
       "      <td>-0.048509</td>\n",
       "      <td>0.106350</td>\n",
       "      <td>0.040053</td>\n",
       "      <td>0.067810</td>\n",
       "      <td>0.046401</td>\n",
       "      <td>0.370381</td>\n",
       "      <td>-0.061087</td>\n",
       "      <td>...</td>\n",
       "      <td>0.135191</td>\n",
       "      <td>-0.127452</td>\n",
       "      <td>0.259044</td>\n",
       "      <td>0.100658</td>\n",
       "      <td>0.168165</td>\n",
       "      <td>0.116254</td>\n",
       "      <td>0.807609</td>\n",
       "      <td>-0.161559</td>\n",
       "      <td>-0.214105</td>\n",
       "      <td>0.087889</td>\n",
       "    </tr>\n",
       "    <tr>\n",
       "      <th>2022</th>\n",
       "      <td>0.062660</td>\n",
       "      <td>-0.009391</td>\n",
       "      <td>0.035990</td>\n",
       "      <td>0.021706</td>\n",
       "      <td>-0.160896</td>\n",
       "      <td>-0.084518</td>\n",
       "      <td>0.238590</td>\n",
       "      <td>0.106246</td>\n",
       "      <td>-0.088444</td>\n",
       "      <td>0.007464</td>\n",
       "      <td>...</td>\n",
       "      <td>3.230524</td>\n",
       "      <td>1.961977</td>\n",
       "      <td>-16.027764</td>\n",
       "      <td>-8.068170</td>\n",
       "      <td>19.550361</td>\n",
       "      <td>9.225641</td>\n",
       "      <td>-8.460893</td>\n",
       "      <td>0.679398</td>\n",
       "      <td>-0.074140</td>\n",
       "      <td>-5.707731</td>\n",
       "    </tr>\n",
       "    <tr>\n",
       "      <th>2023</th>\n",
       "      <td>-0.054150</td>\n",
       "      <td>0.044400</td>\n",
       "      <td>-0.017261</td>\n",
       "      <td>0.086043</td>\n",
       "      <td>0.017102</td>\n",
       "      <td>0.062236</td>\n",
       "      <td>0.136830</td>\n",
       "      <td>0.001161</td>\n",
       "      <td>0.029888</td>\n",
       "      <td>-0.014294</td>\n",
       "      <td>...</td>\n",
       "      <td>-0.033865</td>\n",
       "      <td>0.160532</td>\n",
       "      <td>0.032980</td>\n",
       "      <td>0.117425</td>\n",
       "      <td>0.249419</td>\n",
       "      <td>0.002257</td>\n",
       "      <td>0.057277</td>\n",
       "      <td>-0.028001</td>\n",
       "      <td>0.407632</td>\n",
       "      <td>0.058128</td>\n",
       "    </tr>\n",
       "    <tr>\n",
       "      <th>2024</th>\n",
       "      <td>-0.082897</td>\n",
       "      <td>0.017080</td>\n",
       "      <td>0.097898</td>\n",
       "      <td>0.005082</td>\n",
       "      <td>0.228141</td>\n",
       "      <td>-0.028591</td>\n",
       "      <td>0.054736</td>\n",
       "      <td>-0.047329</td>\n",
       "      <td>0.067622</td>\n",
       "      <td>0.039425</td>\n",
       "      <td>...</td>\n",
       "      <td>0.195897</td>\n",
       "      <td>0.010632</td>\n",
       "      <td>0.431028</td>\n",
       "      <td>-0.060842</td>\n",
       "      <td>0.111774</td>\n",
       "      <td>-0.101695</td>\n",
       "      <td>0.137244</td>\n",
       "      <td>0.081103</td>\n",
       "      <td>0.044931</td>\n",
       "      <td>0.295910</td>\n",
       "    </tr>\n",
       "    <tr>\n",
       "      <th>2025</th>\n",
       "      <td>-0.214950</td>\n",
       "      <td>-0.181033</td>\n",
       "      <td>0.102998</td>\n",
       "      <td>0.002565</td>\n",
       "      <td>0.065108</td>\n",
       "      <td>0.091221</td>\n",
       "      <td>-0.143594</td>\n",
       "      <td>-0.009938</td>\n",
       "      <td>NaN</td>\n",
       "      <td>NaN</td>\n",
       "      <td>...</td>\n",
       "      <td>-0.275561</td>\n",
       "      <td>-0.007201</td>\n",
       "      <td>-0.177303</td>\n",
       "      <td>-0.245388</td>\n",
       "      <td>0.435728</td>\n",
       "      <td>0.028075</td>\n",
       "      <td>NaN</td>\n",
       "      <td>NaN</td>\n",
       "      <td>NaN</td>\n",
       "      <td>NaN</td>\n",
       "    </tr>\n",
       "  </tbody>\n",
       "</table>\n",
       "<p>16 rows × 27 columns</p>\n",
       "</div>"
      ],
      "text/plain": [
       "month       Jan       Feb       Mar       Apr       May       Jun       Jul  \\\n",
       "year                                                                          \n",
       "2010        NaN       NaN       NaN       NaN       NaN       NaN       NaN   \n",
       "2011  -0.031684 -0.117148  0.164951  0.002357 -0.122649  0.077155 -0.007079   \n",
       "2012   0.200906  0.127605 -0.050863  0.013722 -0.056338 -0.048517 -0.049918   \n",
       "2013   0.010758 -0.053734 -0.065131 -0.053367 -0.042230 -0.153039  0.017068   \n",
       "2014  -0.129432 -0.069676  0.138450 -0.042854  0.160697  0.081734  0.002313   \n",
       "2015   0.010885  0.136452 -0.116651 -0.053983  0.139963 -0.106387 -0.032892   \n",
       "2016  -0.094378 -0.053032  0.057174  0.158592 -0.031451  0.001107  0.072613   \n",
       "2017   0.053835  0.039197  0.139125  0.078844 -0.050818 -0.051948  0.080095   \n",
       "2018   0.098919 -0.018249 -0.017143  0.076923 -0.073812 -0.058388  0.039279   \n",
       "2019   0.008620  0.114022  0.073988 -0.046429  0.106939  0.082005 -0.095457   \n",
       "2020   0.028079 -0.065255 -0.349446  0.038432 -0.071698  0.143840 -0.043466   \n",
       "2021  -0.096760  0.035392  0.054161 -0.048509  0.106350  0.040053  0.067810   \n",
       "2022   0.062660 -0.009391  0.035990  0.021706 -0.160896 -0.084518  0.238590   \n",
       "2023  -0.054150  0.044400 -0.017261  0.086043  0.017102  0.062236  0.136830   \n",
       "2024  -0.082897  0.017080  0.097898  0.005082  0.228141 -0.028591  0.054736   \n",
       "2025  -0.214950 -0.181033  0.102998  0.002565  0.065108  0.091221 -0.143594   \n",
       "\n",
       "month       Aug       Sep       Oct  ...  Mar_contrib  Apr_contrib  \\\n",
       "year                                 ...                             \n",
       "2010        NaN       NaN       NaN  ...          NaN          NaN   \n",
       "2011  -0.060180  0.033244  0.011660  ...    -0.789463    -0.012171   \n",
       "2012  -0.010811  0.158033  0.030766  ...    -0.160298     0.041849   \n",
       "2013  -0.164576  0.015616  0.112359  ...     0.339955     0.276834   \n",
       "2014  -0.081649 -0.079392  0.125229  ...     0.689553    -0.232918   \n",
       "2015  -0.145544  0.214810  0.046129  ...     3.521177     1.575415   \n",
       "2016   0.037114 -0.031975  0.207085  ...     0.538402     1.425480   \n",
       "2017  -0.013848  0.117715  0.120222  ...     0.264248     0.153952   \n",
       "2018  -0.111368 -0.079959  0.043762  ...     0.206695    -0.885830   \n",
       "2019   0.037256 -0.106259 -0.001379  ...     0.377398    -0.251361   \n",
       "2020   0.114319  0.011028  0.124176  ...    -4.536553     0.397934   \n",
       "2021   0.046401  0.370381 -0.061087  ...     0.135191    -0.127452   \n",
       "2022   0.106246 -0.088444  0.007464  ...     3.230524     1.961977   \n",
       "2023   0.001161  0.029888 -0.014294  ...    -0.033865     0.160532   \n",
       "2024  -0.047329  0.067622  0.039425  ...     0.195897     0.010632   \n",
       "2025  -0.009938       NaN       NaN  ...    -0.275561    -0.007201   \n",
       "\n",
       "month  May_contrib  Jun_contrib  Jul_contrib  Aug_contrib  Sep_contrib  \\\n",
       "year                                                                     \n",
       "2010           NaN          NaN          NaN          NaN          NaN   \n",
       "2011      0.676581    -0.384305     0.036733     0.320934    -0.169101   \n",
       "2012     -0.178065    -0.152718    -0.157244    -0.033378     0.450549   \n",
       "2013      0.217798     0.838427    -0.085429     0.907656    -0.078215   \n",
       "2014      0.792472     0.417802     0.012288    -0.452952    -0.439898   \n",
       "2015     -3.718783     3.193224     0.949460     4.465253    -5.524050   \n",
       "2016     -0.309453     0.010715     0.678798     0.352887    -0.314693   \n",
       "2017     -0.105801    -0.108218     0.156303    -0.028288     0.225758   \n",
       "2018      0.916545     0.719134    -0.460526     1.411349     0.996151   \n",
       "2019      0.537175     0.416720    -0.530447     0.193402    -0.593967   \n",
       "2020     -0.785038     1.418068    -0.468916     1.142161     0.115733   \n",
       "2021      0.259044     0.100658     0.168165     0.116254     0.807609   \n",
       "2022    -16.027764    -8.068170    19.550361     9.225641    -8.460893   \n",
       "2023      0.032980     0.117425     0.249419     0.002257     0.057277   \n",
       "2024      0.431028    -0.060842     0.111774    -0.101695     0.137244   \n",
       "2025     -0.177303    -0.245388     0.435728     0.028075          NaN   \n",
       "\n",
       "month  Oct_contrib  Nov_contrib  Dec_contrib  \n",
       "year                                          \n",
       "2010           NaN     0.393368     0.606632  \n",
       "2011     -0.059945     0.317476     0.252517  \n",
       "2012      0.093051     0.137454     0.027834  \n",
       "2013     -0.537495    -0.128500    -0.975807  \n",
       "2014      0.627438     0.390688     0.316703  \n",
       "2015     -1.280220     2.724603    -0.967527  \n",
       "2016      1.822536    -2.033641     0.316597  \n",
       "2017      0.230302     0.052513    -0.025138  \n",
       "2018     -0.511979    -0.631035     0.146863  \n",
       "2019     -0.007297     0.103291     0.138808  \n",
       "2020      1.235090     0.471478     2.429900  \n",
       "2021     -0.161559    -0.214105     0.087889  \n",
       "2022      0.679398    -0.074140    -5.707731  \n",
       "2023     -0.028001     0.407632     0.058128  \n",
       "2024      0.081103     0.044931     0.295910  \n",
       "2025           NaN          NaN          NaN  \n",
       "\n",
       "[16 rows x 27 columns]"
      ]
     },
     "execution_count": 51,
     "metadata": {},
     "output_type": "execute_result"
    }
   ],
   "source": [
    "# Problem Statement 5\n",
    "MONTHS = [\n",
    "    \"Jan\",\n",
    "    \"Feb\",\n",
    "    \"Mar\",\n",
    "    \"Apr\",\n",
    "    \"May\",\n",
    "    \"Jun\",\n",
    "    \"Jul\",\n",
    "    \"Aug\",\n",
    "    \"Sep\",\n",
    "    \"Oct\",\n",
    "    \"Nov\",\n",
    "    \"Dec\",\n",
    "]\n",
    "\n",
    "\n",
    "\n",
    "\n",
    "def add_monthly_contributions(df: pd.DataFrame):\n",
    "    def get_montly_contrib(monthly_series: pd.Series):\n",
    "        return np.log1p(monthly_series[MONTHS]) / np.log1p(\n",
    "            monthly_series[\"annual_returns\"]\n",
    "        )\n",
    "\n",
    "    contrib = df.apply(get_montly_contrib, axis=1).add_suffix(\"_contrib\")\n",
    "    globals()[\"contrib\"] = contrib\n",
    "    return df.join(contrib)\n",
    "\n",
    "\n",
    "result = (\n",
    "    stock_data.to_frame(\"close\")\n",
    "    .resample(\"ME\")\n",
    "    .last()\n",
    "    .assign(\n",
    "        month=lambda df_: df_.index.strftime(\"%b\"),  # type: ignore\n",
    "        year=lambda df_: df_.index.strftime(\"%Y\"),  # type: ignore\n",
    "        monthly_returns=lambda df_: df_[\"close\"].pct_change(),\n",
    "    )\n",
    "    .astype({\"month\": pd.CategoricalDtype(MONTHS, ordered=True)})\n",
    "    .pivot_table(index=\"year\", columns=\"month\", values=\"monthly_returns\", observed=True)\n",
    "    .assign(\n",
    "        annual_returns=lambda df_: df_.loc[:, \"Jan\":\"Dec\"].agg(\n",
    "            calc_annual_return, axis=1\n",
    "        ),\n",
    "        first_half_avg=lambda df_: df_.loc[:, \"Jan\":\"Jun\"].mean(axis=1),\n",
    "        second_half_avg=lambda df_: df_.loc[:, \"Jul\":\"Dec\"].mean(axis=1),\n",
    "    )\n",
    "    .pipe(add_monthly_contributions)\n",
    "    # [[*months[:6], \"first_half_avg\", *months[6:], \"second_half_avg\", \"annual_returns\"]]\n",
    ")\n",
    "\n",
    "result"
   ]
  },
  {
   "cell_type": "code",
   "execution_count": null,
   "id": "39c16ed7",
   "metadata": {},
   "outputs": [
    {
     "data": {
      "text/html": [
       "<div>\n",
       "<style scoped>\n",
       "    .dataframe tbody tr th:only-of-type {\n",
       "        vertical-align: middle;\n",
       "    }\n",
       "\n",
       "    .dataframe tbody tr th {\n",
       "        vertical-align: top;\n",
       "    }\n",
       "\n",
       "    .dataframe thead th {\n",
       "        text-align: right;\n",
       "    }\n",
       "</style>\n",
       "<table border=\"1\" class=\"dataframe\">\n",
       "  <thead>\n",
       "    <tr style=\"text-align: right;\">\n",
       "      <th>month</th>\n",
       "      <th>Jan</th>\n",
       "      <th>Feb</th>\n",
       "      <th>Mar</th>\n",
       "      <th>Apr</th>\n",
       "      <th>May</th>\n",
       "      <th>Jun</th>\n",
       "      <th>Jul</th>\n",
       "      <th>Aug</th>\n",
       "      <th>Sep</th>\n",
       "      <th>Oct</th>\n",
       "      <th>...</th>\n",
       "      <th>Mar_contrib</th>\n",
       "      <th>Apr_contrib</th>\n",
       "      <th>May_contrib</th>\n",
       "      <th>Jun_contrib</th>\n",
       "      <th>Jul_contrib</th>\n",
       "      <th>Aug_contrib</th>\n",
       "      <th>Sep_contrib</th>\n",
       "      <th>Oct_contrib</th>\n",
       "      <th>Nov_contrib</th>\n",
       "      <th>Dec_contrib</th>\n",
       "    </tr>\n",
       "  </thead>\n",
       "  <tbody>\n",
       "    <tr>\n",
       "      <th>2010</th>\n",
       "      <td>NaN</td>\n",
       "      <td>NaN</td>\n",
       "      <td>NaN</td>\n",
       "      <td>NaN</td>\n",
       "      <td>NaN</td>\n",
       "      <td>NaN</td>\n",
       "      <td>NaN</td>\n",
       "      <td>NaN</td>\n",
       "      <td>NaN</td>\n",
       "      <td>NaN</td>\n",
       "      <td>...</td>\n",
       "      <td>NaN</td>\n",
       "      <td>NaN</td>\n",
       "      <td>NaN</td>\n",
       "      <td>NaN</td>\n",
       "      <td>NaN</td>\n",
       "      <td>NaN</td>\n",
       "      <td>NaN</td>\n",
       "      <td>NaN</td>\n",
       "      <td>0.393368</td>\n",
       "      <td>0.606632</td>\n",
       "    </tr>\n",
       "    <tr>\n",
       "      <th>2011</th>\n",
       "      <td>-0.031684</td>\n",
       "      <td>-0.117148</td>\n",
       "      <td>0.164951</td>\n",
       "      <td>0.002357</td>\n",
       "      <td>-0.122649</td>\n",
       "      <td>0.077155</td>\n",
       "      <td>-0.007079</td>\n",
       "      <td>-0.060180</td>\n",
       "      <td>0.033244</td>\n",
       "      <td>0.011660</td>\n",
       "      <td>...</td>\n",
       "      <td>-0.789463</td>\n",
       "      <td>-0.012171</td>\n",
       "      <td>0.676581</td>\n",
       "      <td>-0.384305</td>\n",
       "      <td>0.036733</td>\n",
       "      <td>0.320934</td>\n",
       "      <td>-0.169101</td>\n",
       "      <td>-0.059945</td>\n",
       "      <td>0.317476</td>\n",
       "      <td>0.252517</td>\n",
       "    </tr>\n",
       "    <tr>\n",
       "      <th>2012</th>\n",
       "      <td>0.200906</td>\n",
       "      <td>0.127605</td>\n",
       "      <td>-0.050863</td>\n",
       "      <td>0.013722</td>\n",
       "      <td>-0.056338</td>\n",
       "      <td>-0.048517</td>\n",
       "      <td>-0.049918</td>\n",
       "      <td>-0.010811</td>\n",
       "      <td>0.158033</td>\n",
       "      <td>0.030766</td>\n",
       "      <td>...</td>\n",
       "      <td>-0.160298</td>\n",
       "      <td>0.041849</td>\n",
       "      <td>-0.178065</td>\n",
       "      <td>-0.152718</td>\n",
       "      <td>-0.157244</td>\n",
       "      <td>-0.033378</td>\n",
       "      <td>0.450549</td>\n",
       "      <td>0.093051</td>\n",
       "      <td>0.137454</td>\n",
       "      <td>0.027834</td>\n",
       "    </tr>\n",
       "    <tr>\n",
       "      <th>2013</th>\n",
       "      <td>0.010758</td>\n",
       "      <td>-0.053734</td>\n",
       "      <td>-0.065131</td>\n",
       "      <td>-0.053367</td>\n",
       "      <td>-0.042230</td>\n",
       "      <td>-0.153039</td>\n",
       "      <td>0.017068</td>\n",
       "      <td>-0.164576</td>\n",
       "      <td>0.015616</td>\n",
       "      <td>0.112359</td>\n",
       "      <td>...</td>\n",
       "      <td>0.339955</td>\n",
       "      <td>0.276834</td>\n",
       "      <td>0.217798</td>\n",
       "      <td>0.838427</td>\n",
       "      <td>-0.085429</td>\n",
       "      <td>0.907656</td>\n",
       "      <td>-0.078215</td>\n",
       "      <td>-0.537495</td>\n",
       "      <td>-0.128500</td>\n",
       "      <td>-0.975807</td>\n",
       "    </tr>\n",
       "    <tr>\n",
       "      <th>2014</th>\n",
       "      <td>-0.129432</td>\n",
       "      <td>-0.069676</td>\n",
       "      <td>0.138450</td>\n",
       "      <td>-0.042854</td>\n",
       "      <td>0.160697</td>\n",
       "      <td>0.081734</td>\n",
       "      <td>0.002313</td>\n",
       "      <td>-0.081649</td>\n",
       "      <td>-0.079392</td>\n",
       "      <td>0.125229</td>\n",
       "      <td>...</td>\n",
       "      <td>0.689553</td>\n",
       "      <td>-0.232918</td>\n",
       "      <td>0.792472</td>\n",
       "      <td>0.417802</td>\n",
       "      <td>0.012288</td>\n",
       "      <td>-0.452952</td>\n",
       "      <td>-0.439898</td>\n",
       "      <td>0.627438</td>\n",
       "      <td>0.390688</td>\n",
       "      <td>0.316703</td>\n",
       "    </tr>\n",
       "    <tr>\n",
       "      <th>2015</th>\n",
       "      <td>0.010885</td>\n",
       "      <td>0.136452</td>\n",
       "      <td>-0.116651</td>\n",
       "      <td>-0.053983</td>\n",
       "      <td>0.139963</td>\n",
       "      <td>-0.106387</td>\n",
       "      <td>-0.032892</td>\n",
       "      <td>-0.145544</td>\n",
       "      <td>0.214810</td>\n",
       "      <td>0.046129</td>\n",
       "      <td>...</td>\n",
       "      <td>3.521177</td>\n",
       "      <td>1.575415</td>\n",
       "      <td>-3.718783</td>\n",
       "      <td>3.193224</td>\n",
       "      <td>0.949460</td>\n",
       "      <td>4.465253</td>\n",
       "      <td>-5.524050</td>\n",
       "      <td>-1.280220</td>\n",
       "      <td>2.724603</td>\n",
       "      <td>-0.967527</td>\n",
       "    </tr>\n",
       "    <tr>\n",
       "      <th>2016</th>\n",
       "      <td>-0.094378</td>\n",
       "      <td>-0.053032</td>\n",
       "      <td>0.057174</td>\n",
       "      <td>0.158592</td>\n",
       "      <td>-0.031451</td>\n",
       "      <td>0.001107</td>\n",
       "      <td>0.072613</td>\n",
       "      <td>0.037114</td>\n",
       "      <td>-0.031975</td>\n",
       "      <td>0.207085</td>\n",
       "      <td>...</td>\n",
       "      <td>0.538402</td>\n",
       "      <td>1.425480</td>\n",
       "      <td>-0.309453</td>\n",
       "      <td>0.010715</td>\n",
       "      <td>0.678798</td>\n",
       "      <td>0.352887</td>\n",
       "      <td>-0.314693</td>\n",
       "      <td>1.822536</td>\n",
       "      <td>-2.033641</td>\n",
       "      <td>0.316597</td>\n",
       "    </tr>\n",
       "    <tr>\n",
       "      <th>2017</th>\n",
       "      <td>0.053835</td>\n",
       "      <td>0.039197</td>\n",
       "      <td>0.139125</td>\n",
       "      <td>0.078844</td>\n",
       "      <td>-0.050818</td>\n",
       "      <td>-0.051948</td>\n",
       "      <td>0.080095</td>\n",
       "      <td>-0.013848</td>\n",
       "      <td>0.117715</td>\n",
       "      <td>0.120222</td>\n",
       "      <td>...</td>\n",
       "      <td>0.264248</td>\n",
       "      <td>0.153952</td>\n",
       "      <td>-0.105801</td>\n",
       "      <td>-0.108218</td>\n",
       "      <td>0.156303</td>\n",
       "      <td>-0.028288</td>\n",
       "      <td>0.225758</td>\n",
       "      <td>0.230302</td>\n",
       "      <td>0.052513</td>\n",
       "      <td>-0.025138</td>\n",
       "    </tr>\n",
       "    <tr>\n",
       "      <th>2018</th>\n",
       "      <td>0.098919</td>\n",
       "      <td>-0.018249</td>\n",
       "      <td>-0.017143</td>\n",
       "      <td>0.076923</td>\n",
       "      <td>-0.073812</td>\n",
       "      <td>-0.058388</td>\n",
       "      <td>0.039279</td>\n",
       "      <td>-0.111368</td>\n",
       "      <td>-0.079959</td>\n",
       "      <td>0.043762</td>\n",
       "      <td>...</td>\n",
       "      <td>0.206695</td>\n",
       "      <td>-0.885830</td>\n",
       "      <td>0.916545</td>\n",
       "      <td>0.719134</td>\n",
       "      <td>-0.460526</td>\n",
       "      <td>1.411349</td>\n",
       "      <td>0.996151</td>\n",
       "      <td>-0.511979</td>\n",
       "      <td>-0.631035</td>\n",
       "      <td>0.146863</td>\n",
       "    </tr>\n",
       "    <tr>\n",
       "      <th>2019</th>\n",
       "      <td>0.008620</td>\n",
       "      <td>0.114022</td>\n",
       "      <td>0.073988</td>\n",
       "      <td>-0.046429</td>\n",
       "      <td>0.106939</td>\n",
       "      <td>0.082005</td>\n",
       "      <td>-0.095457</td>\n",
       "      <td>0.037256</td>\n",
       "      <td>-0.106259</td>\n",
       "      <td>-0.001379</td>\n",
       "      <td>...</td>\n",
       "      <td>0.377398</td>\n",
       "      <td>-0.251361</td>\n",
       "      <td>0.537175</td>\n",
       "      <td>0.416720</td>\n",
       "      <td>-0.530447</td>\n",
       "      <td>0.193402</td>\n",
       "      <td>-0.593967</td>\n",
       "      <td>-0.007297</td>\n",
       "      <td>0.103291</td>\n",
       "      <td>0.138808</td>\n",
       "    </tr>\n",
       "    <tr>\n",
       "      <th>2020</th>\n",
       "      <td>0.028079</td>\n",
       "      <td>-0.065255</td>\n",
       "      <td>-0.349446</td>\n",
       "      <td>0.038432</td>\n",
       "      <td>-0.071698</td>\n",
       "      <td>0.143840</td>\n",
       "      <td>-0.043466</td>\n",
       "      <td>0.114319</td>\n",
       "      <td>0.011028</td>\n",
       "      <td>0.124176</td>\n",
       "      <td>...</td>\n",
       "      <td>-4.536553</td>\n",
       "      <td>0.397934</td>\n",
       "      <td>-0.785038</td>\n",
       "      <td>1.418068</td>\n",
       "      <td>-0.468916</td>\n",
       "      <td>1.142161</td>\n",
       "      <td>0.115733</td>\n",
       "      <td>1.235090</td>\n",
       "      <td>0.471478</td>\n",
       "      <td>2.429900</td>\n",
       "    </tr>\n",
       "    <tr>\n",
       "      <th>2021</th>\n",
       "      <td>-0.096760</td>\n",
       "      <td>0.035392</td>\n",
       "      <td>0.054161</td>\n",
       "      <td>-0.048509</td>\n",
       "      <td>0.106350</td>\n",
       "      <td>0.040053</td>\n",
       "      <td>0.067810</td>\n",
       "      <td>0.046401</td>\n",
       "      <td>0.370381</td>\n",
       "      <td>-0.061087</td>\n",
       "      <td>...</td>\n",
       "      <td>0.135191</td>\n",
       "      <td>-0.127452</td>\n",
       "      <td>0.259044</td>\n",
       "      <td>0.100658</td>\n",
       "      <td>0.168165</td>\n",
       "      <td>0.116254</td>\n",
       "      <td>0.807609</td>\n",
       "      <td>-0.161559</td>\n",
       "      <td>-0.214105</td>\n",
       "      <td>0.087889</td>\n",
       "    </tr>\n",
       "    <tr>\n",
       "      <th>2022</th>\n",
       "      <td>0.062660</td>\n",
       "      <td>-0.009391</td>\n",
       "      <td>0.035990</td>\n",
       "      <td>0.021706</td>\n",
       "      <td>-0.160896</td>\n",
       "      <td>-0.084518</td>\n",
       "      <td>0.238590</td>\n",
       "      <td>0.106246</td>\n",
       "      <td>-0.088444</td>\n",
       "      <td>0.007464</td>\n",
       "      <td>...</td>\n",
       "      <td>3.230524</td>\n",
       "      <td>1.961977</td>\n",
       "      <td>-16.027764</td>\n",
       "      <td>-8.068170</td>\n",
       "      <td>19.550361</td>\n",
       "      <td>9.225641</td>\n",
       "      <td>-8.460893</td>\n",
       "      <td>0.679398</td>\n",
       "      <td>-0.074140</td>\n",
       "      <td>-5.707731</td>\n",
       "    </tr>\n",
       "    <tr>\n",
       "      <th>2023</th>\n",
       "      <td>-0.054150</td>\n",
       "      <td>0.044400</td>\n",
       "      <td>-0.017261</td>\n",
       "      <td>0.086043</td>\n",
       "      <td>0.017102</td>\n",
       "      <td>0.062236</td>\n",
       "      <td>0.136830</td>\n",
       "      <td>0.001161</td>\n",
       "      <td>0.029888</td>\n",
       "      <td>-0.014294</td>\n",
       "      <td>...</td>\n",
       "      <td>-0.033865</td>\n",
       "      <td>0.160532</td>\n",
       "      <td>0.032980</td>\n",
       "      <td>0.117425</td>\n",
       "      <td>0.249419</td>\n",
       "      <td>0.002257</td>\n",
       "      <td>0.057277</td>\n",
       "      <td>-0.028001</td>\n",
       "      <td>0.407632</td>\n",
       "      <td>0.058128</td>\n",
       "    </tr>\n",
       "    <tr>\n",
       "      <th>2024</th>\n",
       "      <td>-0.082897</td>\n",
       "      <td>0.017080</td>\n",
       "      <td>0.097898</td>\n",
       "      <td>0.005082</td>\n",
       "      <td>0.228141</td>\n",
       "      <td>-0.028591</td>\n",
       "      <td>0.054736</td>\n",
       "      <td>-0.047329</td>\n",
       "      <td>0.067622</td>\n",
       "      <td>0.039425</td>\n",
       "      <td>...</td>\n",
       "      <td>0.195897</td>\n",
       "      <td>0.010632</td>\n",
       "      <td>0.431028</td>\n",
       "      <td>-0.060842</td>\n",
       "      <td>0.111774</td>\n",
       "      <td>-0.101695</td>\n",
       "      <td>0.137244</td>\n",
       "      <td>0.081103</td>\n",
       "      <td>0.044931</td>\n",
       "      <td>0.295910</td>\n",
       "    </tr>\n",
       "    <tr>\n",
       "      <th>2025</th>\n",
       "      <td>-0.214950</td>\n",
       "      <td>-0.181033</td>\n",
       "      <td>0.102998</td>\n",
       "      <td>0.002565</td>\n",
       "      <td>0.065108</td>\n",
       "      <td>0.091221</td>\n",
       "      <td>-0.143594</td>\n",
       "      <td>-0.009938</td>\n",
       "      <td>NaN</td>\n",
       "      <td>NaN</td>\n",
       "      <td>...</td>\n",
       "      <td>-0.275561</td>\n",
       "      <td>-0.007201</td>\n",
       "      <td>-0.177303</td>\n",
       "      <td>-0.245388</td>\n",
       "      <td>0.435728</td>\n",
       "      <td>0.028075</td>\n",
       "      <td>NaN</td>\n",
       "      <td>NaN</td>\n",
       "      <td>NaN</td>\n",
       "      <td>NaN</td>\n",
       "    </tr>\n",
       "    <tr>\n",
       "      <th>montly_avg</th>\n",
       "      <td>-0.015306</td>\n",
       "      <td>-0.003558</td>\n",
       "      <td>0.016549</td>\n",
       "      <td>0.015942</td>\n",
       "      <td>0.014294</td>\n",
       "      <td>0.003198</td>\n",
       "      <td>0.022462</td>\n",
       "      <td>-0.020183</td>\n",
       "      <td>0.045165</td>\n",
       "      <td>0.056537</td>\n",
       "      <td>...</td>\n",
       "      <td>NaN</td>\n",
       "      <td>NaN</td>\n",
       "      <td>NaN</td>\n",
       "      <td>NaN</td>\n",
       "      <td>NaN</td>\n",
       "      <td>NaN</td>\n",
       "      <td>NaN</td>\n",
       "      <td>NaN</td>\n",
       "      <td>NaN</td>\n",
       "      <td>NaN</td>\n",
       "    </tr>\n",
       "  </tbody>\n",
       "</table>\n",
       "<p>17 rows × 27 columns</p>\n",
       "</div>"
      ],
      "text/plain": [
       "month            Jan       Feb       Mar       Apr       May       Jun  \\\n",
       "2010             NaN       NaN       NaN       NaN       NaN       NaN   \n",
       "2011       -0.031684 -0.117148  0.164951  0.002357 -0.122649  0.077155   \n",
       "2012        0.200906  0.127605 -0.050863  0.013722 -0.056338 -0.048517   \n",
       "2013        0.010758 -0.053734 -0.065131 -0.053367 -0.042230 -0.153039   \n",
       "2014       -0.129432 -0.069676  0.138450 -0.042854  0.160697  0.081734   \n",
       "2015        0.010885  0.136452 -0.116651 -0.053983  0.139963 -0.106387   \n",
       "2016       -0.094378 -0.053032  0.057174  0.158592 -0.031451  0.001107   \n",
       "2017        0.053835  0.039197  0.139125  0.078844 -0.050818 -0.051948   \n",
       "2018        0.098919 -0.018249 -0.017143  0.076923 -0.073812 -0.058388   \n",
       "2019        0.008620  0.114022  0.073988 -0.046429  0.106939  0.082005   \n",
       "2020        0.028079 -0.065255 -0.349446  0.038432 -0.071698  0.143840   \n",
       "2021       -0.096760  0.035392  0.054161 -0.048509  0.106350  0.040053   \n",
       "2022        0.062660 -0.009391  0.035990  0.021706 -0.160896 -0.084518   \n",
       "2023       -0.054150  0.044400 -0.017261  0.086043  0.017102  0.062236   \n",
       "2024       -0.082897  0.017080  0.097898  0.005082  0.228141 -0.028591   \n",
       "2025       -0.214950 -0.181033  0.102998  0.002565  0.065108  0.091221   \n",
       "montly_avg -0.015306 -0.003558  0.016549  0.015942  0.014294  0.003198   \n",
       "\n",
       "month            Jul       Aug       Sep       Oct  ...  Mar_contrib  \\\n",
       "2010             NaN       NaN       NaN       NaN  ...          NaN   \n",
       "2011       -0.007079 -0.060180  0.033244  0.011660  ...    -0.789463   \n",
       "2012       -0.049918 -0.010811  0.158033  0.030766  ...    -0.160298   \n",
       "2013        0.017068 -0.164576  0.015616  0.112359  ...     0.339955   \n",
       "2014        0.002313 -0.081649 -0.079392  0.125229  ...     0.689553   \n",
       "2015       -0.032892 -0.145544  0.214810  0.046129  ...     3.521177   \n",
       "2016        0.072613  0.037114 -0.031975  0.207085  ...     0.538402   \n",
       "2017        0.080095 -0.013848  0.117715  0.120222  ...     0.264248   \n",
       "2018        0.039279 -0.111368 -0.079959  0.043762  ...     0.206695   \n",
       "2019       -0.095457  0.037256 -0.106259 -0.001379  ...     0.377398   \n",
       "2020       -0.043466  0.114319  0.011028  0.124176  ...    -4.536553   \n",
       "2021        0.067810  0.046401  0.370381 -0.061087  ...     0.135191   \n",
       "2022        0.238590  0.106246 -0.088444  0.007464  ...     3.230524   \n",
       "2023        0.136830  0.001161  0.029888 -0.014294  ...    -0.033865   \n",
       "2024        0.054736 -0.047329  0.067622  0.039425  ...     0.195897   \n",
       "2025       -0.143594 -0.009938       NaN       NaN  ...    -0.275561   \n",
       "montly_avg  0.022462 -0.020183  0.045165  0.056537  ...          NaN   \n",
       "\n",
       "month       Apr_contrib  May_contrib  Jun_contrib  Jul_contrib  Aug_contrib  \\\n",
       "2010                NaN          NaN          NaN          NaN          NaN   \n",
       "2011          -0.012171     0.676581    -0.384305     0.036733     0.320934   \n",
       "2012           0.041849    -0.178065    -0.152718    -0.157244    -0.033378   \n",
       "2013           0.276834     0.217798     0.838427    -0.085429     0.907656   \n",
       "2014          -0.232918     0.792472     0.417802     0.012288    -0.452952   \n",
       "2015           1.575415    -3.718783     3.193224     0.949460     4.465253   \n",
       "2016           1.425480    -0.309453     0.010715     0.678798     0.352887   \n",
       "2017           0.153952    -0.105801    -0.108218     0.156303    -0.028288   \n",
       "2018          -0.885830     0.916545     0.719134    -0.460526     1.411349   \n",
       "2019          -0.251361     0.537175     0.416720    -0.530447     0.193402   \n",
       "2020           0.397934    -0.785038     1.418068    -0.468916     1.142161   \n",
       "2021          -0.127452     0.259044     0.100658     0.168165     0.116254   \n",
       "2022           1.961977   -16.027764    -8.068170    19.550361     9.225641   \n",
       "2023           0.160532     0.032980     0.117425     0.249419     0.002257   \n",
       "2024           0.010632     0.431028    -0.060842     0.111774    -0.101695   \n",
       "2025          -0.007201    -0.177303    -0.245388     0.435728     0.028075   \n",
       "montly_avg          NaN          NaN          NaN          NaN          NaN   \n",
       "\n",
       "month       Sep_contrib  Oct_contrib  Nov_contrib  Dec_contrib  \n",
       "2010                NaN          NaN     0.393368     0.606632  \n",
       "2011          -0.169101    -0.059945     0.317476     0.252517  \n",
       "2012           0.450549     0.093051     0.137454     0.027834  \n",
       "2013          -0.078215    -0.537495    -0.128500    -0.975807  \n",
       "2014          -0.439898     0.627438     0.390688     0.316703  \n",
       "2015          -5.524050    -1.280220     2.724603    -0.967527  \n",
       "2016          -0.314693     1.822536    -2.033641     0.316597  \n",
       "2017           0.225758     0.230302     0.052513    -0.025138  \n",
       "2018           0.996151    -0.511979    -0.631035     0.146863  \n",
       "2019          -0.593967    -0.007297     0.103291     0.138808  \n",
       "2020           0.115733     1.235090     0.471478     2.429900  \n",
       "2021           0.807609    -0.161559    -0.214105     0.087889  \n",
       "2022          -8.460893     0.679398    -0.074140    -5.707731  \n",
       "2023           0.057277    -0.028001     0.407632     0.058128  \n",
       "2024           0.137244     0.081103     0.044931     0.295910  \n",
       "2025                NaN          NaN          NaN          NaN  \n",
       "montly_avg          NaN          NaN          NaN          NaN  \n",
       "\n",
       "[17 rows x 27 columns]"
      ]
     },
     "execution_count": 52,
     "metadata": {},
     "output_type": "execute_result"
    }
   ],
   "source": [
    "# Problem Statement 6\n",
    "MONTHS = [\n",
    "    \"Jan\",\n",
    "    \"Feb\",\n",
    "    \"Mar\",\n",
    "    \"Apr\",\n",
    "    \"May\",\n",
    "    \"Jun\",\n",
    "    \"Jul\",\n",
    "    \"Aug\",\n",
    "    \"Sep\",\n",
    "    \"Oct\",\n",
    "    \"Nov\",\n",
    "    \"Dec\",\n",
    "]\n",
    "\n",
    "\n",
    "\n",
    "def add_monthly_contributions(df: pd.DataFrame):\n",
    "    def get_monthly_contrib(monthly_series: pd.Series):\n",
    "        return np.log1p(monthly_series[MONTHS]) / np.log1p(\n",
    "            monthly_series[\"annual_returns\"]\n",
    "        )\n",
    "\n",
    "    contrib = df.apply(get_monthly_contrib, axis=1).add_suffix(\"_contrib\")\n",
    "    globals()[\"contrib\"] = contrib\n",
    "    return df.join(contrib)\n",
    "\n",
    "\n",
    "def add_avg_monthly_return(df: pd.DataFrame):\n",
    "    avg_monthly_returns = (\n",
    "        df[MONTHS].mean(axis=0).rename(\"monthly_avg\").to_frame().transpose()\n",
    "    )\n",
    "    return pd.concat([df, avg_monthly_returns])\n",
    "\n",
    "\n",
    "result = (\n",
    "    stock_data.to_frame(\"close\")\n",
    "    .resample(\"ME\")\n",
    "    .last()\n",
    "    .assign(\n",
    "        month=lambda df_: df_.index.strftime(\"%b\"),  # type: ignore\n",
    "        year=lambda df_: df_.index.strftime(\"%Y\"),  # type: ignore\n",
    "        monthly_returns=lambda df_: df_[\"close\"].pct_change(),\n",
    "    )\n",
    "    .astype({\"month\": pd.CategoricalDtype(MONTHS, ordered=True)})\n",
    "    .pivot_table(index=\"year\", columns=\"month\", values=\"monthly_returns\", observed=True)\n",
    "    .assign(\n",
    "        annual_returns=lambda df_: df_.loc[:, \"Jan\":\"Dec\"].agg(\n",
    "            calc_annual_return, axis=1\n",
    "        ),\n",
    "        first_half_avg=lambda df_: df_.loc[:, \"Jan\":\"Jun\"].mean(axis=1),\n",
    "        second_half_avg=lambda df_: df_.loc[:, \"Jul\":\"Dec\"].mean(axis=1),\n",
    "    )\n",
    "    .pipe(add_monthly_contributions)\n",
    "    .pipe(add_avg_monthly_return)\n",
    "    # [months]\n",
    "    # .mean()\n",
    "    # .rename(\"avg_return\")\n",
    "    # .to_frame()\n",
    "    # .transpose()\n",
    "    # [[*months[:6], \"first_half_avg\", *months[6:], \"second_half_avg\", \"annual_returns\"]]\n",
    ")\n",
    "result"
   ]
  },
  {
   "cell_type": "code",
   "execution_count": null,
   "id": "8c2f8f81",
   "metadata": {},
   "outputs": [],
   "source": [
    "# Problem Statement 5\n",
    "MONTHS = [\n",
    "    \"Jan\",\n",
    "    \"Feb\",\n",
    "    \"Mar\",\n",
    "    \"Apr\",\n",
    "    \"May\",\n",
    "    \"Jun\",\n",
    "    \"Jul\",\n",
    "    \"Aug\",\n",
    "    \"Sep\",\n",
    "    \"Oct\",\n",
    "    \"Nov\",\n",
    "    \"Dec\",\n",
    "]\n",
    "\n",
    "\n",
    "def calc_annual_return(monthly_returns: pd.Series):\n",
    "    return monthly_returns.add(1, fill_value=0.0).prod() - 1.0  # type: ignore\n",
    "\n",
    "\n",
    "def add_monthly_contributions(df: pd.DataFrame):\n",
    "    def get_montly_contrib(monthly_series: pd.Series):\n",
    "        return np.log1p(monthly_series[MONTHS]) / np.log1p(\n",
    "            monthly_series[\"annual_returns\"]\n",
    "        )\n",
    "\n",
    "    contrib = df.apply(get_montly_contrib, axis=1).add_suffix(\"_contrib\")\n",
    "    return df.join(contrib)\n",
    "\n",
    "\n",
    "def add_avg_monthly_return(df: pd.DataFrame):\n",
    "    avg_monthly_returns = (\n",
    "        df[MONTHS].mean(axis=0).rename(\"montly_avg\").to_frame().transpose()\n",
    "    )\n",
    "    return pd.concat([df, avg_monthly_returns])\n",
    "\n",
    "\n",
    "def get_monthly_analysis(stock_data: pd.Series):\n",
    "    return (\n",
    "        stock_data.to_frame(\"close\")\n",
    "        .resample(\"ME\")\n",
    "        .last()\n",
    "        .assign(\n",
    "            month=lambda df_: df_.index.strftime(\"%b\"),  # type: ignore\n",
    "            year=lambda df_: df_.index.strftime(\"%Y\"),  # type: ignore\n",
    "            monthly_returns=lambda df_: df_[\"close\"].pct_change(),\n",
    "        )\n",
    "        .astype({\"month\": pd.CategoricalDtype(MONTHS, ordered=True)})\n",
    "        .pivot_table(\n",
    "            index=\"year\", columns=\"month\", values=\"monthly_returns\", observed=True\n",
    "        )\n",
    "        .assign(\n",
    "            annual_returns=lambda df_: df_.loc[:, \"Jan\":\"Dec\"].agg(\n",
    "                calc_annual_return, axis=1\n",
    "            ),\n",
    "            first_half_avg=lambda df_: df_.loc[:, \"Jan\":\"Jun\"].mean(axis=1),\n",
    "            second_half_avg=lambda df_: df_.loc[:, \"Jul\":\"Dec\"].mean(axis=1),\n",
    "        )\n",
    "        .pipe(add_monthly_contributions)\n",
    "        .pipe(add_avg_monthly_return)\n",
    "    )"
   ]
  }
 ],
 "metadata": {
  "kernelspec": {
   "display_name": "price-action-analysis",
   "language": "python",
   "name": "python3"
  },
  "language_info": {
   "codemirror_mode": {
    "name": "ipython",
    "version": 3
   },
   "file_extension": ".py",
   "mimetype": "text/x-python",
   "name": "python",
   "nbconvert_exporter": "python",
   "pygments_lexer": "ipython3",
   "version": "3.12.11"
  }
 },
 "nbformat": 4,
 "nbformat_minor": 5
}
